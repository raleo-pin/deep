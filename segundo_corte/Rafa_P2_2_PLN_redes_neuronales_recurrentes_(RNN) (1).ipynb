{
  "nbformat": 4,
  "nbformat_minor": 0,
  "metadata": {
    "colab": {
      "name": "Rafa_P2_2_PLN_redes_neuronales_recurrentes_(RNN).ipynb",
      "provenance": [],
      "collapsed_sections": [
        "uIkOBKGAP0y-",
        "hFDzT0NtUpua",
        "SmC4IO8rg5TV"
      ]
    },
    "kernelspec": {
      "display_name": "Python 3",
      "name": "python3"
    },
    "language_info": {
      "name": "python"
    }
  },
  "cells": [
    {
      "cell_type": "markdown",
      "metadata": {
        "id": "w8jPcr-tb-a5"
      },
      "source": [
        "#P0. Introducción -PLN\n",
        "\n",
        "---\n",
        "\n",
        "En la creación de redes neuronales necesitamos dos tipos de IA, para reconocer patrones o generar nuevos:\n",
        "\n",
        "*   Las que no tienen memoria, identifica el patrón y ya!...ejemplo las de visión artificial\n",
        "*   Las de memoria corta (Long Short Term Memory)...PLN\n",
        "*   Las que requieren mucha memoria (aprenden casi todo...BERT)...PLN y visión artificial.\n",
        "\n"
      ]
    },
    {
      "cell_type": "markdown",
      "metadata": {
        "id": "NyasC25K4L-Y"
      },
      "source": [
        "**Caso de estudio: generación de texto**\n",
        "\n",
        "---\n",
        "\n",
        "\n",
        "Cualquier dato que se necesite procesar (sonido, imágenes, texto) primero debe ser convertido en un tensor numérico, un paso llamado “vectorización” (One-hot Encoding y WordEmbedding) de datos (y en nuestro ejemplo previamente las letras deben ser pasadas a valores numéricos "
      ]
    },
    {
      "cell_type": "markdown",
      "metadata": {
        "id": "u1OVaNED56Fz"
      },
      "source": [
        "Para este ejemplo usaremos “*Character level language model*” propuesto por Andrej Karpathy en su artículo \"*The Unreasonable Effectiveness of Recurrent Neural Networks*\"(y parcialmente basado en su implementado en el tutorial \"*Generate text with an RNN*\" de la web de TensorFlow:\n",
        "\n",
        "Consiste en darle a la RNN una palabra y se le pide que modele la distribución de probabilidad del siguiente carácter que le correspondería a la secuencia de caracteres anteriores:\n",
        "\n",
        "Como ejemplo, supongamos que solo tenemos un vocabulario de cuatro letras posibles [“a”,”h”,”l”,”o”], y queremos entrenar a una RNN en la secuencia de entrenamiento “hola”. Esta secuencia de entrenamiento es, de hecho, una fuente de 3 ejemplos de entrenamiento por separado: La probabilidad de “o” debería ser verosímil dada el contexto de “h”, “l” debería ser verosímil en el contexto de “ho”, y finalmente “a” debería ser también verosímil dado el contexto de “hol”.\n",
        "\n",
        "\n",
        "---\n",
        "*   https://unipython.com/generacion-de-textos-con-inteligencia-artificial/\n",
        "*    https://medium.com/analytics-vidhya/solution-to-tensorflow-2-not-using-gpu-119fb3e04daa (https://www.youtube.com/watch?v=kaQCdv46OBA&ab_channel=JeffHeaton)"
      ]
    },
    {
      "cell_type": "markdown",
      "metadata": {
        "id": "O5WVmMwYt7Uk"
      },
      "source": [
        "##P0. importar librerias"
      ]
    },
    {
      "cell_type": "code",
      "metadata": {
        "colab": {
          "base_uri": "https://localhost:8080/"
        },
        "id": "CJdVpcLu7R7y",
        "outputId": "0bbd6c53-3ff8-4e23-86d6-ccb204d96ae7"
      },
      "source": [
        "!pip install tensorflow-gpu"
      ],
      "execution_count": null,
      "outputs": [
        {
          "output_type": "stream",
          "name": "stdout",
          "text": [
            "Requirement already satisfied: tensorflow-gpu in /usr/local/lib/python3.7/dist-packages (2.7.0)\n",
            "Requirement already satisfied: keras-preprocessing>=1.1.1 in /usr/local/lib/python3.7/dist-packages (from tensorflow-gpu) (1.1.2)\n",
            "Requirement already satisfied: gast<0.5.0,>=0.2.1 in /usr/local/lib/python3.7/dist-packages (from tensorflow-gpu) (0.4.0)\n",
            "Requirement already satisfied: opt-einsum>=2.3.2 in /usr/local/lib/python3.7/dist-packages (from tensorflow-gpu) (3.3.0)\n",
            "Requirement already satisfied: protobuf>=3.9.2 in /usr/local/lib/python3.7/dist-packages (from tensorflow-gpu) (3.17.3)\n",
            "Requirement already satisfied: astunparse>=1.6.0 in /usr/local/lib/python3.7/dist-packages (from tensorflow-gpu) (1.6.3)\n",
            "Requirement already satisfied: termcolor>=1.1.0 in /usr/local/lib/python3.7/dist-packages (from tensorflow-gpu) (1.1.0)\n",
            "Requirement already satisfied: wrapt>=1.11.0 in /usr/local/lib/python3.7/dist-packages (from tensorflow-gpu) (1.13.3)\n",
            "Requirement already satisfied: typing-extensions>=3.6.6 in /usr/local/lib/python3.7/dist-packages (from tensorflow-gpu) (3.10.0.2)\n",
            "Requirement already satisfied: keras<2.8,>=2.7.0rc0 in /usr/local/lib/python3.7/dist-packages (from tensorflow-gpu) (2.7.0)\n",
            "Requirement already satisfied: numpy>=1.14.5 in /usr/local/lib/python3.7/dist-packages (from tensorflow-gpu) (1.19.5)\n",
            "Requirement already satisfied: flatbuffers<3.0,>=1.12 in /usr/local/lib/python3.7/dist-packages (from tensorflow-gpu) (2.0)\n",
            "Requirement already satisfied: tensorboard~=2.6 in /usr/local/lib/python3.7/dist-packages (from tensorflow-gpu) (2.7.0)\n",
            "Requirement already satisfied: libclang>=9.0.1 in /usr/local/lib/python3.7/dist-packages (from tensorflow-gpu) (12.0.0)\n",
            "Requirement already satisfied: wheel<1.0,>=0.32.0 in /usr/local/lib/python3.7/dist-packages (from tensorflow-gpu) (0.37.0)\n",
            "Requirement already satisfied: six>=1.12.0 in /usr/local/lib/python3.7/dist-packages (from tensorflow-gpu) (1.15.0)\n",
            "Requirement already satisfied: google-pasta>=0.1.1 in /usr/local/lib/python3.7/dist-packages (from tensorflow-gpu) (0.2.0)\n",
            "Requirement already satisfied: absl-py>=0.4.0 in /usr/local/lib/python3.7/dist-packages (from tensorflow-gpu) (0.12.0)\n",
            "Requirement already satisfied: tensorflow-estimator<2.8,~=2.7.0rc0 in /usr/local/lib/python3.7/dist-packages (from tensorflow-gpu) (2.7.0)\n",
            "Requirement already satisfied: grpcio<2.0,>=1.24.3 in /usr/local/lib/python3.7/dist-packages (from tensorflow-gpu) (1.42.0)\n",
            "Requirement already satisfied: h5py>=2.9.0 in /usr/local/lib/python3.7/dist-packages (from tensorflow-gpu) (3.1.0)\n",
            "Requirement already satisfied: tensorflow-io-gcs-filesystem>=0.21.0 in /usr/local/lib/python3.7/dist-packages (from tensorflow-gpu) (0.22.0)\n",
            "Requirement already satisfied: cached-property in /usr/local/lib/python3.7/dist-packages (from h5py>=2.9.0->tensorflow-gpu) (1.5.2)\n",
            "Requirement already satisfied: tensorboard-data-server<0.7.0,>=0.6.0 in /usr/local/lib/python3.7/dist-packages (from tensorboard~=2.6->tensorflow-gpu) (0.6.1)\n",
            "Requirement already satisfied: markdown>=2.6.8 in /usr/local/lib/python3.7/dist-packages (from tensorboard~=2.6->tensorflow-gpu) (3.3.6)\n",
            "Requirement already satisfied: requests<3,>=2.21.0 in /usr/local/lib/python3.7/dist-packages (from tensorboard~=2.6->tensorflow-gpu) (2.23.0)\n",
            "Requirement already satisfied: werkzeug>=0.11.15 in /usr/local/lib/python3.7/dist-packages (from tensorboard~=2.6->tensorflow-gpu) (1.0.1)\n",
            "Requirement already satisfied: google-auth-oauthlib<0.5,>=0.4.1 in /usr/local/lib/python3.7/dist-packages (from tensorboard~=2.6->tensorflow-gpu) (0.4.6)\n",
            "Requirement already satisfied: google-auth<3,>=1.6.3 in /usr/local/lib/python3.7/dist-packages (from tensorboard~=2.6->tensorflow-gpu) (1.35.0)\n",
            "Requirement already satisfied: tensorboard-plugin-wit>=1.6.0 in /usr/local/lib/python3.7/dist-packages (from tensorboard~=2.6->tensorflow-gpu) (1.8.0)\n",
            "Requirement already satisfied: setuptools>=41.0.0 in /usr/local/lib/python3.7/dist-packages (from tensorboard~=2.6->tensorflow-gpu) (57.4.0)\n",
            "Requirement already satisfied: pyasn1-modules>=0.2.1 in /usr/local/lib/python3.7/dist-packages (from google-auth<3,>=1.6.3->tensorboard~=2.6->tensorflow-gpu) (0.2.8)\n",
            "Requirement already satisfied: rsa<5,>=3.1.4 in /usr/local/lib/python3.7/dist-packages (from google-auth<3,>=1.6.3->tensorboard~=2.6->tensorflow-gpu) (4.7.2)\n",
            "Requirement already satisfied: cachetools<5.0,>=2.0.0 in /usr/local/lib/python3.7/dist-packages (from google-auth<3,>=1.6.3->tensorboard~=2.6->tensorflow-gpu) (4.2.4)\n",
            "Requirement already satisfied: requests-oauthlib>=0.7.0 in /usr/local/lib/python3.7/dist-packages (from google-auth-oauthlib<0.5,>=0.4.1->tensorboard~=2.6->tensorflow-gpu) (1.3.0)\n",
            "Requirement already satisfied: importlib-metadata>=4.4 in /usr/local/lib/python3.7/dist-packages (from markdown>=2.6.8->tensorboard~=2.6->tensorflow-gpu) (4.8.2)\n",
            "Requirement already satisfied: zipp>=0.5 in /usr/local/lib/python3.7/dist-packages (from importlib-metadata>=4.4->markdown>=2.6.8->tensorboard~=2.6->tensorflow-gpu) (3.6.0)\n",
            "Requirement already satisfied: pyasn1<0.5.0,>=0.4.6 in /usr/local/lib/python3.7/dist-packages (from pyasn1-modules>=0.2.1->google-auth<3,>=1.6.3->tensorboard~=2.6->tensorflow-gpu) (0.4.8)\n",
            "Requirement already satisfied: chardet<4,>=3.0.2 in /usr/local/lib/python3.7/dist-packages (from requests<3,>=2.21.0->tensorboard~=2.6->tensorflow-gpu) (3.0.4)\n",
            "Requirement already satisfied: certifi>=2017.4.17 in /usr/local/lib/python3.7/dist-packages (from requests<3,>=2.21.0->tensorboard~=2.6->tensorflow-gpu) (2021.10.8)\n",
            "Requirement already satisfied: idna<3,>=2.5 in /usr/local/lib/python3.7/dist-packages (from requests<3,>=2.21.0->tensorboard~=2.6->tensorflow-gpu) (2.10)\n",
            "Requirement already satisfied: urllib3!=1.25.0,!=1.25.1,<1.26,>=1.21.1 in /usr/local/lib/python3.7/dist-packages (from requests<3,>=2.21.0->tensorboard~=2.6->tensorflow-gpu) (1.24.3)\n",
            "Requirement already satisfied: oauthlib>=3.0.0 in /usr/local/lib/python3.7/dist-packages (from requests-oauthlib>=0.7.0->google-auth-oauthlib<0.5,>=0.4.1->tensorboard~=2.6->tensorflow-gpu) (3.1.1)\n"
          ]
        }
      ]
    },
    {
      "cell_type": "code",
      "metadata": {
        "id": "tGa1tvf5t5r4"
      },
      "source": [
        "import tensorflow as tf\n",
        "import numpy as np\n",
        "import pandas as pd\n",
        "import os\n",
        "import time\n",
        "import sys"
      ],
      "execution_count": 1,
      "outputs": []
    },
    {
      "cell_type": "markdown",
      "metadata": {
        "id": "ZYzaL8aex1Lz"
      },
      "source": [
        "uso de GPU para entrenar en tensorflow\n",
        "\n",
        "---\n",
        "https://medium.com/analytics-vidhya/solution-to-tensorflow-2-not-using-gpu-119fb3e04daa\n"
      ]
    },
    {
      "cell_type": "markdown",
      "metadata": {
        "id": "TLnWVNaryDke"
      },
      "source": [
        "print(\"Tensorflow Version: \", tf.__version__)\n",
        "print(\"Dispositivos disponibles para entrenar: \", tf.config.list_physical_devices())\n",
        "device_name = tf.test.gpu_device_name()\n",
        "if device_name != '/device:GPU:0':\n",
        "  raise SystemError('GPU device not found')\n",
        "print('Encontrada la GPU: {}'.format(device_name))"
      ]
    },
    {
      "cell_type": "code",
      "metadata": {
        "colab": {
          "base_uri": "https://localhost:8080/"
        },
        "id": "7xemzEbVerHg",
        "outputId": "b21017c1-3b04-4e43-fa4e-92aed84e4e8d"
      },
      "source": [
        "print(\"Version: \", tf.__version__)\n",
        "#print(\"Eager mode: \", tf.executing_eagerly())\n",
        "print(\"GPU esta\", \"disponible\" if tf.config.list_physical_devices('GPU') else \"NOT AVAILABLE\")\n",
        "print(\"Dispositivos disponibles: \", tf.config.list_physical_devices())"
      ],
      "execution_count": 2,
      "outputs": [
        {
          "output_type": "stream",
          "name": "stdout",
          "text": [
            "Version:  2.7.0\n",
            "GPU esta NOT AVAILABLE\n",
            "Dispositivos disponibles:  [PhysicalDevice(name='/physical_device:CPU:0', device_type='CPU')]\n"
          ]
        }
      ]
    },
    {
      "cell_type": "code",
      "metadata": {
        "colab": {
          "base_uri": "https://localhost:8080/"
        },
        "id": "E9E2ihO2rLjM",
        "outputId": "c834ea72-a690-4489-d474-6bd09a252e60"
      },
      "source": [
        "tf.device('/gpu:0') #activando la CPU\n",
        "#tf.device('/device:GPU:0') #activando la GPU "
      ],
      "execution_count": 3,
      "outputs": [
        {
          "output_type": "execute_result",
          "data": {
            "text/plain": [
              "<tensorflow.python.eager.context._EagerDeviceContext at 0x7f07369dd8c0>"
            ]
          },
          "metadata": {},
          "execution_count": 3
        }
      ]
    },
    {
      "cell_type": "markdown",
      "metadata": {
        "id": "9Ot0vNyP9jlQ"
      },
      "source": [
        "##P0. Descarga y preprocesado de los datos"
      ]
    },
    {
      "cell_type": "code",
      "metadata": {
        "id": "6PETkDFl3Mff",
        "colab": {
          "base_uri": "https://localhost:8080/"
        },
        "outputId": "4c3fb6b6-8757-4d8c-d5bf-dbd514864354"
      },
      "source": [
        "fileDL= tf.keras.utils.get_file('arte.txt','https://raw.githubusercontent.com/raleo-pin/deep/main/segundo_corte/data/arte.txt')\n",
        "texto = open(fileDL, 'rb').read().decode(encoding='utf-8')"
      ],
      "execution_count": 4,
      "outputs": [
        {
          "output_type": "stream",
          "name": "stdout",
          "text": [
            "Downloading data from https://raw.githubusercontent.com/raleo-pin/deep/main/segundo_corte/data/arte.txt\n",
            "90112/87055 [===============================] - 0s 0us/step\n",
            "98304/87055 [=================================] - 0s 0us/step\n"
          ]
        }
      ]
    },
    {
      "cell_type": "code",
      "metadata": {
        "colab": {
          "base_uri": "https://localhost:8080/"
        },
        "id": "-ok5t-tCmJK8",
        "outputId": "5eda4968-2a40-4bad-b476-c0d71126367a"
      },
      "source": [
        "import re\n",
        "from unicodedata import normalize\n",
        "#pasa todo a minuscula\n",
        "texto     = texto.lower()\n",
        "#reemplazar tildes por letras similares sin tildes\n",
        "transfor  = dict.fromkeys(map(ord, u'\\u0301\\u0308'), None)\n",
        "texto     = normalize('NFKC', normalize('NFKD', texto).translate(transfor))\n",
        "#quitar saltos de linea\n",
        "texto      = texto.strip()\n",
        "texto      = re.sub('\\r|\\n', ' ',texto)\n",
        "#quitar espacios dobles\n",
        "texto      = re.sub(' +', ' ', texto)\n",
        "#quitando caracteres especiales\n",
        "texto = re.sub(r\"[^a-zA-Z0-9]+\",\" \",texto)\n",
        "print(texto)"
      ],
      "execution_count": 5,
      "outputs": [
        {
          "output_type": "stream",
          "name": "stdout",
          "text": [
            "el arte de la guerra capitulo 1 sobre la evaluacion sun tzu dice la guerra es de vital importancia para el estado es el dominio de la vida o de la muerte el camino hacia la supervivencia o la perdida del imperio es forzoso manejarla bien no reflexionar seriamente sobre todo lo que le concierne es dar prueba de una culpable indiferencia en lo que respecta a la conservacion o perdida de lo que nos es mas querido y ello no debe ocurrir entre nosotros hay que valorarla en terminos de cinco factores fundamentales y hacer comparaciones entre diversas condiciones de los bandos rivales con vistas a determinar el resultado de la guerra el primero de estos factores es la doctrina el segundo el tiempo el tercero el terreno el cuarto el mando y el quinto la disciplina la doctrina significa aquello que hace que el pueblo este en armonia con su gobernante de modo que le siga donde sea sin temer por sus vidas ni a correr cualquier peligro el tiempo significa el ying y el yang la noche y el dia el frio y el calor dias despejados o lluviosos y el cambio de las estaciones el terreno implica las distancias y hace referencia a donde es facil o dificil desplazarse y si es campo abierto o lugares estrechos y esto influencia las posibilidades de supervivencia el mando ha de tener como cualidades sabiduria sinceridad benevolencia coraje y disciplina por ultimo la disciplina ha de ser comprendida como la organizacion del ejercito las graduaciones y rangos entre los oficiales la regulacion de las rutas de suministros y la provision de material militar al ejercito estos cinco factores fundamentales han de ser conocidos por cada general aquel que los domina vence aquel que no sale derrotado por lo tanto al trazar los planes han de compararse los siguiente siete factores valorando cada uno con el mayor cuidado que dirigente es mas sabio y capaz que comandante posee el mayor talento que ejercito obtiene ventajas de la naturaleza y el terreno en que ejercito se observan mejor las regulaciones y las instrucciones que tropas son mas fuertes que ejercito tiene oficiales y tropas mejor entrenadas que ejercito administra recompensas y castigos de forma mas justa mediante el estudio de estos siete factores sere capaz de adivinar cual de los dos bandos saldra victorioso y cual sera derrotado el general que siga mi consejo es seguro que vencera ese general ha de ser mantenido al mando aquel que ignore mi consejo ciertamente sera derrotado ese debe ser destituido tras prestar atencion a mi consejo y planes el general debe crear una situacion que contribuya a su cumplimiento por situacion quiero decir que debe tomar en consideracion la situacion del campo y actuar de acuerdo con lo que le es ventajoso el arte de la guerra se basa en el enga o por lo tanto cuando es capaz de atacar ha de aparentar incapacidad cuando las tropas se mueven aparentar inactividad si esta cerca del enemigo ha de hacerle creer que esta lejos si esta lejos aparentar que se esta cerca poner cebos para atraer al enemigo golpear al enemigo cuando esta desordenado prepararse contra el cuando esta seguro en todas partes evitarle durante un tiempo cuando es mas fuerte si tu oponente tiene un temperamento colerico intenta irritarle si es arrogante trata de fomentar su egoismo si las tropas enemigas se hallan bien preparadas tras una reorganizacion intenta desordenarlas si estan unidas siembra la disension entre sus filas ataca al enemigo cuando no esta preparado y aparece cuando no te espera estas son las claves de la victoria para el estratega ahora si las estimaciones realizadas antes de la batalla indican victoria es porque los calculos cuidadosamente realizados muestran que tus condiciones son mas favorables que las condiciones del enemigo si indican derrota es porque muestran que las condiciones favorables para la batalla son menores con una evaluacion cuidadosa uno puede vencer sin ella no puede muchas menos oportunidades de victoria tendra aquel que no realiza calculos en absoluto gracias a este metodo se puede examinar la situacion y el resultado aparece claramente capitulo 2 sobre la iniciacion de las acciones una vez comenzada la batalla aunque estes ganando de continuar por mucho tiempo desanimara a tus tropas y embotara tu espada si estas sitiando una ciudad agotaras tus fuerzas si mantienes a tu ejercito durante mucho tiempo en campa a tus suministros se agotaran las armas son instrumentos de mala suerte emplearlas por mucho tiempo producira calamidades como se ha dicho los que a hierro matan a hierro mueren cuando tus tropas estan desanimadas tu espada embotada agotadas tus fuerzas y tus suministros son escasos hasta los tuyos se aprovecharan de tu debilidad para sublevarse entonces aunque tengas consejeros sabios al final no podras hacer que las cosas salgan bien por esta causa he oido hablar de operaciones militares que han sido torpes y repentinas pero nunca he visto a ningun experto en el arte de la guerra que mantuviese la campa a por mucho tiempo nunca es beneficioso para un pais dejar que una operacion militar se prolongue por mucho tiempo como se dice comunmente se rapido como el trueno que retumba antes de que hayas podido taparte los oidos veloz como el relampago que relumbra antes de haber podido pesta ear por lo tanto los que no son totalmente conscientes de la desventaja de servirse de las armas no pueden ser totalmente conscientes de las ventajas de utilizarlas los que utilizan los medios militares con pericia no activan a sus tropas dos veces ni proporcionan alimentos en tres ocasiones con un mismo objetivo esto quiere decir que no se debe movilizar al pueblo mas de una vez por campa a y que inmediatamente despues de alcanzar la victoria no se debe regresar al propio pais para hacer una segunda movilizacion al principio esto significa proporcionar alimentos para las propias tropas pero despues se quitan los alimentos al enemigo si tomas los suministros de armas de tu propio pais pero quitas los alimentos al enemigo puedes estar bien abastecido de armamento y de provisiones cuando un pais se empobrece a causa de las operaciones militares se debe al transporte de provisiones desde un lugar distante si las transportas desde un lugar distante el pueblo se empobrecera los que habitan cerca de donde esta el ejercito pueden vender sus cosechas a precios elevados pero se acaba de este modo el bienestar de la mayoria de la poblacion cuando se transportan las provisiones muy lejos la gente se arruina a causa del alto costo en los mercados cercanos al ejercito los precios de las mercancias se aumentan por lo tanto las largas campa as militares constituyen una lacra para el pais cuando se agotan los recursos los impuestos se recaudan bajo presion cuando el poder y los recursos se han agotado se arruina el propio pais se priva al pueblo de gran parte de su presupuesto mientras que los gastos del gobierno para armamentos se elevan los habitantes constituyen la base de un pais los alimentos son la felicidad del pueblo el principe debe respetar este hecho y ser sobrio y austero en sus gastos publicos en consecuencia un general inteligente lucha por desproveer al enemigo de sus alimentos cada porcion de alimentos tomados al enemigo equivale a veinte que te suministras a ti mismo asi pues lo que arrasa al enemigo es la imprudencia y la motivacion de los tuyos en asumir los beneficios de los adversarios cuando recompenses a tus hombres con los beneficios que ostentaban los adversarios los haras luchar por propia iniciativa y asi podras tomar el poder y la influencia que tenia el enemigo es por esto por lo que se dice que donde hay grandes recompensas hay hombres valientes por consiguiente en una batalla de carros recompensa primero al que tome al menos diez carros si recompensas a todo el mundo no habra suficiente para todos asi pues ofrece una recompensa a un soldado para animar a todos los demas cambia sus colores de los soldados enemigos hechos prisioneros utilizalos mezclados con los tuyos trata bien a los soldados y prestales atencion los soldados prisioneros deben ser bien tratados para conseguir que en el futuro luchen para ti a esto se llama vencer al adversario e incrementar por a adidura tus propias fuerzas si utilizas al enemigo para derrotar al enemigo seras poderoso en cualquier lugar a donde vayas asi pues lo mas importante en una operacion militar es la victoria y no la persistencia esta ultima no es beneficiosa un ejercito es como el fuego si no lo apagas se consumira por si mismo por lo tanto sabemos que el que esta a la cabeza del ejercito esta a cargo de las vidas de los habitantes y de la seguridad de la nacion capitulo 3 sobre las proposiciones de la victoria y la derrota como regla general es mejor conservar a un enemigo intacto que destruirlo capturar a sus soldados para conquistarlos y dominar a sus jefes un general decia practica las artes marciales calcula la fuerza de tus adversarios haz que pierdan su animo y direccion de manera que aunque el ejercito enemigo este intacto sea inservible esto es ganar sin violencia si destruyes al ejercito enemigo y matas a sus generales asaltas sus defensas disparando reunes a una muchedumbre y usurpas un territorio todo esto es ganar por la fuerza por esto los que ganan todas las batallas no son realmente profesionales los que consiguen que se rindan impotentes los ejercitos ajenos sin luchar son los mejores maestros del arte de la guerra los guerreros superiores atacan mientras los enemigos estan proyectando sus planes luego deshacen sus alianzas por eso un gran emperador decia el que lucha por la victoria frente a espadas desnudas no es un buen general la peor tactica es atacar a una ciudad asediar acorralar a una ciudad solo se lleva a cabo como ultimo recurso emplea no menos de tres meses en preparar tus artefactos y otros tres para coordinar los recursos para tu asedio nunca se debe atacar por colera y con prisas es aconsejable tomarse tiempo en la planificacion y coordinacion del plan por lo tanto un verdadero maestro de las artes marciales vence a otras fuerzas enemigas sin batalla conquista otras ciudades sin asediarlas y destruye a otros ejercitos sin emplear mucho tiempo un maestro experto en las artes marciales deshace los planes de los enemigos estropea sus relaciones y alianzas le corta los suministros o bloquea su camino venciendo mediante estas tacticas sin necesidad de luchar es imprescindible luchar contra todas las facciones enemigas para obtener una victoria completa de manera que su ejercito no quede acuartelado y el beneficio sea total esta es la ley del asedio estrategico la victoria completa se produce cuando el ejercito no lucha la ciudad no es asediada la destruccion no se prolonga durante mucho tiempo y en cada caso el enemigo es vencido por el empleo de la estrategia asi pues la regla de la utilizacion de la fuerza es la siguiente si tus fuerzas son diez veces superiores a las del adversario rodealo si son cinco veces superiores atacalo si son dos veces superiores dividelo si tus fuerzas son iguales en numero lucha si te es posible si tus fuerzas son inferiores mantente continuamente en guardia pues el mas peque o fallo te acarrearia las peores consecuencias trata de mantenerte al abrigo y evita en lo posible un enfrentamiento abierto con el la prudencia y la firmeza de un peque o numero de personas pueden llegar a cansar y a dominar incluso a numerosos ejercitos este consejo se aplica en los casos en que todos los factores son equivalentes si tus fuerzas estan en orden mientras que las suyas estan inmersas en el caos si tu y tus fuerzas estan con animo y ellos desmoralizados entonces aunque sean mas numerosos puedes entrar en batalla si tus soldados tus fuerzas tu estrategia y tu valor son menores que las de tu adversario entonces debes retirarte y buscar una salida en consecuencia si el bando mas peque o es obstinado cae prisionero del bando mas grande esto quiere decir que si un peque o ejercito no hace una valoracion adecuada de su poder y se atreve a enemistarse con una gran potencia por mucho que su defensa sea firme inevitablemente se convertira en conquistado si no puedes ser fuerte pero tampoco sabes ser debil seras derrotado los generales son servidores del pueblo cuando su servicio es completo el pueblo es fuerte cuando su servicio es defectuoso el pueblo es debil asi pues existen tres maneras en las que un principe lleva al ejercito al desastre cuando un principe ignorando los hechos ordena avanzar a sus ejercitos o retirarse cuando no deben hacerlo a esto se le llama inmovilizar al ejercito cuando un principe ignora los asuntos militares pero comparte en pie de igualdad el mando del ejercito los soldados acaban confusos cuando el principe ignora como llevar a cabo las maniobras militares pero comparte por igual su direccion los soldados estan vacilantes una vez que los ejercitos estan confusos y vacilantes empiezan los problemas procedentes de los adversarios a esto se le llama perder la victoria por trastornar el aspecto militar si intentas utilizar los metodos de un gobierno civil para dirigir una operacion militar la operacion sera confusa triunfan aquellos que saben cuando luchar y cuando no saben discernir cuando utilizar muchas o pocas tropas tienen tropas cuyos rangos superiores e inferiores tienen el mismo objetivo se enfrentan con preparativos a enemigos desprevenidos tienen generales competentes y no limitados por sus gobiernos civiles estas cinco son las maneras de conocer al futuro vencedor hablar de que el principe sea el que da las ordenes en todo es como si el general le solicitase permiso al principe para poder apagar un fuego para cuando sea autorizado ya no quedan sino cenizas si conoces a los demas y te conoces a ti mismo ni en cien batallas correras peligro si no conoces a los demas pero te conoces a ti mismo perderas una batalla y ganaras otra si no conoces a los demas ni te conoces a ti mismo correras peligro en cada batalla capitulo 4 sobre la medida en la disposicion de los medios antiguamente los guerreros expertos se hacian a si mismos invencibles en primer lugar y despues aguardaban para descubrir la vulnerabilidad de sus adversarios hacerte invencible significa conocerte a ti mismo aguardar para descubrir la vulnerabilidad del adversario significa conocer a los demas la invencibilidad esta en uno mismo la vulnerabilidad en el adversario por esto los guerreros expertos pueden ser invencibles pero no pueden hacer que sus adversarios sean vulnerables si los adversarios no tienen orden de batalla sobre el que informarse ni negligencias o fallos de los que aprovecharse como puedes vencerlos aunque esten bien pertrechados por esto es por lo que se dice que la victoria puede ser percibida pero no fabricada la invencibilidad es una cuestion de defensa la vulnerabilidad una cuestion de ataque mientras no hayas observado vulnerabilidades en el orden de batalla de los adversarios oculta tu propia formacion de ataque y preparate para ser invencible con la finalidad de preservarte cuando los adversarios tienen ordenes de batalla vulnerables es el momento de salir a atacarlos la defensa es para tiempos de escasez el ataque para tiempos de abundancia los expertos en defensa se esconden en las profundidades de la tierra los expertos en maniobras de ataque se esconden en las mas elevadas alturas del cielo de esta manera pueden protegerse y lograr la victoria total en situaciones de defensa acallais las voces y borrais las huellas escondidos como fantasmas y espiritus bajo tierra invisibles para todo el mundo en situaciones de ataque vuestro movimiento es rapido y vuestro grito fulgurante veloz como el trueno y el relampago para los que no se puede uno preparar aunque vengan del cielo prever la victoria cuando cualquiera la puede conocer no constituye verdadera destreza todo el mundo elogia la victoria ganada en batalla pero esa victoria no es realmente tan buena todo el mundo elogia la victoria en la batalla pero lo verdaderamente deseable es poder ver el mundo de lo sutil y darte cuenta del mundo de lo oculto hasta el punto de ser capaz de alcanzar la victoria donde no existe forma no se requiere mucha fuerza para levantar un cabello no es necesario tener una vista aguda para ver el sol y la luna ni se necesita tener mucho oido para escuchar el retumbar del trueno lo que todo el mundo conoce no se llama sabiduria la victoria sobre los demas obtenida por medio de la batalla no se considera una buena victoria en la antiguedad los que eran conocidos como buenos guerreros vencian cuando era facil vencer si solo eres capaz de asegurar la victoria tras enfrentarte a un adversario en un conflicto armado esa victoria es una dura victoria si eres capaz de ver lo sutil y de darte cuenta de lo oculto irrumpiendo antes del orden de batalla la victoria asi obtenida es una victoria facil en consecuencia las victorias de los buenos guerreros no destacan por su inteligencia o su bravura asi pues las victorias que ganan en batalla no son debidas a la suerte sus victorias no son casualidades sino que son debidas a haberse situado previamente en posicion de poder ganar con seguridad imponiendose sobre los que ya han perdido de antemano la gran sabiduria no es algo obvio el merito grande no se anuncia cuando eres capaz de ver lo sutil es facil ganar que tiene esto que ver con la inteligencia o la bravura cuando se resuelven los problemas antes de que surjan quien llama a esto inteligencia cuando hay victoria sin batalla quien habla de bravura asi pues los buenos guerreros toman posicion en un terreno en el que no pueden perder y no pasan por alto las condiciones que hacen a su adversario proclive a la derrota en consecuencia un ejercito victorioso gana primero y entabla la batalla despues un ejercito derrotado lucha primero e intenta obtener la victoria despues esta es la diferencia entre los que tienen estrategia y los que no tienen planes premeditados los que utilizan bien las armas cultivan el camino y observan las leyes asi pueden gobernar prevaleciendo sobre los corruptos servirse de la armonia para desvanecer la oposicion no atacar un ejercito inocente no hacer prisioneros o tomar botin por donde pasa el ejercito no cortar los arboles ni contaminar los pozos limpiar y purificar los templos de las ciudades y monta as del camino que atraviesas no repetir los errores de una civilizacion decadente a todo esto se llama el camino y sus leyes cuando el ejercito esta estrictamente disciplinado hasta el punto en que los soldados moririan antes que desobedecer las ordenes y las recompensas y los castigos merecen confianza y estan bien establecidos cuando los jefes y oficiales son capaces de actuar de esta forma pueden vencer a un principe enemigo corrupto las reglas militares son cinco medicion valoracion calculo comparacion y victoria el terreno da lugar a las mediciones estas dan lugar a las valoraciones las valoraciones a los calculos estos a las comparaciones y las comparaciones dan lugar a las victorias mediante las comparaciones de las dimensiones puedes conocer donde se halla la victoria o la derrota en consecuencia un ejercito victorioso es como un kilo comparado con un gramo un ejercito derrotado es como un gramo comparado con un kilo cuando el que gana consigue que su pueblo vaya a la batalla como si estuviera dirigiendo una gran corriente de agua hacia un ca on profundo esto es una cuestion de orden de batalla cuando el agua se acumula en un ca on profundo nadie puede medir su cantidad lo mismo que nuestra defensa no muestra su forma cuando se suelta el agua se precipita hacia abajo como un torrente de manera tan irresistible como nuestro propio ataque capitulo 5 sobre la firmeza la fuerza es la energia acumulada o la que se percibe esto es muy cambiante los expertos son capaces de vencer al enemigo creando una percepcion favorable en ellos para asi obtener la victoria sin necesidad de ejercer su fuerza gobernar sobre muchas personas como si fueran pocas es una cuestion de dividirlas en grupos o sectores es organizacion batallar contra un gran numero de tropas como si fueran pocas es una cuestion de demostrar la fuerza simbolos y se ales se refiere a lograr una percepcion de fuerza y poder en la oposicion en el campo de batalla se refiere a las formaciones y banderas utilizadas para desplegar las tropas y coordinar sus movimientos lograr que el ejercito sea capaz de combatir contra el adversario sin ser derrotado es una cuestion de emplear metodos ortodoxos o heterodoxos la ortodoxia y la heterodoxia no es algo fijo sino que se utilizan como un ciclo un emperador que fue un famoso guerrero y administrador hablaba de manipular las percepciones de los adversarios sobre lo que es ortodoxo y heterodoxo y despues atacar inesperadamente combinando ambos metodos hasta convertirlo en uno volviendose asi indefinible para el enemigo que el efecto de las fuerzas sea como el de piedras arrojadas sobre huevos es una cuestion de lleno y vacio cuando induces a los adversarios a atacarte en tu territorio su fuerza siempre esta vacia en desventaja mientras que no compitas en lo que son los mejores tu fuerza siempre estara llena atacar con lo vacio contra lo lleno es como arrojar piedras sobre huevos de seguro se rompen cuando se entabla una batalla de manera directa la victoria se gana por sorpresa el ataque directo es ortodoxo el ataque indirecto es heterodoxo solo hay dos clases de ataques en la batalla el extraordinario por sorpresa y el directo ordinario pero sus variantes son innumerables lo ortodoxo y lo heterodoxo se originan reciprocamente como un circulo sin comienzo ni fin quien podria agotarlos cuando la velocidad del agua que fluye alcanza el punto en el que puede mover las piedras esta es la fuerza directa cuando la velocidad y maniobrabilidad del halcon es tal que puede atacar y matar esto es precision lo mismo ocurre con los guerreros expertos su fuerza es rapida su precision certera su fuerza es como disparar una catapulta su precision es dar en el objetivo previsto y causar el efecto esperado el desorden llega del orden la cobardia surge del valor la debilidad brota de la fuerza si quieres fingir desorden para convencer a tus adversarios y distraerlos primero tienes que organizar el orden porque solo entonces puedes crear un desorden artificial si quieres fingir cobardia para conocer la estrategia de los adversarios primero tienes que ser extremadamente valiente porque solo entonces puedes actuar como timido de manera artificial si quieres fingir debilidad para inducir la arrogancia en tus enemigos primero has de ser extremadamente fuerte porque solo entonces puedes pretender ser debil el orden y el desorden son una cuestion de organizacion la cobardia es una cuestion valentia y la de impetu la fuerza y la debilidad son una cuestion de la formacion en la batalla cuando un ejercito tiene la fuerza del impetu percepcion incluso el timido se vuelve valiente cuando pierde la fuerza del impetu incluso el valiente se convierte en timido nada esta fijado en las leyes de la guerra estas se desarrollan sobre la base del impetu con astucia se puede anticipar y lograr que los adversarios se convenzan a si mismos como proceder y moverse les ayuda a caminar por el camino que les traza hace moverse a los enemigos con la perspectiva del triunfo para que caigan en la emboscada los buenos guerreros buscan la efectividad en la batalla a partir de la fuerza del impetu percepcion y no dependen solo de la fuerza de sus soldados son capaces de escoger a la mejor gente desplegarlos adecuadamente y dejar que la fuerza del impetu logre sus objetivos cuando hay entusiasmo conviccion orden organizacion recursos compromiso de los soldados tienes la fuerza del impetu y el timido es valeroso asi es posible asignar a los soldados por sus capacidades habilidades y encomendarle deberes y responsabilidades adecuadas el valiente puede luchar el cuidadoso puede hacer de centinela y el inteligente puede estudiar analizar y comunicar cada cual es util hacer que los soldados luchen permitiendo que la fuerza del impetu haga su trabajo es como hacer rodar rocas las rocas permanecen inmoviles cuando estan en un lugar plano pero ruedan en un plano inclinado se quedan fijas cuando son cuadradas pero giran si son redondas por lo tanto cuando se conduce a los hombres a la batalla con astucia el impulso es como rocas redondas que se precipitan monta a abajo esta es la fuerza que produce la victoria capitulo 6 sobre lo lleno y lo vacio los que anticipan se preparan y llegan primero al campo de batalla y esperan al adversario estan en posicion descansada los que llegan los ultimos al campo de batalla los que improvisan y entablan la lucha quedan agotados los buenos guerreros hacen que los adversarios vengan a ellos y de ningun modo se dejan atraer fuera de su fortaleza si haces que los adversarios vengan a ti para combatir su fuerza estara siempre vacia si no sales a combatir tu fuerza estara siempre llena este es el arte de vaciar a los demas y de llenarte a ti mismo lo que impulsa a los adversarios a venir hacia ti por propia decision es la perspectiva de ganar lo que desanima a los adversarios de ir hacia ti es la probabilidad de sufrir da os cuando los adversarios estan en posicion favorable debes cansarlos cuando estan bien alimentados cortar los suministros cuando estan descansando hacer que se pongan en movimiento ataca inesperadamente haciendo que los adversarios se agoten corriendo para salvar sus vidas interrumpe sus provisiones arrasa sus campos y corta sus vias de aprovisionamiento aparece en lugares criticos y ataca donde menos se lo esperen haciendo que tengan que acudir al rescate aparece donde no puedan ir dirigete hacia donde menos se lo esperen para desplazarte cientos de kilometros sin cansancio atraviesa tierras despobladas atacar un espacio abierto no significa solo un espacio en el que el enemigo no tiene defensa mientras su defensa no sea estricta el lugar no este bien guardado los enemigos se desperdigaran ante ti como si estuvieras atravesando un territorio despoblado para tomar infaliblemente lo que atacas ataca donde no haya defensa para mantener una defensa infaliblemente segura defiende donde no haya ataque asi en el caso de los que son expertos en el ataque sus enemigos no saben por donde atacar cuando se cumplen las instrucciones las personas son sinceramente leales y comprometidas los planes y preparativos para la defensa implantados con firmeza siendo tan sutil y reservado que no se revelan las estrategias de ninguna forma y los adversarios se sienten inseguros y su inteligencia no les sirve para nada se extremadamente sutil discreto hasta el punto de no tener forma se completamente misterioso y confidencial hasta el punto de ser silencioso de esta manera podras dirigir el destino de tus adversarios para avanzar sin encontrar resistencia arremete por sus puntos debiles para retirarte de manera esquiva se mas rapido que ellos las situaciones militares se basan en la velocidad llega como el viento muevete como el relampago y los adversarios no podran vencerte por lo tanto cuando quieras entrar en batalla incluso si el adversario esta atrincherado en una posicion defensiva no podra evitar luchar si atacas en el lugar en el que debe acudir irremediablemente al rescate cuando no quieras entrar en batalla incluso si trazas una linea en el terreno que quieres conservar el adversario no puede combatir contigo porque le das una falsa pista esto significa que cuando los adversarios llegan para atacarte no luchas con ellos sino que estableces un cambio estrategico para confundirlos y llenarlos de incertidumbre por consiguiente cuando induces a otros a efectuar una formacion mientras que tu mismo permaneces sin forma estas concentrado mientras que tu adversario esta dividido haz que los adversarios vean como extraordinario lo que es ordinario para ti haz que vean como ordinario lo que es extraordinario para ti esto es inducir al enemigo a efectuar una formacion una vez vista la formacion del adversario concentras tus tropas contra el como tu formacion no esta a la vista el adversario dividira seguramente sus fuerzas cuando estas concentrado formando una sola fuerza mientras que el enemigo esta dividido en diez estas atacando a una concentracion de uno contra diez asi que tus fuerzas superan a las suyas si puedes atacar a unos pocos soldados con muchos diezmaras el numero de tus adversarios cuando estas fuertemente atrincherado te has hecho fuerte tras buenas barricadas y no dejas filtrar ninguna informacion sobre tus fuerzas sal afuera sin formacion precisa ataca y conquista de manera incontenible no han de conocer donde piensas librar la batalla porque cuando no se conoce el enemigo destaca muchos puestos de vigilancia y en el momento en el que se establecen numerosos puestos solo tienes que combatir contra peque as unidades asi pues cuando su vanguardia esta preparada su retaguardia es defectuosa y cuando su retaguardia esta preparada su vanguardia presenta puntos debiles las preparaciones de su ala derecha significaran carencia en su ala izquierda las preparaciones por todas partes significaran ser vulnerable por todas partes esto significa que cuando las tropas estan de guardia en muchos lugares estan forzosamente desperdigadas en peque as unidades cuando se dispone de pocos soldados se esta a la defensiva contra el adversario y el que dispone de muchos hace que el enemigo tenga que defenderse cuantas mas defensas induces a adoptar a tu enemigo mas debilitado quedara asi si conoces el lugar y la fecha de la batalla puedes acudir a ella aunque estes a mil kilometros de distancia si no conoces el lugar y la fecha de la batalla entonces tu flanco izquierdo no puede salvar al derecho tu vanguardia no puede salvar a tu retaguardia y tu retaguardia no puede salvar a tu vanguardia ni siquiera en un territorio de unas pocas docenas de kilometros si tienes muchas mas tropas que los demas como puede ayudarte este factor para obtener la victoria si no conoces el lugar y la fecha de la batalla aunque tus tropas sean mas numerosas que las de ellos como puedes saber si vas a ganar o a perder asi pues se dice que la victoria puede ser creada si haces que los adversarios no sepan el lugar y la fecha de la batalla siempre puedes vencer incluso si los enemigos son numerosos puede hacerse que no entren en combate por tanto haz tu valoracion sobre ellos para averiguar sus planes y determinar que estrategia puede tener exito y cual no incitalos a la accion para descubrir cual es el esquema general de sus movimientos y descansa haz algo por o en contra de ellos para su atencion de manera que puedas atraerlos para descubrir sus habitos de comportamiento de ataque y de defensa inducelos a adoptar formaciones especificas para conocer sus puntos flacos esto significa utilizar muchos metodos para confundir y perturbar al enemigo con el objetivo de observar sus formas de respuesta hacia ti despues de haberlas observado actuas en consecuencia de manera que puedes saber que clase de situaciones significan vida y cuales significan muerte pruebalos para averiguar sus puntos fuertes y sus puntos debiles por lo tanto el punto final de la formacion de un ejercito es llegar a la no forma cuando no tienes forma los informadores no pueden descubrir nada ya que la informacion no puede crear una estrategia una vez que no tienes forma perceptible no dejas huellas que puedan ser seguidas los informadores no encuentran ninguna grieta por donde mirar y los que estan a cargo de la planificacion no pueden establecer ningun plan realizable la victoria sobre multitudes mediante formaciones precisas debe ser desconocida por las multitudes todo el mundo conoce la forma mediante la que resulto vencedor pero nadie conoce la forma mediante la que aseguro la victoria en consecuencia la victoria en la guerra no es repetitiva sino que adapta su forma continuamente determinar los cambios apropiados significa no repetir las estrategias previas para obtener la victoria para lograrla puedo adaptarme desde el principio a cualquier formacion que los adversarios puedan adoptar las formaciones son como el agua la naturaleza del agua es evitar lo alto e ir hacia abajo la naturaleza de los ejercitos es evitar lo lleno y atacar lo vacio el flujo del agua esta determinado por la tierra la victoria viene determinada por el adversario asi pues un ejercito no tiene formacion constante lo mismo que el agua no tiene forma constante se llama genio a la capacidad de obtener la victoria cambiando y adaptandose segun el enemigo capitulo 7 sobre el enfrentamiento directo e indirecto la regla ordinaria para el uso del ejercito es que el mando del ejercito reciba ordenes de las autoridades civiles y despues reune y concentra a las tropas acuartelandolas juntas nada es mas dificil que la lucha armada luchar con otros cara a cara para conseguir ventajas es lo mas arduo del mundo la dificultad de la lucha armada es hacer cercanas las distancias largas y convertir los problemas en ventajas mientras que das la apariencia de estar muy lejos empiezas tu camino y llegas antes que el enemigo por lo tanto haces que su ruta sea larga atrayendole con la esperanza de ganar cuando emprendes la marcha despues que los otros y llegas antes que ellos conoces la estrategia de hacer que las distancias sean cercanas sirvete de una unidad especial para enga ar al enemigo atrayendole a una falsa persecucion haciendole creer que el grueso de tus fuerzas esta muy lejos entonces lanzas una fuerza de ataque sorpresa que llega antes aunque emprendio el camino despues por consiguiente la lucha armada puede ser provechosa y puede ser peligrosa para el experto es provechosa para el inexperto peligrosa movilizar a todo el ejercito para el combate en aras de obtener alguna ventaja tomaria mucho tiempo pero combatir por una ventaja con un ejercito incompleto tendria como resultado una falta de recursos si te movilizas rapidamente y sin parar dia y noche recorriendo el doble de la distancia habitual y si luchas por obtener alguna ventaja a miles de kilometros tus jefes militares seran hechos prisioneros los soldados que sean fuertes llegaran alli primero los mas cansados llegaran despues y como regla general solo lo conseguira uno de cada diez cuando la ruta es larga las tropas se cansan si han gastado su fuerza en la movilizacion llegan agotadas mientras que sus adversarios estan frescos asi pues es seguro que seran atacadas combatir por una ventaja a cincuenta kilometros de distancia frustrara los planes del mando y como regla general solo la mitad de los soldados lo haran si se combate por obtener una ventaja a treinta kilometros de distancia solo dos de cada tres soldados los recorreran asi pues un ejercito perece si no esta equipado si no tiene provisiones o si no tiene dinero estas tres cosas son necesarias no puedes combatir para ganar con un ejercito no equipado o sin provisiones lo que el dinero facilita por tanto si ignoras los planes de tus rivales no puedes hacer alianzas precisas a menos que conozcas las monta as y los bosques los desfiladeros y los pasos y la condicion de los pantanos no puedes maniobrar con una fuerza armada a menos que utilices guias locales no puedes aprovecharte de las ventajas del terreno solo cuando conoces cada detalle de la condicion del terreno puedes maniobrar y guerrear por consiguiente una fuerza militar se usa segun la estrategia prevista se moviliza mediante la esperanza de recompensa y se adapta mediante la division y la combinacion una fuerza militar se establece mediante la estrategia en el sentido de que distraes al enemigo para que no pueda conocer cual es tu situacion real y no pueda imponer su supremacia se moviliza mediante la esperanza de recompensa en el sentido de que entra en accion cuando ve la posibilidad de obtener una ventaja dividir y volver a hacer combinaciones de tropas se hace para confundir al adversario y observar como reacciona frente a ti de esta manera puedes adaptarte para obtener la victoria por eso cuando una fuerza militar se mueve con rapidez es como el viento cuando va lentamente es como el bosque es voraz como el fuego e inmovil como las monta as es rapida como el viento en el sentido que llega sin avisar y desaparece como el relampago es como un bosque porque tiene un orden es voraz como el fuego que devasta una planicie sin dejar tras si ni una brizna de hierba es inmovil como una monta a cuando se acuartela es tan dificil de conocer como la oscuridad su movimiento es como un trueno que retumba para ocupar un lugar divide a tus tropas para expandir tu territorio divide los beneficios la regla general de las operaciones militares es desproveer de alimentos al enemigo todo lo que se pueda sin embargo en localidades donde la gente no tiene mucho es necesario dividir a las tropas en grupos mas peque os para que puedan tomar en diversas partes lo que necesitan ya que solo asi tendran suficiente en cuanto a dividir el botin significa que es necesario repartirlo entre las tropas para guardar lo que ha sido ganado no dejando que el enemigo lo recupere actua despues de haber hecho una estimacion gana el que conoce primero la medida de lo que esta lejos y lo que esta cerca esta es la regla general de la lucha armada el primero que hace el movimiento es el invitado el ultimo es el anfitrion el invitado lo tiene dificil el anfitrion lo tiene facil cerca y lejos significan desplazamiento el cansancio el hambre y el frio surgen del desplazamiento un antiguo libro que trata de asuntos militares dice las palabras no son escuchadas por eso se hacen los simbolos y los tambores las banderas y los estandartes se hacen a causa de la ausencia de visibilidad simbolos tambores banderas y estandartes se utilizan para concentrar y unificar los oidos y los ojos de los soldados una vez que estan unificados el valiente no puede actuar solo ni el timido puede retirarse solo esta es la regla general del empleo de un grupo unificar los oidos y los ojos de los soldados significa hacer que miren y escuchen al unisono de manera que no caigan en la confusion y el desorden las se ales se utilizan para indicar direcciones e impedir que los individuos vayan a donde se les antoje asi pues en batallas nocturnas utiliza fuegos y tambores y en batallas diurnas sirvete de banderas y estandartes para manipular los oidos y los ojos de los soldados utiliza muchas se ales para confundir las percepciones del enemigo y hacerle temer tu temible poder militar de esta forma haces desaparecer la energia de sus ejercitos y desmoralizas a sus generales en primer lugar has de ser capaz de mantenerte firme en tu propio corazon solo entonces puedes desmoralizar a los generales enemigos por esto la tradicion afirma que los habitantes de otros tiempos tenian la firmeza para desmoralizar y la antigua ley de los que conducian carros de combate decia que cuando la mente original es firme la energia fresca es victoriosa de este modo la energia de la ma ana esta llena de ardor la del mediodia decae y la energia de la noche se retira en consecuencia los expertos en el manejo de las armas prefieren la energia entusiasta atacan la decadente y la que se bate en retirada son ellos los que dominan la energia cualquier debil en el mundo se dispone a combatir en un minuto si se siente animado pero cuando se trata realmente de tomar las armas y de entrar en batalla es poseido por la energia cuando esta energia se desvanece se detendra estara asustado y se arrepentira de haber comenzado la razon por la que esa clase de ejercitos miran por encima del hombro a enemigos fuertes lo mismo que miran a las doncellas virgenes es porque se estan aprovechando de su agresividad estimulada por cualquier causa utilizar el orden para enfrentarse al desorden utilizar la calma para enfrentarse con los que se agitan esto es dominar el corazon a menos que tu corazon este totalmente abierto y tu mente en orden no puedes esperar ser capaz de adaptarte a responder sin limites a manejar los acontecimientos de manera infalible a enfrentarte a dificultades graves e inesperadas sin turbarte dirigiendo cada cosa sin confusion dominar la fuerza es esperar a los que vienen de lejos aguardar con toda comodidad a los que se han fatigado y con el estomago saciado a los hambrientos esto es lo que se quiere decir cuando se habla de atraer a otros hacia donde estas al tiempo que evitas ser inducido a ir hacia donde estan ellos evitar la confrontacion contra formaciones de combate bien ordenadas y no atacar grandes batallones constituye el dominio de la adaptacion por tanto la regla general de las operaciones militares es no enfrentarse a una gran monta a ni oponerse al enemigo de espaldas a esta esto significa que si los adversarios estan en un terreno elevado no debes atacarles cuesta arriba y que cuando efectuan una carga cuesta abajo no debes hacerles frente no persigas a los enemigos cuando finjan una retirada ni ataques tropas expertas si los adversarios huyen de repente antes de agotar su energia seguramente hay emboscadas esperandote para atacar a tus tropas en este caso debes retener a tus oficiales para que no se lancen en su persecucion no consumas la comida de sus soldados si el enemigo abandona de repente sus provisiones estas han de ser probadas antes de ser comidas por si estan envenenadas no detengas a ningun ejercito que este en camino a su pais bajo estas circunstancias un adversario luchara hasta la muerte hay que dejarle una salida a un ejercito rodeado muestrales una manera de salvar la vida para que no esten dispuestos a luchar hasta la muerte y asi podras aprovecharte para atacarles no presiones a un enemigo desesperado un animal agotado seguira luchando pues esa es la ley de la naturaleza estas son las leyes de las operaciones militares capitulo 8 sobre los nueve cambios por lo general las operaciones militares estan bajo el mando del gobernante civil para dirigir al ejercito el general no debe levantar su campamento en un terreno dificil deja que se establezcan relaciones diplomaticas en las fronteras no permanezcas en un territorio arido ni aislado cuando te halles en un terreno cerrado prepara alguna estrategia y muevete cuando te halles en un terreno mortal lucha terreno cerrado significa que existen lugares escarpados que te rodean por todas partes de manera que el enemigo tiene movilidad que puede llegar e irse con libertad pero a ti te es dificil salir y volver cada ruta debe ser estudiada para que sea la mejor hay rutas que no debes usar ejercitos que no han de ser atacados ciudades que no deben ser rodeadas terrenos sobre los que no se debe combatir y ordenes de gobernantes civiles que no deben ser obedecidas en consecuencia los generales que conocen las variables posibles para aprovecharse del terreno saben como manejar las fuerzas armadas si los generales no saben como adaptarse de manera ventajosa aunque conozcan la condicion del terreno no pueden aprovecharse de el si estan al mando de ejercitos pero ignoran las artes de la total adaptabilidad aunque conozcan el objetivo a lograr no pueden hacer que los soldados luchen por el si eres capaz de ajustar la campa a cambiar conforme al impetu de las fuerzas entonces la ventaja no cambia y los unicos que son perjudicados son los enemigos por esta razon no existe una estructura permanente si puedes comprender totalmente este principio puedes hacer que los soldados actuen en la mejor forma posible por lo tanto las consideraciones de la persona inteligente siempre incluyen el analizar objetivamente el beneficio y el da o cuando considera el beneficio su accion se expande cuando considera el da o sus problemas pueden resolverse el beneficio y el da o son interdependientes y los sabios los tienen en cuenta por ello lo que retiene a los adversarios es el da o lo que les mantiene ocupados es la accion y lo que les motiva es el beneficio cansa a los enemigos manteniendolos ocupados y no dejandoles respirar pero antes de lograrlo tienes que realizar previamente tu propia labor esa labor consiste en desarrollar un ejercito fuerte un pueblo prospero una sociedad armoniosa y una manera ordenada de vivir asi pues la norma general de las operaciones militares consiste en no contar con que el enemigo no acuda sino confiar en tener los medios de enfrentarte a el no contar con que el adversario no ataque sino confiar en poseer lo que no puede ser atacado si puedes recordar siempre el peligro cuando estas a salvo y el caos en tiempos de orden permanece atento al peligro y al caos mientras no tengan todavia forma y evitalos antes de que se presenten esta es la mejor estrategia de todas por esto existen cinco rasgos que son peligrosos en los generales los que estan dispuestos a morir pueden perder la vida los que quieren preservar la vida pueden ser hechos prisioneros los que son dados a los apasionamientos irracionales pueden ser ridiculizados los que son muy puritanos pueden ser deshonrados los que son compasivos pueden ser turbados si te presentas en un lugar que con toda seguridad los enemigos se precipitaran a defender las personas compasivas se apresuraran invariablemente a rescatar a sus habitantes causandose a si mismos problemas y cansancio estos son cinco rasgos que constituyen defectos en los generales y que son desastrosos para las operaciones militares los buenos generales son de otra manera se comprometen hasta la muerte pero no se aferran a la esperanza de sobrevivir actuan de acuerdo con los acontecimientos en forma racional y realista sin dejarse llevar por las emociones ni estar sujetos a quedar confundidos cuando ven una buena oportunidad son como tigres en caso contrario cierran sus puertas su accion y su no accion son cuestiones de estrategia y no pueden ser complacidos ni enfadados capitulo 9 sobre la distribucion de los medios las maniobras militares son el resultado de los planes y las estrategias en la manera mas ventajosa para ganar determinan la movilidad y efectividad de las tropas si vas a colocar tu ejercito en posicion de observar al enemigo atraviesa rapido las monta as y vigilalos desde un valle considera el efecto de la luz y mantente en la posicion mas elevada del valle cuando combatas en una monta a ataca desde arriba hacia abajo y no al reves combate estando cuesta abajo y nunca cuesta arriba evita que el agua divida tus fuerzas alejate de las condiciones desfavorables lo antes que te sea posible no te enfrentes a los enemigos dentro del agua es conveniente dejar que pasen la mitad de sus tropas y en ese momento dividirlas y atacarlas no te situes rio abajo no camines en contra de la corriente ni en contra del viento si acampas en la ribera de un rio tus ejercitos pueden ser sorprendidos de noche empujados a ahogarse o se les puede colocar veneno en la corriente tus barcas no deben ser amarradas corriente abajo para impedir que el enemigo aproveche la corriente lanzando sus barcas contra ti si atraviesas pantanos hazlo rapidamente si te encuentras frente a un ejercito en medio de un pantano permanece cerca de sus plantas acuaticas o respaldado por los arboles en una llanura toma posiciones desde las que sea facil maniobrar manteniendo las elevaciones del terreno detras y a tu derecha estando las partes mas bajas delante y las mas altas detras generalmente un ejercito prefiere un terreno elevado y evita un terreno bajo aprecia la luz y detesta la oscuridad los terrenos elevados son estimulantes y por lo tanto la gente se halla a gusto en ellos ademas son convenientes para adquirir la fuerza del impetu los terrenos bajos son humedos lo cual provoca enfermedades y dificulta el combate cuida de la salud fisica de tus soldados con los mejores recursos disponibles cuando no existe la enfermedad en un ejercito se dice que este es invencible donde haya monticulos y terraplenes situate en su lado soleado manteniendolos siempre a tu derecha y detras colocarse en la mejor parte del terreno es ventajoso para una fuerza militar la ventaja en una operacion militar consiste en aprovecharse de todos los factores beneficiosos del terreno cuando llueve rio arriba y la corriente trae consigo la espuma si quieres cruzarlo espera a que escampe siempre que un terreno presente barrancos infranqueables lugares cerrados trampas riesgos grietas y prisiones naturales debes abandonarlo rapidamente y no acercarte a el en lo que a mi concierne siempre me mantengo alejado de estos accidentes del terreno de manera que los adversarios esten mas cerca que yo de ellos doy la cara a estos accidentes de manera que queden a espaldas del enemigo entonces estas en situacion ventajosa y el tiene condiciones desfavorables cuando un ejercito se esta desplazando si atraviesa territorios monta osos con muchas corrientes de agua y pozos o pantanos cubiertos de juncos o bosques virgenes llenos de arboles y vegetacion es imprescindible escudri arlos totalmente y con cuidado ya que estos lugares ayudan a las emboscadas y a los espias es esencial bajar del caballo y escudri ar el terreno por si existen tropas escondidas para tenderte una emboscada tambien podria ser que hubiera espias al acecho observandote y escuchando tus instrucciones y movimientos cuando el enemigo esta cerca pero permanece en calma quiere decir que se halla en una posicion fuerte cuando esta lejos pero intenta provocar hostilidades quiere que avances si ademas su posicion es accesible eso quiere decir que le es favorable si un adversario no conserva la posicion que le es favorable por las condiciones del terreno y se situa en otro lugar conveniente debe ser porque existe alguna ventaja tactica para obrar de esta manera si se mueven los arboles es que el enemigo se esta acercando si hay obstaculos entre los matorrales es que has tomado un mal camino la idea de poner muchos obstaculos entre la maleza es hacerte pensar que existen tropas emboscadas escondidas en medio de ella si los pajaros alzan el vuelo hay tropas emboscadas en el lugar si los animales estan asustados existen tropas atacantes si se elevan columnas de polvo altas y espesas hay carros que se estan acercando si son bajas y anchas se acercan soldados a pie humaredas esparcidas significan que se esta cortando le a peque as polvaredas que van y vienen indican que hay que levantar el campamento si los emisarios del enemigo pronuncian palabras humildes mientras que este incrementa sus preparativos de guerra esto quiere decir que va a avanzar cuando se pronuncian palabras altisonantes y se avanza ostentosamente es se al de que el enemigo se va a retirar si sus emisarios vienen con palabras humildes envia espias para observar al enemigo y comprobaras que esta aumentando sus preparativos de guerra cuando los carros ligeros salen en primer lugar y se situan en los flancos estan estableciendo un frente de batalla si los emisarios llegan pidiendo la paz sin firmar un tratado significa que estan tramando algun complot si el enemigo dispone rapidamente a sus carros en filas de combate es que esta esperando refuerzos no se precipitaran para un encuentro ordinario si no entienden que les ayudara o debe haber una fuerza que se halla a distancia y que es esperada en un determinado momento para unir sus tropas y atacarte conviene anticipar prepararse inmediatamente para esta eventualidad si la mitad de sus tropas avanza y la otra mitad retrocede es que el enemigo piensa atraerte a una trampa el enemigo esta fingiendo en este caso confusion y desorden para incitarte a que avances si los soldados enemigos se apoyan unos en otros es que estan hambrientos si los aguadores beben en primer lugar es que las tropas estan sedientas si el enemigo ve una ventaja pero no la aprovecha es que esta cansado si los pajaros se reunen en el campo enemigo es que el lugar esta vacio si hay pajaros sobrevolando una ciudad el ejercito ha huido si se producen llamadas nocturnas es que los soldados enemigos estan atemorizados tienen miedo y estan inquietos y por eso se llaman unos a otros si el ejercito no tiene disciplina esto quiere decir que el general no es tomado en serio si los estandartes se mueven es que esta sumido en la confusion las se ales se utilizan para unificar el grupo asi pues si se desplaza de aca para alla sin orden ni concierto significa que sus filas estan confusas si sus emisarios muestran irritacion significa que estan cansados si matan sus caballos para obtener carne es que los soldados carecen de alimentos cuando no tienen marmitas y no vuelven a su campamento son enemigos completamente desesperados si se producen murmuraciones faltas de disciplina y los soldados hablan mucho entre si quiere decir que se ha perdido la lealtad de la tropa las murmuraciones describen la expresion de los verdaderos sentimientos las faltas de disciplina indican problemas con los superiores cuando el mando ha perdido la lealtad de las tropas los soldados se hablan con franqueza entre si sobre los problemas con sus superiores si se otorgan numerosas recompensas es que el enemigo se halla en un callejon sin salida cuando se ordenan demasiados castigos es que el enemigo esta desesperado cuando la fuerza de su impetu esta agotada otorgan constantes recompensas para tener contentos a los soldados para evitar que se rebelen en masa cuando los soldados estan tan agotados que no pueden cumplir las ordenes son castigados una y otra vez para restablecer la autoridad ser violento al principio y terminar despues temiendo a los propios soldados es el colmo de la ineptitud los emisarios que acuden con actitud conciliatoria indican que el enemigo quiere una tregua si las tropas enemigas se enfrentan a ti con ardor pero demoran el momento de entrar en combate sin abandonar no obstante el terreno has de observarlos cuidadosamente estan preparando un ataque por sorpresa en asuntos militares no es necesariamente mas beneficioso ser superior en fuerzas solo evitar actuar con violencia innecesaria es suficiente con consolidar tu poder hacer estimaciones sobre el enemigo y conseguir reunir tropas eso es todo el enemigo que actua aisladamente que carece de estrategia y que toma a la ligera a sus adversarios inevitablemente acabara siendo derrotado si tu plan no contiene una estrategia de retirada o posterior al ataque sino que confias exclusivamente en la fuerza de tus soldados y tomas a la ligera a tus adversarios sin valorar su condicion con toda seguridad caeras prisionero si se castiga a los soldados antes de haber conseguido que sean leales al mando no obedeceran y si no obedecen seran dificiles de emplear tampoco podran ser empleados si no se lleva a cabo ningun castigo incluso despues de haber obtenido su lealtad cuando existe un sentimiento subterraneo de aprecio y confianza y los corazones de los soldados estan ya vinculados al mando si se relaja la disciplina los soldados se volveran arrogantes y sera imposible emplearlos por lo tanto dirigelos mediante el arte civilizado y unificalos mediante las artes marciales esto significa una victoria continua arte civilizado significa humanidad y artes marciales significan reglamentos mandalos con humanidad y benevolencia unificalos de manera estricta y firme cuando la benevolencia y la firmeza son evidentes es posible estar seguro de la victoria cuando las ordenes se dan de manera clara sencilla y consecuente a las tropas estas las aceptan cuando las ordenes son confusas contradictorias y cambiantes las tropas no las aceptan o no las entienden cuando las ordenes son razonables justas sencillas claras y consecuentes existe una satisfaccion reciproca entre el lider y el grupo capitulo 10 sobre la topologia algunos terrenos son faciles otros dificiles algunos neutros otros estrechos accidentados o abiertos cuando el terreno sea accesible se el primero en establecer tu posicion eligiendo las alturas soleadas una posicion que sea adecuada para transportar los suministros asi tendras ventaja cuando libres la batalla cuando estes en un terreno dificil de salir estas limitado en este terreno si tu enemigo no esta preparado puedes vencer si sigues adelante pero si el enemigo esta preparado y sigues adelante tendras muchas dificultades para volver de nuevo a el lo cual jugara en contra tuya cuando es un terreno desfavorable para ambos bandos se dice que es un terreno neutro en un terreno neutro incluso si el adversario te ofrece una ventaja no te aproveches de ella retirate induciendo a salir a la mitad de las tropas enemigas y entonces cae sobre el aprovechandote de esta condicion favorable en un terreno estrecho si eres el primero en llegar debes ocuparlo totalmente y esperar al adversario si el llega antes no lo persigas si bloquea los desfiladeros persiguelo solo si no los bloquea en terreno accidentado si eres el primero en llegar debes ocupar sus puntos altos y soleados y esperar al adversario si este los ha ocupado antes retirate y no lo persigas en un terreno abierto la fuerza del impetu se encuentra igualada y es dificil provocarle a combatir de manera desventajosa para el entender estas seis clases de terreno es la responsabilidad principal del general y es imprescindible considerarlos estas son las configuraciones del terreno los generales que las ignoran salen derrotados asi pues entre las tropas estan las que huyen las que se retraen las que se derrumban las que se rebelan y las que son derrotadas ninguna de estas circunstancias constituye desastres naturales sino que son debidas a los errores de los generales las tropas que tienen el mismo impetu pero que atacan en proporcion de uno contra diez salen derrotadas los que tienen tropas fuertes pero cuyos oficiales son debiles quedan retraidos los que tienen soldados debiles al mando de oficiales fuertes se veran en apuros cuando los oficiales superiores estan encolerizados y son violentos y se enfrentan al enemigo por su cuenta y por despecho y cuando los generales ignoran sus capacidades el ejercito se desmoronara como norma general para poder vencer al enemigo todo el mando militar debe tener una sola intencion y todas las fuerzas militares deben cooperar cuando los generales son debiles y carecen de autoridad cuando las ordenes no son claras cuando oficiales y soldados no tienen solidez y las formaciones son anarquicas se produce revuelta los generales que son derrotados son aquellos que son incapaces de calibrar a los adversarios entran en combate con fuerzas superiores en numero o mejor equipadas y no seleccionan a sus tropas segun los niveles de preparacion de las mismas si empleas soldados sin seleccionar a los preparados de los no preparados a los arrojados y a los timoratos te estas buscando tu propia derrota estas son las seis maneras de ser derrotado la comprension de estas situaciones es la responsabilidad suprema de los generales y deben ser consideradas la primera es no calibrar el numero de fuerzas la segunda la ausencia de un sistema claro de recompensas y castigos la tercera la insuficiencia de entrenamiento la cuarta es la pasion irracional la quinta es la ineficacia de la ley del orden y la sexta es el fallo de no seleccionar a los soldados fuertes y resueltos la configuracion del terreno puede ser un apoyo para el ejercito para los jefes militares el curso de la accion adecuada es calibrar al adversario para asegurar la victoria y calcular los riesgos y las distancias salen vencedores los que libran batallas conociendo estos elementos salen derrotados los que luchan ignorandolos por lo tanto cuando las leyes de la guerra se alan una victoria segura es claramente apropiado entablar batalla incluso si el gobierno ha dada ordenes de no atacar si las leyes de la guerra no indican una victoria segura es adecuado no entrar en batalla aunque el gobierno haya dada la orden de atacar de este modo se avanza sin pretender la gloria se ordena la retirada sin evitar la responsabilidad con el unico proposito de proteger a la poblacion y en beneficio tambien del gobierno asi se rinde un servicio valioso a la nacion avanzar y retirarse en contra de las ordenes del gobierno no se hace por interes personal sino para salvaguardar las vidas de la poblacion y en autentico beneficio del gobierno servidores de esta talla son muy utiles para un pueblo mira por tus soldados como miras por un recien nacido asi estaran dispuestos a seguirte hasta los valles mas profundos cuida de tus soldados como cuidas de tus queridos hijos y moriran gustosamente contigo pero si eres tan amable con ellos que no los puedes utilizar si eres tan indulgente que no les puedes dar ordenes tan informal que no puedes disciplinarlos tus soldados seran como ni os mimados y por lo tanto inservibles las recompensas no deben utilizarse solas ni debe confiarse solamente en los castigos en caso contrario las tropas como ni os mimosos se acostumbran a disfrutar o a quedar resentidas por todo esto es da ino y los vuelve inservibles si sabes que tus soldados son capaces de atacar pero ignoras si el enemigo es invulnerable a un ataque tienes solo la mitad de posibilidades de ganar si sabes que tu enemigo es vulnerable a un ataque pero ignoras si tus soldados son capaces de atacar solo tienes la mitad de posibilidades de ganar si sabes que el enemigo es vulnerable a un ataque y tus soldados pueden llevarlo a cabo pero ignoras si la condicion del terreno es favorable para la batalla tienes la mitad de probabilidades de vencer por lo tanto los que conocen las artes marciales no pierden el tiempo cuando efectuan sus movimientos ni se agotan cuando atacan debido a esto se dice que cuando te conoces a ti mismo y conoces a los demas la victoria no es un peligro cuando conoces el cielo y la tierra la victoria es inagotable capitulo 11 sobre las nueve clases de terreno conforme a las leyes de las operaciones militares existen nueve clases de terreno si intereses locales luchan entre si en su propio territorio a este se le llama terreno de dispersion cuando los soldados estan apegados a su casa y combaten cerca de su hogar pueden ser dispersados con facilidad cuando penetras en un territorio ajeno pero no lo haces en profundidad a este se le llama territorio ligero esto significa que los soldados pueden regresar facilmente el territorio que puede resultarte ventajoso si lo tomas y ventajoso al enemigo si es el quien lo conquista se llama terreno clave un terreno de lucha inevitable es cualquier enclave defensivo o paso estrategico un territorio igualmente accesible para ti y para los demas se llama terreno de comunicacion el territorio que esta rodeado por tres territorios rivales y es el primero en proporcionar libre acceso a el a todo el mundo se llama terreno de interseccion el terreno de interseccion es aquel en el que convergen las principales vias de comunicacion uniendolas entre si se el primero en ocuparlo y la gente tendra que ponerse de tu lado si lo obtienes te encuentras seguro si lo pierdes corres peligro cuando penetras en profundidad en un territorio ajeno y dejas detras muchas ciudades y pueblos a este terreno se le llama dificil es un terreno del que es dificil regresar cuando atraviesas monta as boscosas desfiladeros abruptos u otros accidentes dificiles de atravesar a esto se le llama terreno desfavorable cuando el acceso es estrecho y la salida es tortuosa de manera que una peque a unidad enemiga puede atacarte aunque tus tropas sean mas numerosas a este se le llama terreno cercado si eres capaz de una gran adaptacion puedes atravesar este territorio si solo puedes sobrevivir en un territorio luchando con rapidez y si es facil morir si no lo haces a este se le llama terreno mortal las tropas que se encuentran en un terreno mortal estan en la misma situacion que si se encontraran en una barca que se hunde o en una casa ardiendo asi pues no combatas en un terreno de dispersion no te detengas en un terreno ligero no ataques en un terreno clave ocupado por el enemigo no dejes que tus tropas sean divididas en un terreno de comunicacion en terrenos de interseccion establece comunicaciones en terrenos dificiles entra aprovisionado en terrenos desfavorables continua marchando en terrenos cercados haz planes en terrenos mortales lucha en un terreno de dispersion los soldados pueden huir un terreno ligero es cuando los soldados han penetrado en territorio enemigo pero todavia no tienen las espaldas cubiertas por eso sus mentes no estan realmente concentradas y no estan listos para la batalla no es ventajoso atacar al enemigo en un terreno clave lo que es ventajoso es llegar el primero a el no debe permitirse que quede aislado el terreno de comunicacion para poder servirse de las rutas de suministros en terrenos de interseccion estaras a salvo si estableces alianzas si las pierdes te encontraras en peligro en terrenos dificiles entrar aprovisionado significa reunir todo lo necesario para estar alli mucho tiempo en terrenos desfavorables ya que no puedes atrincherarte en ello debes apresurarte a salir en terrenos cercados introduce tacticas sorpresivas si las tropas caen en un terreno mortal todo el mundo luchara de manera espontanea por esto se dice situa a las tropas en un terreno mortal y sobreviviran los que eran antes considerados como expertos en el arte de la guerra eran capaces de hacer que el enemigo perdiera contacto entre su vanguardia y su retaguardia la confianza entre las grandes y las peque as unidades el interes reciproco por el bienestar de los diferentes rangos el apoyo mutuo entre gobernantes y gobernados el alistamiento de soldados y la coherencia de sus ejercitos estos expertos entraban en accion cuando les era ventajoso y se retenian en caso contrario introducian cambios para confundir al enemigo atacandolos aqui y alla aterrorizandolos y sembrando en ellos la confusion de tal manera que no les daban tiempo para hacer planes se podria preguntar como enfrentarse a fuerzas enemigas numerosas y bien organizadas que se dirigen hacia ti la respuesta es quitarles en primer lugar algo que aprecien y despues te escucharan la rapidez de accion es el factor esencial de la condicion de la fuerza militar aprovechandose de los errores de los adversarios desplazandose por caminos que no esperan y atacando cuando no estan en guardia esto significa que para aprovecharse de la falta de preparacion de vision y de cautela de los adversarios es necesario actuar con rapidez y que si dudas esos errores no te serviran de nada en una invasion por regla general cuanto mas se adentran los invasores en el territorio ajeno mas fuertes se hacen hasta el punto de que el gobierno nativo no puede ya expulsarlos escoge campos fertiles y las tropas tendran suficiente para comer cuida de su salud y evita el cansancio consolida su energia aumenta su fuerza que los movimientos de tus tropas y la preparacion de tus planes sean insondables consolida la energia mas entusiasta de tus tropas ahorra las fuerzas sobrantes manten en secreto tus formaciones y tus planes permaneciendo insondable para los enemigos y espera a que se produzca un punto vulnerable para avanzar situa a tus tropas en un punto que no tenga salida de manera que tengan que morir antes de poder escapar porque ante la posibilidad de la muerte que no estaran dispuestas a hacer los guerreros dan entonces lo mejor de sus fuerzas cuando se hallan ante un grave peligro pierden el miedo cuando no hay ningun sitio a donde ir permanecen firmes cuando estan totalmente implicados en un terreno se aferran a el si no tienen otra opcion lucharan hasta el final por esta razon los soldados estan vigilantes sin tener que ser estimulados se alistan sin tener que ser llamados a filas son amistosos sin necesidad de promesas y se puede confiar en ellos sin necesidad de ordenes esto significa que cuando los combatientes se encuentran en peligro de muerte sea cual sea su rango todos tienen el mismo objetivo y por lo tanto estan alerta sin necesidad de ser estimulados tienen buena voluntad de manera espontanea y sin necesidad de recibir ordenes y puede confiarse de manera natural en ellos sin promesas ni necesidad de jerarquia prohibe los augurios para evitar las dudas y los soldados nunca te abandonaran si tus soldados no tienen riquezas no es porque las desde en si no tienen mas longevidad no es porque no quieran vivir mas tiempo el dia en que se da la orden de marcha los soldados lloran asi pues una operacion militar preparada con pericia debe ser como una serpiente veloz que contraataca con su cola cuando alguien le ataca por la cabeza contraataca con la cabeza cuando alguien le ataca por la cola y contraataca con cabeza y cola cuando alguien le ataca por el medio esta imagen representa el metodo de una linea de batalla que responde velozmente cuando es atacada un manual de ocho formaciones clasicas de batalla dice haz del frente la retaguardia haz de la retaguardia el frente con cuatro cabezas y ocho colas haz que la cabeza este en todas partes y cuando el enemigo arremeta por el centro cabeza y cola acudiran al rescate puede preguntarse la cuestion de si es posible hacer que una fuerza militar sea como una serpiente rapida la respuesta es afirmativa incluso las personas que se tienen antipatia encontrandose en el mismo barco se ayudaran entre si en caso de peligro de zozobrar es la fuerza de la situacion la que hace que esto suceda por esto no basta con depositar la confianza en caballos atados y ruedas fijadas se atan los caballos para formar una linea de combate estable y se fijan las ruedas para hacer que los carros no se puedan mover pero aun asi esto no es suficientemente seguro ni se puede confiar en ello es necesario permitir que haya variantes a los cambios que se hacen poniendo a los soldados en situaciones mortales de manera que combatan de forma espontanea y se ayuden unos a otros codo con codo este es el camino de la seguridad y de la obtencion de una victoria cierta la mejor organizacion es hacer que se exprese el valor y mantenerlo constante tener exito tanto con tropas debiles como con tropas aguerridas se basa en la configuracion de las circunstancias si obtienes la ventaja del terreno puedes vencer a los adversarios incluso con tropas ligeras y debiles cuanto mas te seria posible si tienes tropas poderosas y aguerridas lo que hace posible la victoria a ambas clases de tropas es las circunstancias del terreno por lo tanto los expertos en operaciones militares logran la cooperacion de la tropa de tal manera que dirigir un grupo es como dirigir a un solo individuo que no tiene mas que una sola opcion corresponde al general ser tranquilo reservado justo y metodico sus planes son tranquilos y absolutamente secretos para que nadie pueda descubrirlos su mando es justo y metodico asi que nadie se atreve a tomarlo a la ligera puede mantener a sus soldados sin informacion y en completa ignorancia de sus planes cambia sus acciones y revisa sus planes de manera que nadie pueda reconocerlos cambia de lugar su emplazamiento y se desplaza por caminos sinuosos de manera que nadie pueda anticiparse puedes ganar cuando nadie puede entender en ningun momento cuales son tus intenciones dice un gran hombre el principal enga o que se valora en las operaciones militares no se dirige solo a los enemigos sino que empieza por las propias tropas para hacer que le sigan a uno sin saber a donde van cuando un general fija una meta a sus tropas es como el que sube a un lugar elevado y despues retira la escalera cuando un general se adentra muy en el interior del territorio enemigo esta poniendo a prueba todo su potencial ha hecho quemar las naves a sus tropas y destruir sus casas asi las conduce como un reba o y todos ignoran hacia donde se encaminan incumbe a los generales reunir a los ejercitos y ponerlos en situaciones peligrosas tambien han de examinar las adaptaciones a los diferentes terrenos las ventajas de concentrarse o dispersarse y las pautas de los sentimientos y situaciones humanas cuando se habla de ventajas y de desventajas de la concentracion y de la dispersion quiere decir que las pautas de los comportamientos humanos cambian segun los diferentes tipos de terreno en general la pauta general de los invasores es unirse cuando estan en el corazon del territorio enemigo pero tienden a dispersarse cuando estan en las franjas fronterizas cuando dejas tu territorio y atraviesas la frontera en una operacion militar te hallas en un terreno aislado cuando es accesible desde todos los puntos es un terreno de comunicacion cuando te adentras en profundidad estas en un terreno dificil cuando penetras poco estas en un terreno ligero cuando a tus espaldas se hallen espesuras infranqueables y delante pasajes estrechos estas en un terreno cercado cuando no haya ningun sitio a donde ir se trata de un terreno mortal asi pues en un terreno de dispersion yo unificaria las mentes de los soldados en un terreno ligero las mantendria en contacto en un terreno clave les haria apresurarse para tomarlo en un terreno de interseccion prestaria atencion a la defensa en un terreno de comunicacion estableceria solidas alianzas en un terreno dificil aseguraria suministros continuados en un terreno desfavorable urgiria a mis tropas a salir rapidamente de el en un terreno cercado cerraria las entradas en un terreno mortal indicaria a mis tropas que no existe ninguna posibilidad de sobrevivir por esto la psicologia de los soldados consiste en resistir cuando se ven rodeados luchar cuando no se puede evitar y obedecer en casos extremos hasta que los soldados no se ven rodeados no tienen la determinacion de resistir al enemigo hasta alcanzar la victoria cuando estan desesperados presentan una defensa unificada por ello los que ignoran los planes enemigos no pueden preparar alianzas los que ignoran las circunstancias del terreno no pueden hacer maniobrar a sus fuerzas los que no utilizan guias locales no pueden aprovecharse del terreno los militares de un gobierno eficaz deben conocer todos estos factores cuando el ejercito de un gobierno eficaz ataca a un gran territorio el pueblo no se puede unir cuando su poder sobrepasa a los adversarios es imposible hacer alianzas si puedes averiguar los planes de tus adversarios aprovechate del terreno y haz maniobrar al enemigo de manera que se encuentre indefenso en este caso ni siquiera un gran territorio puede reunir suficientes tropas para detenerte por lo tanto si no luchas por obtener alianzas ni aumentas el poder de ningun pais pero extiendes tu influencia personal amenazando a los adversarios todo ello hace que el pais y las ciudades enemigas sean vulnerables otorga recompensas que no esten reguladas y da ordenes desacostumbradas considera la ventaja de otorgar recompensas que no tengan precedentes observa como el enemigo hace promesas sin tener en cuenta los codigos establecidos maneja las tropas como si fueran una sola persona emplealas en tareas reales pero no les hables motivalas con recompensas pero no les comentes los perjuicios posibles emplea a tus soldados solo en combatir sin comunicarles tu estrategia dejales conocer los beneficios que les esperan pero no les hables de los da os potenciales si la verdad se filtra tu estrategia puede hundirse si los soldados empiezan a preocuparse se volveran vacilantes y temerosos colocalos en una situacion de posible exterminio y entonces lucharan para vivir ponles en peligro de muerte y entonces sobreviviran cuando las tropas afrontan peligros son capaces de luchar para obtener la victoria asi pues la tarea de una operacion militar es fingir acomodarse a las intenciones del enemigo si te concentras totalmente en este puedes matar a su general aunque estes a kilometros de distancia a esto se llama cumplir el objetivo con pericia al principio te acomodas a sus intenciones despues matas a sus generales esta es la pericia en el cumplimiento del objetivo asi el dia en que se declara la guerra se cierran las fronteras se rompen los salvoconductos y se impide el paso de emisarios los asuntos se deciden rigurosamente desde que se comienza a planificar y establecer la estrategia desde la casa o cuartel general el rigor en los cuarteles generales en la fase de planificacion se refiere al mantenimiento del secreto cuando el enemigo ofrece oportunidades aprovechalas inmediatamente enterate primero de lo que pretende y despues anticipate a el manten la disciplina y adaptate al enemigo para determinar el resultado de la guerra asi al principio eres como una doncella y el enemigo abre sus puertas entonces tu eres como una liebre suelta y el enemigo no podra expulsarte capitulo 12 sobre el arte de atacar por el fuego existen cinco clases de ataques mediante el fuego quemar a las personas quemar los suministros quemar el equipo quemar los almacenes y quemar las armas el uso del fuego tiene que tener una base y exige ciertos medios existen momentos adecuados para encender fuegos concretamente cuando el tiempo es seco y ventoso normalmente en ataques mediante el fuego es imprescindible seguir los cambios producidos por este cuando el fuego esta dentro del campamento enemigo preparate rapidamente desde fuera si los soldados se mantienen en calma cuando el fuego se ha declarado espera y no ataques cuando el fuego alcance su punto algido siguelo si puedes si no espera en general el fuego se utiliza para sembrar la confusion en el enemigo y asi poder atacarle cuando el fuego puede ser prendido en campo abierto no esperes a hacerlo en su interior hazlo cuando sea oportuno cuando el fuego sea atizado por el viento no ataques en direccion contraria a este no es eficaz luchar contra el impetu del fuego porque el enemigo luchara en este caso hasta la muerte si ha soplado el viento durante el dia a la noche amainara un viento diurno cesara al anochecer un viento nocturno cesara al amanecer los ejercitos han de saber que existen variantes de las cinco clases de ataques mediante el fuego y adaptarse a estas de manera racional no basta saber como atacar a los demas con el fuego es necesario saber como impedir que los demas te ataquen a ti asi pues la utilizacion del fuego para apoyar un ataque significa claridad y la utilizacion del agua para apoyar un ataque significa fuerza el agua puede incomunicar pero no puede arrasar el agua puede utilizarse para dividir a un ejercito enemigo de manera que su fuerza se desuna y la tuya se fortalezca ganar combatiendo o llevar a cabo un asedio victorioso sin recompensar a los que han hecho meritos trae mala fortuna y se hace merecedor de ser llamado avaro por eso se dice que un gobierno esclarecido lo tiene en cuenta y que un buen mando militar recompensa el merito no moviliza a sus tropas cuando no hay ventajas que obtener ni actua cuando no hay nada que ganar ni lucha cuando no existe peligro las armas son instrumentos de mal augurio y la guerra es un asunto peligroso es indispensable impedir una derrota desastrosa y por lo tanto no vale la pena movilizar un ejercito por razones insignificantes las armas solo deben utilizarse cuando no existe otro remedio un gobierno no debe movilizar un ejercito por ira y los jefes militares no deben provocar la guerra por colera actua cuando sea beneficioso en caso contrario desiste la ira puede convertirse en alegria y la colera puede convertirse en placer pero un pueblo destruido no puede hacerse renacer y la muerte no puede convertirse en vida en consecuencia un gobierno esclarecido presta atencion a todo esto y un buen mando militar lo tiene en cuenta esta es la manera de mantener a la nacion a salvo y de conservar intacto a su ejercito capitulo 13 sobre la concordia y la discordia una operacion militar significa un gran esfuerzo para el pueblo y la guerra puede durar muchos a os para obtener una victoria de un dia asi pues fallar en conocer la situacion de los adversarios por economizar en aprobar gastos para investigar y estudiar a la oposicion es extremadamente inhumano y no es tipico de un buen jefe militar de un consejero de gobierno ni de un gobernante victorioso por lo tanto lo que posibilita a un gobierno inteligente y a un mando militar sabio vencer a los demas y lograr triunfos extraordinarios es contar con esa informacion esencial la informacion previa no puede obtenerse de fantasmas ni espiritus ni se puede tener por analogia ni descubrir mediante calculos debe obtenerse de personas personas que conozcan la situacion del adversario existen cinco clases de espias el espia nativo el espia interno el doble agente el espia liquidable y el espia flotante cuando estan activos todos ellos nadie conoce sus rutas a esto se le llama genio organizativo y se aplica al gobernante los espias nativos se contratan entre los habitantes de una localidad los espias internos se contratan entre los funcionarios enemigos los agentes dobles se contratan entre los espias enemigos los espias liquidables transmiten falsos datos a los espias enemigos los espias flotantes vuelven para traer sus informes entre los funcionarios del regimen enemigo se hallan aquellos con los que se puede establecer contacto y a los que se puede sobornar para averiguar la situacion de su pais y descubrir cualquier plan que se trame contra ti tambien pueden ser utilizados para crear desavenencias y desarmonia en consecuencia nadie en las fuerzas armadas es tratado con tanta familiaridad como los espias ni a nadie se le otorgan recompensas tan grandes como a ellos ni hay asunto mas secreto que el espionaje si no se trata bien a los espias pueden convertirse en renegados y trabajar para el enemigo no se puede utilizar a los espias sin sagacidad y conocimiento no puede uno servirse de espias sin humanidad y justicia no se puede obtener la verdad de los espias sin sutileza ciertamente es un asunto muy delicado los espias son utiles en todas partes cada asunto requiere un conocimiento previo si algun asunto de espionaje es divulgado antes de que el espia haya informado este y el que lo haya divulgado deben eliminarse siempre que quieras atacar a un ejercito asediar una ciudad o atacar a una persona has de conocer previamente la identidad de los generales que la defienden de sus aliados sus visitantes sus centinelas y de sus criados asi pues haz que tus espias averiguen todo sobre ellos siempre que vayas a atacar y a combatir debes conocer primero los talentos de los servidores del enemigo y asi puedes enfrentarte a ellos segun sus capacidades debes buscar a agentes enemigos que hayan venido a espiarte sobornarlos e inducirlos a pasarse a tu lado para poder utilizarlos como agentes dobles con la informacion obtenida de esta manera puedes encontrar espias nativos y espias internos para contratarlos con la informacion obtenida de estos puedes fabricar informacion falsa sirviendote de espias liquidables con la informacion asi obtenida puedes hacer que los espias flotantes actuen segun los planes previstos es esencial para un gobernante conocer las cinco clases de espionaje y este conocimiento depende de los agentes dobles asi pues estos deben ser bien tratados asi solo un gobernante brillante o un general sabio que pueda utilizar a los mas inteligentes para el espionaje puede estar seguro de la victoria el espionaje es esencial para las operaciones militares y los ejercitos dependen de el para llevar a cabo sus acciones no sera ventajoso para el ejercito actuar sin conocer la situacion del enemigo y conocer la situacion del enemigo no es posible sin el espionaje \n"
          ]
        }
      ]
    },
    {
      "cell_type": "markdown",
      "metadata": {
        "id": "i-Qr24Chypjd"
      },
      "source": [
        "##P1. entendiendo el texto"
      ]
    },
    {
      "cell_type": "code",
      "metadata": {
        "colab": {
          "base_uri": "https://localhost:8080/"
        },
        "id": "TpxHpVkcys57",
        "outputId": "2c1ccabc-1c13-49eb-99c0-53e46b64f544"
      },
      "source": [
        "print('el texto tiene longitud de:{} caracteres'. format(len(texto)))\n",
        "vocab = sorted(set(texto))\n",
        "print('el texto esta compuesto de estos :{} caracteres'. format(len(vocab)))\n",
        "print(vocab)"
      ],
      "execution_count": 6,
      "outputs": [
        {
          "output_type": "stream",
          "name": "stdout",
          "text": [
            "el texto tiene longitud de:83333 caracteres\n",
            "el texto esta compuesto de estos :36 caracteres\n",
            "[' ', '0', '1', '2', '3', '4', '5', '6', '7', '8', '9', 'a', 'b', 'c', 'd', 'e', 'f', 'g', 'h', 'i', 'j', 'k', 'l', 'm', 'n', 'o', 'p', 'q', 'r', 's', 't', 'u', 'v', 'x', 'y', 'z']\n"
          ]
        }
      ]
    },
    {
      "cell_type": "markdown",
      "metadata": {
        "id": "xPUI-QIDy7Mm"
      },
      "source": [
        "##P2. pasar el texto a números\n",
        "\n",
        "---\n",
        "as redes neuronales solo procesan valores numéricos, no letras, por tanto tenemos que traducir los caracteres a representación numérica. Para ello crearemos dos “tablas de traducción”: una de caracteres a números y otra de números a caracteres"
      ]
    },
    {
      "cell_type": "code",
      "metadata": {
        "colab": {
          "base_uri": "https://localhost:8080/"
        },
        "id": "YUZb1tLVzIke",
        "outputId": "671cf684-85c7-4938-ed18-aed0b4a3e666"
      },
      "source": [
        "char2idx = {u:i for i, u in enumerate(vocab)} # asignamos un número a cada vocablo\n",
        "idx2char = np.array(vocab)\n",
        "#-----------revisando las conversiones\n",
        "#for char,_ in zip(char2idx, range(len(vocab))):\n",
        "#    print(' {:4s}: {:3d},'.format(repr(char),char2idx[char]))\n",
        "\n",
        "#pasamos todo el texto a números\n",
        "texto_como_entero= np.array([char2idx[c] for c in texto])\n",
        "print('texto: {}'.format(repr(texto[:100])))\n",
        "print('{}'.format(repr(texto_como_entero[:100])))"
      ],
      "execution_count": 7,
      "outputs": [
        {
          "output_type": "stream",
          "name": "stdout",
          "text": [
            "texto: 'el arte de la guerra capitulo 1 sobre la evaluacion sun tzu dice la guerra es de vital importancia p'\n",
            "array([15, 22,  0, 11, 28, 30, 15,  0, 14, 15,  0, 22, 11,  0, 17, 31, 15,\n",
            "       28, 28, 11,  0, 13, 11, 26, 19, 30, 31, 22, 25,  0,  2,  0, 29, 25,\n",
            "       12, 28, 15,  0, 22, 11,  0, 15, 32, 11, 22, 31, 11, 13, 19, 25, 24,\n",
            "        0, 29, 31, 24,  0, 30, 35, 31,  0, 14, 19, 13, 15,  0, 22, 11,  0,\n",
            "       17, 31, 15, 28, 28, 11,  0, 15, 29,  0, 14, 15,  0, 32, 19, 30, 11,\n",
            "       22,  0, 19, 23, 26, 25, 28, 30, 11, 24, 13, 19, 11,  0, 26])\n"
          ]
        }
      ]
    },
    {
      "cell_type": "code",
      "metadata": {
        "id": "qD9Dhi32XpKj"
      },
      "source": [
        "rows=[]\n",
        "columns=['num','vocab']\n",
        "for i, voc in enumerate(vocab):\n",
        "  #print(i,'-->', voc)\n",
        "  rows.append([i,voc])\n",
        "df= pd.DataFrame(columns=['num','vocab'],data=rows)\n",
        "df.head(10)\n",
        "df.to_csv('data_vocab.csv',index=False)"
      ],
      "execution_count": 8,
      "outputs": []
    },
    {
      "cell_type": "markdown",
      "metadata": {
        "id": "kIT7JzLG4LIs"
      },
      "source": [
        "##P3. preparar los datos para ser usados en la RNN"
      ]
    },
    {
      "cell_type": "code",
      "metadata": {
        "colab": {
          "base_uri": "https://localhost:8080/"
        },
        "id": "ky_cT7xN4OiO",
        "outputId": "968151fb-a95a-4b61-a5aa-d46e3309c51e"
      },
      "source": [
        "char_dataset= tf.data.Dataset.from_tensor_slices(texto_como_entero)\n",
        "#cantidad de secuencia de caracteres\n",
        "secu_length=150\n",
        "#creamos secuencias de maximo 100 caractereres\n",
        "secuencias= char_dataset.batch(secu_length+1, drop_remainder=True)\n",
        "for item in secuencias.take(10):\n",
        "  print(repr(''.join(idx2char[item.numpy()])))"
      ],
      "execution_count": 9,
      "outputs": [
        {
          "output_type": "stream",
          "name": "stdout",
          "text": [
            "'el arte de la guerra capitulo 1 sobre la evaluacion sun tzu dice la guerra es de vital importancia para el estado es el dominio de la vida o de la muer'\n",
            "'te el camino hacia la supervivencia o la perdida del imperio es forzoso manejarla bien no reflexionar seriamente sobre todo lo que le concierne es dar '\n",
            "'prueba de una culpable indiferencia en lo que respecta a la conservacion o perdida de lo que nos es mas querido y ello no debe ocurrir entre nosotros h'\n",
            "'ay que valorarla en terminos de cinco factores fundamentales y hacer comparaciones entre diversas condiciones de los bandos rivales con vistas a determ'\n",
            "'inar el resultado de la guerra el primero de estos factores es la doctrina el segundo el tiempo el tercero el terreno el cuarto el mando y el quinto la'\n",
            "' disciplina la doctrina significa aquello que hace que el pueblo este en armonia con su gobernante de modo que le siga donde sea sin temer por sus vida'\n",
            "'s ni a correr cualquier peligro el tiempo significa el ying y el yang la noche y el dia el frio y el calor dias despejados o lluviosos y el cambio de l'\n",
            "'as estaciones el terreno implica las distancias y hace referencia a donde es facil o dificil desplazarse y si es campo abierto o lugares estrechos y es'\n",
            "'to influencia las posibilidades de supervivencia el mando ha de tener como cualidades sabiduria sinceridad benevolencia coraje y disciplina por ultimo '\n",
            "'la disciplina ha de ser comprendida como la organizacion del ejercito las graduaciones y rangos entre los oficiales la regulacion de las rutas de sumin'\n"
          ]
        }
      ]
    },
    {
      "cell_type": "markdown",
      "metadata": {
        "id": "Xz5cEwf6_bpv"
      },
      "source": [
        "###P3.1 separar los datos en agrupamientos (batches)"
      ]
    },
    {
      "cell_type": "code",
      "metadata": {
        "colab": {
          "base_uri": "https://localhost:8080/"
        },
        "id": "-l6Tobzz7hww",
        "outputId": "f68ef648-79da-437e-c3fe-d060332c0ae5"
      },
      "source": [
        "#funcion para obtener el conjunto de datos de trainning\n",
        "def split_input_target(chunk):\n",
        "  input_text = chunk[:-1]\n",
        "  target_text= chunk[1:]\n",
        "  return input_text, target_text\n",
        "\n",
        "dataset  = secuencias.map(split_input_target)\n",
        "#el dataset contiene un conjunto de parejas de secuencia de texto\n",
        "#(con la representación numérica de los caracteres), donde el \n",
        "#primer componente de la pareja contiene un paquete con una secuencia \n",
        "#de 100 caracteres del texto original y la segunda su correspondiente salida, \n",
        "#también de 100 caracteres. )\n",
        "for input_example, target_example in dataset.take(1):\n",
        "  print('input data: ', repr(''.join(idx2char[input_example.numpy()])))\n",
        "  print('Target data: ', repr(''.join(idx2char[target_example.numpy()])))"
      ],
      "execution_count": 10,
      "outputs": [
        {
          "output_type": "stream",
          "name": "stdout",
          "text": [
            "input data:  'el arte de la guerra capitulo 1 sobre la evaluacion sun tzu dice la guerra es de vital importancia para el estado es el dominio de la vida o de la mue'\n",
            "Target data:  'l arte de la guerra capitulo 1 sobre la evaluacion sun tzu dice la guerra es de vital importancia para el estado es el dominio de la vida o de la muer'\n"
          ]
        }
      ]
    },
    {
      "cell_type": "code",
      "metadata": {
        "colab": {
          "base_uri": "https://localhost:8080/"
        },
        "id": "8UM54Sfe9x80",
        "outputId": "7d5d594d-c5e5-4fd6-beae-d5060fcaacfc"
      },
      "source": [
        "#imprimimos el tensor del dataset\n",
        "print(dataset)\n",
        "#Hyper-Parametros para entrenamiento  de una rede neuronal \n",
        "#   -los datos se agrupan en batch\n",
        "BATCH_SIZE= 64\n",
        "#    -Tamaño de memoria disponible \n",
        "BUFFER_SIZE=10000\n",
        "dataset= dataset.shuffle(BUFFER_SIZE).batch(BATCH_SIZE, drop_remainder=True)\n",
        "print (dataset)\n",
        "#En el tensor dataset disponemos los datos de entrenamiento\n",
        "#con agrupamienttos (batches) compuestos de 64 parejas de secuencias \n",
        "#de 100 integers de 64 bits que representan el carácter correspondiente \n",
        "#en el vocabulario."
      ],
      "execution_count": 11,
      "outputs": [
        {
          "output_type": "stream",
          "name": "stdout",
          "text": [
            "<MapDataset shapes: ((150,), (150,)), types: (tf.int64, tf.int64)>\n",
            "<BatchDataset shapes: ((64, 150), (64, 150)), types: (tf.int64, tf.int64)>\n"
          ]
        }
      ]
    },
    {
      "cell_type": "markdown",
      "metadata": {
        "id": "kDFFru4s_jon"
      },
      "source": [
        "##P4.Construcción del modelo RNN\n",
        "\n",
        "---\n",
        "Para construir el modelo usaremos tf.keras.Sequential. Usaremos una versión mínima de RNN, que contenga solo una capa LSTM y 3 capas.\n"
      ]
    },
    {
      "cell_type": "code",
      "metadata": {
        "colab": {
          "base_uri": "https://localhost:8080/"
        },
        "id": "Ox_5lKZh_qUN",
        "outputId": "6536267f-d3a6-4f36-ac7a-dca83bab9b27"
      },
      "source": [
        "#como es un problema de clasificación estándar \n",
        "#para el que debemos definir la función de Lossy el optimizador.\n",
        "def lossy(labels, logits):\n",
        "  return tf.keras.losses.sparse_categorical_crossentropy(labels, logits, from_logits=True)\n",
        "\n",
        "def create_model(vocab_size, embedding_dim, rnn_units, batch_size):\n",
        "  #creando el modelo\n",
        "  model = tf.keras.Sequential([\n",
        "    tf.keras.layers.Embedding(vocab_size, embedding_dim,\n",
        "                              batch_input_shape=[batch_size, None]),\n",
        "    tf.keras.layers.LSTM(rnn_units,\n",
        "                         return_sequences=True,\n",
        "                         stateful=True,\n",
        "                         recurrent_initializer='glorot_uniform'),\n",
        "    tf.keras.layers.Dense(vocab_size)                               \n",
        "  ])\n",
        "  #En cuanto al optimizador usaremos tf.keras.optimizers.Adam \n",
        "  #con los argumentos por defecto del optimizador Adam. \n",
        "  model.compile(optimizer='adam',\n",
        "              loss=lossy,\n",
        "              metrics=['accuracy'])\n",
        "  return model\n",
        "vocab_size= len(vocab)\n",
        "#dimensiones de los vectores que tendrá la capa.\n",
        "embedding_dim= 256\n",
        "#cantidad de neuronas\n",
        "rnn_units=1024\n",
        "#creamos nuestra red neuronal RNN\n",
        "model=create_model(vocab_size   =vocab_size,\n",
        "                  embedding_dim =embedding_dim,\n",
        "                  rnn_units     =rnn_units,\n",
        "                  batch_size    =BATCH_SIZE)\n",
        "#summary()para visualizar la estructura del modelo\n",
        "model.summary()\n",
        "#resultados=  -La capa LSTM consta más de 5 millones de parametros)"
      ],
      "execution_count": 12,
      "outputs": [
        {
          "output_type": "stream",
          "name": "stdout",
          "text": [
            "Model: \"sequential\"\n",
            "_________________________________________________________________\n",
            " Layer (type)                Output Shape              Param #   \n",
            "=================================================================\n",
            " embedding (Embedding)       (64, None, 256)           9216      \n",
            "                                                                 \n",
            " lstm (LSTM)                 (64, None, 1024)          5246976   \n",
            "                                                                 \n",
            " dense (Dense)               (64, None, 36)            36900     \n",
            "                                                                 \n",
            "=================================================================\n",
            "Total params: 5,293,092\n",
            "Trainable params: 5,293,092\n",
            "Non-trainable params: 0\n",
            "_________________________________________________________________\n"
          ]
        }
      ]
    },
    {
      "cell_type": "code",
      "metadata": {
        "colab": {
          "base_uri": "https://localhost:8080/"
        },
        "id": "-QchZxzpE5Yl",
        "outputId": "83c0f710-04f6-4d03-8cc9-6ca7d0079163"
      },
      "source": [
        "from google.colab import drive\n",
        "drive.mount('/content/drive')"
      ],
      "execution_count": null,
      "outputs": [
        {
          "output_type": "stream",
          "name": "stdout",
          "text": [
            "Drive already mounted at /content/drive; to attempt to forcibly remount, call drive.mount(\"/content/drive\", force_remount=True).\n"
          ]
        }
      ]
    },
    {
      "cell_type": "markdown",
      "metadata": {
        "id": "dPnll1ubFvZO"
      },
      "source": [
        "###P4.1 Creando chekpoints\n",
        "\n",
        "---\n",
        "una técnica de tolerancia de fallos para procesos cuyo tiempo de ejecución es muy largo. La idea es guardar una instantánea del estado del sistema periódicamente para recuperar desde ese punto la ejecución en caso de fallo del sistema.\n",
        "\n",
        "---\n",
        "los crearemos en google drive para mejorar la capacidad de reentrenamiento de la red\n"
      ]
    },
    {
      "cell_type": "code",
      "metadata": {
        "colab": {
          "base_uri": "https://localhost:8080/"
        },
        "id": "L24WhqeauMWk",
        "outputId": "84bc1937-ec1e-45be-d38b-2d6039f74dd0"
      },
      "source": [
        "from google.colab import drive\n",
        "drive.mount('/content/gdrive')"
      ],
      "execution_count": 13,
      "outputs": [
        {
          "output_type": "stream",
          "name": "stdout",
          "text": [
            "Mounted at /content/gdrive\n"
          ]
        }
      ]
    },
    {
      "cell_type": "code",
      "metadata": {
        "id": "XbeXxiWLF5hN"
      },
      "source": [
        "checkpoint_dir='/content/gdrive/MyDrive/CheckPoints'\n",
        "checkpoint_prefix= os.path.join(checkpoint_dir,\"cp_{epoch:04d}.ckpt\")\n",
        "\n",
        "\n",
        "cp_callback=tf.keras.callbacks.ModelCheckpoint(filepath=checkpoint_prefix,\n",
        "                                               monitor='loss',\n",
        "                                               verbose=1,\n",
        "                                               save_weights_only=True,\n",
        "                                               save_best_only=True,\n",
        "                                               mode='auto')\n"
      ],
      "execution_count": 14,
      "outputs": []
    },
    {
      "cell_type": "markdown",
      "metadata": {
        "id": "trmMLMjxGjuP"
      },
      "source": [
        "###P4.2 entrenando"
      ]
    },
    {
      "cell_type": "markdown",
      "metadata": {
        "id": "LPXvQuLrQEAF"
      },
      "source": [
        "####P4.2a entrenando para usar chekpoints"
      ]
    },
    {
      "cell_type": "code",
      "metadata": {
        "colab": {
          "base_uri": "https://localhost:8080/",
          "height": 363
        },
        "id": "9l5cnXgLQI7H",
        "outputId": "761e710a-52f5-4666-f2e6-08b52bddfebd"
      },
      "source": [
        "EPOCHS=300\n",
        "history=model.fit(dataset, \n",
        "                  epochs=EPOCHS, \n",
        "                  verbose=1,\n",
        "                  callbacks=[cp_callback])"
      ],
      "execution_count": null,
      "outputs": [
        {
          "output_type": "stream",
          "name": "stdout",
          "text": [
            "Epoch 1/200\n"
          ]
        },
        {
          "output_type": "error",
          "ename": "KeyboardInterrupt",
          "evalue": "ignored",
          "traceback": [
            "\u001b[0;31m---------------------------------------------------------------------------\u001b[0m",
            "\u001b[0;31mKeyboardInterrupt\u001b[0m                         Traceback (most recent call last)",
            "\u001b[0;32m<ipython-input-74-6211bc7f78da>\u001b[0m in \u001b[0;36m<module>\u001b[0;34m()\u001b[0m\n\u001b[1;32m      3\u001b[0m                   \u001b[0mepochs\u001b[0m\u001b[0;34m=\u001b[0m\u001b[0mEPOCHS\u001b[0m\u001b[0;34m,\u001b[0m\u001b[0;34m\u001b[0m\u001b[0;34m\u001b[0m\u001b[0m\n\u001b[1;32m      4\u001b[0m                   \u001b[0mverbose\u001b[0m\u001b[0;34m=\u001b[0m\u001b[0;36m1\u001b[0m\u001b[0;34m,\u001b[0m\u001b[0;34m\u001b[0m\u001b[0;34m\u001b[0m\u001b[0m\n\u001b[0;32m----> 5\u001b[0;31m                   callbacks=[cp_callback])\n\u001b[0m",
            "\u001b[0;32m/usr/local/lib/python3.7/dist-packages/keras/utils/traceback_utils.py\u001b[0m in \u001b[0;36merror_handler\u001b[0;34m(*args, **kwargs)\u001b[0m\n\u001b[1;32m     62\u001b[0m     \u001b[0mfiltered_tb\u001b[0m \u001b[0;34m=\u001b[0m \u001b[0;32mNone\u001b[0m\u001b[0;34m\u001b[0m\u001b[0;34m\u001b[0m\u001b[0m\n\u001b[1;32m     63\u001b[0m     \u001b[0;32mtry\u001b[0m\u001b[0;34m:\u001b[0m\u001b[0;34m\u001b[0m\u001b[0;34m\u001b[0m\u001b[0m\n\u001b[0;32m---> 64\u001b[0;31m       \u001b[0;32mreturn\u001b[0m \u001b[0mfn\u001b[0m\u001b[0;34m(\u001b[0m\u001b[0;34m*\u001b[0m\u001b[0margs\u001b[0m\u001b[0;34m,\u001b[0m \u001b[0;34m**\u001b[0m\u001b[0mkwargs\u001b[0m\u001b[0;34m)\u001b[0m\u001b[0;34m\u001b[0m\u001b[0;34m\u001b[0m\u001b[0m\n\u001b[0m\u001b[1;32m     65\u001b[0m     \u001b[0;32mexcept\u001b[0m \u001b[0mException\u001b[0m \u001b[0;32mas\u001b[0m \u001b[0me\u001b[0m\u001b[0;34m:\u001b[0m  \u001b[0;31m# pylint: disable=broad-except\u001b[0m\u001b[0;34m\u001b[0m\u001b[0;34m\u001b[0m\u001b[0m\n\u001b[1;32m     66\u001b[0m       \u001b[0mfiltered_tb\u001b[0m \u001b[0;34m=\u001b[0m \u001b[0m_process_traceback_frames\u001b[0m\u001b[0;34m(\u001b[0m\u001b[0me\u001b[0m\u001b[0;34m.\u001b[0m\u001b[0m__traceback__\u001b[0m\u001b[0;34m)\u001b[0m\u001b[0;34m\u001b[0m\u001b[0;34m\u001b[0m\u001b[0m\n",
            "\u001b[0;32m/usr/local/lib/python3.7/dist-packages/keras/engine/training.py\u001b[0m in \u001b[0;36mfit\u001b[0;34m(self, x, y, batch_size, epochs, verbose, callbacks, validation_split, validation_data, shuffle, class_weight, sample_weight, initial_epoch, steps_per_epoch, validation_steps, validation_batch_size, validation_freq, max_queue_size, workers, use_multiprocessing)\u001b[0m\n\u001b[1;32m   1214\u001b[0m                 _r=1):\n\u001b[1;32m   1215\u001b[0m               \u001b[0mcallbacks\u001b[0m\u001b[0;34m.\u001b[0m\u001b[0mon_train_batch_begin\u001b[0m\u001b[0;34m(\u001b[0m\u001b[0mstep\u001b[0m\u001b[0;34m)\u001b[0m\u001b[0;34m\u001b[0m\u001b[0;34m\u001b[0m\u001b[0m\n\u001b[0;32m-> 1216\u001b[0;31m               \u001b[0mtmp_logs\u001b[0m \u001b[0;34m=\u001b[0m \u001b[0mself\u001b[0m\u001b[0;34m.\u001b[0m\u001b[0mtrain_function\u001b[0m\u001b[0;34m(\u001b[0m\u001b[0miterator\u001b[0m\u001b[0;34m)\u001b[0m\u001b[0;34m\u001b[0m\u001b[0;34m\u001b[0m\u001b[0m\n\u001b[0m\u001b[1;32m   1217\u001b[0m               \u001b[0;32mif\u001b[0m \u001b[0mdata_handler\u001b[0m\u001b[0;34m.\u001b[0m\u001b[0mshould_sync\u001b[0m\u001b[0;34m:\u001b[0m\u001b[0;34m\u001b[0m\u001b[0;34m\u001b[0m\u001b[0m\n\u001b[1;32m   1218\u001b[0m                 \u001b[0mcontext\u001b[0m\u001b[0;34m.\u001b[0m\u001b[0masync_wait\u001b[0m\u001b[0;34m(\u001b[0m\u001b[0;34m)\u001b[0m\u001b[0;34m\u001b[0m\u001b[0;34m\u001b[0m\u001b[0m\n",
            "\u001b[0;32m/usr/local/lib/python3.7/dist-packages/tensorflow/python/util/traceback_utils.py\u001b[0m in \u001b[0;36merror_handler\u001b[0;34m(*args, **kwargs)\u001b[0m\n\u001b[1;32m    148\u001b[0m     \u001b[0mfiltered_tb\u001b[0m \u001b[0;34m=\u001b[0m \u001b[0;32mNone\u001b[0m\u001b[0;34m\u001b[0m\u001b[0;34m\u001b[0m\u001b[0m\n\u001b[1;32m    149\u001b[0m     \u001b[0;32mtry\u001b[0m\u001b[0;34m:\u001b[0m\u001b[0;34m\u001b[0m\u001b[0;34m\u001b[0m\u001b[0m\n\u001b[0;32m--> 150\u001b[0;31m       \u001b[0;32mreturn\u001b[0m \u001b[0mfn\u001b[0m\u001b[0;34m(\u001b[0m\u001b[0;34m*\u001b[0m\u001b[0margs\u001b[0m\u001b[0;34m,\u001b[0m \u001b[0;34m**\u001b[0m\u001b[0mkwargs\u001b[0m\u001b[0;34m)\u001b[0m\u001b[0;34m\u001b[0m\u001b[0;34m\u001b[0m\u001b[0m\n\u001b[0m\u001b[1;32m    151\u001b[0m     \u001b[0;32mexcept\u001b[0m \u001b[0mException\u001b[0m \u001b[0;32mas\u001b[0m \u001b[0me\u001b[0m\u001b[0;34m:\u001b[0m\u001b[0;34m\u001b[0m\u001b[0;34m\u001b[0m\u001b[0m\n\u001b[1;32m    152\u001b[0m       \u001b[0mfiltered_tb\u001b[0m \u001b[0;34m=\u001b[0m \u001b[0m_process_traceback_frames\u001b[0m\u001b[0;34m(\u001b[0m\u001b[0me\u001b[0m\u001b[0;34m.\u001b[0m\u001b[0m__traceback__\u001b[0m\u001b[0;34m)\u001b[0m\u001b[0;34m\u001b[0m\u001b[0;34m\u001b[0m\u001b[0m\n",
            "\u001b[0;32m/usr/local/lib/python3.7/dist-packages/tensorflow/python/eager/def_function.py\u001b[0m in \u001b[0;36m__call__\u001b[0;34m(self, *args, **kwds)\u001b[0m\n\u001b[1;32m    908\u001b[0m \u001b[0;34m\u001b[0m\u001b[0m\n\u001b[1;32m    909\u001b[0m       \u001b[0;32mwith\u001b[0m \u001b[0mOptionalXlaContext\u001b[0m\u001b[0;34m(\u001b[0m\u001b[0mself\u001b[0m\u001b[0;34m.\u001b[0m\u001b[0m_jit_compile\u001b[0m\u001b[0;34m)\u001b[0m\u001b[0;34m:\u001b[0m\u001b[0;34m\u001b[0m\u001b[0;34m\u001b[0m\u001b[0m\n\u001b[0;32m--> 910\u001b[0;31m         \u001b[0mresult\u001b[0m \u001b[0;34m=\u001b[0m \u001b[0mself\u001b[0m\u001b[0;34m.\u001b[0m\u001b[0m_call\u001b[0m\u001b[0;34m(\u001b[0m\u001b[0;34m*\u001b[0m\u001b[0margs\u001b[0m\u001b[0;34m,\u001b[0m \u001b[0;34m**\u001b[0m\u001b[0mkwds\u001b[0m\u001b[0;34m)\u001b[0m\u001b[0;34m\u001b[0m\u001b[0;34m\u001b[0m\u001b[0m\n\u001b[0m\u001b[1;32m    911\u001b[0m \u001b[0;34m\u001b[0m\u001b[0m\n\u001b[1;32m    912\u001b[0m       \u001b[0mnew_tracing_count\u001b[0m \u001b[0;34m=\u001b[0m \u001b[0mself\u001b[0m\u001b[0;34m.\u001b[0m\u001b[0mexperimental_get_tracing_count\u001b[0m\u001b[0;34m(\u001b[0m\u001b[0;34m)\u001b[0m\u001b[0;34m\u001b[0m\u001b[0;34m\u001b[0m\u001b[0m\n",
            "\u001b[0;32m/usr/local/lib/python3.7/dist-packages/tensorflow/python/eager/def_function.py\u001b[0m in \u001b[0;36m_call\u001b[0;34m(self, *args, **kwds)\u001b[0m\n\u001b[1;32m    973\u001b[0m         \u001b[0;31m# Lifting succeeded, so variables are initialized and we can run the\u001b[0m\u001b[0;34m\u001b[0m\u001b[0;34m\u001b[0m\u001b[0;34m\u001b[0m\u001b[0m\n\u001b[1;32m    974\u001b[0m         \u001b[0;31m# stateless function.\u001b[0m\u001b[0;34m\u001b[0m\u001b[0;34m\u001b[0m\u001b[0;34m\u001b[0m\u001b[0m\n\u001b[0;32m--> 975\u001b[0;31m         \u001b[0;32mreturn\u001b[0m \u001b[0mself\u001b[0m\u001b[0;34m.\u001b[0m\u001b[0m_stateless_fn\u001b[0m\u001b[0;34m(\u001b[0m\u001b[0;34m*\u001b[0m\u001b[0margs\u001b[0m\u001b[0;34m,\u001b[0m \u001b[0;34m**\u001b[0m\u001b[0mkwds\u001b[0m\u001b[0;34m)\u001b[0m\u001b[0;34m\u001b[0m\u001b[0;34m\u001b[0m\u001b[0m\n\u001b[0m\u001b[1;32m    976\u001b[0m     \u001b[0;32melse\u001b[0m\u001b[0;34m:\u001b[0m\u001b[0;34m\u001b[0m\u001b[0;34m\u001b[0m\u001b[0m\n\u001b[1;32m    977\u001b[0m       \u001b[0m_\u001b[0m\u001b[0;34m,\u001b[0m \u001b[0m_\u001b[0m\u001b[0;34m,\u001b[0m \u001b[0m_\u001b[0m\u001b[0;34m,\u001b[0m \u001b[0mfiltered_flat_args\u001b[0m \u001b[0;34m=\u001b[0m\u001b[0;31m \u001b[0m\u001b[0;31m\\\u001b[0m\u001b[0;34m\u001b[0m\u001b[0;34m\u001b[0m\u001b[0m\n",
            "\u001b[0;32m/usr/local/lib/python3.7/dist-packages/tensorflow/python/eager/function.py\u001b[0m in \u001b[0;36m__call__\u001b[0;34m(self, *args, **kwargs)\u001b[0m\n\u001b[1;32m   3129\u001b[0m        filtered_flat_args) = self._maybe_define_function(args, kwargs)\n\u001b[1;32m   3130\u001b[0m     return graph_function._call_flat(\n\u001b[0;32m-> 3131\u001b[0;31m         filtered_flat_args, captured_inputs=graph_function.captured_inputs)  # pylint: disable=protected-access\n\u001b[0m\u001b[1;32m   3132\u001b[0m \u001b[0;34m\u001b[0m\u001b[0m\n\u001b[1;32m   3133\u001b[0m   \u001b[0;34m@\u001b[0m\u001b[0mproperty\u001b[0m\u001b[0;34m\u001b[0m\u001b[0;34m\u001b[0m\u001b[0m\n",
            "\u001b[0;32m/usr/local/lib/python3.7/dist-packages/tensorflow/python/eager/function.py\u001b[0m in \u001b[0;36m_call_flat\u001b[0;34m(self, args, captured_inputs, cancellation_manager)\u001b[0m\n\u001b[1;32m   1958\u001b[0m       \u001b[0;31m# No tape is watching; skip to running the function.\u001b[0m\u001b[0;34m\u001b[0m\u001b[0;34m\u001b[0m\u001b[0;34m\u001b[0m\u001b[0m\n\u001b[1;32m   1959\u001b[0m       return self._build_call_outputs(self._inference_function.call(\n\u001b[0;32m-> 1960\u001b[0;31m           ctx, args, cancellation_manager=cancellation_manager))\n\u001b[0m\u001b[1;32m   1961\u001b[0m     forward_backward = self._select_forward_and_backward_functions(\n\u001b[1;32m   1962\u001b[0m         \u001b[0margs\u001b[0m\u001b[0;34m,\u001b[0m\u001b[0;34m\u001b[0m\u001b[0;34m\u001b[0m\u001b[0m\n",
            "\u001b[0;32m/usr/local/lib/python3.7/dist-packages/tensorflow/python/eager/function.py\u001b[0m in \u001b[0;36mcall\u001b[0;34m(self, ctx, args, cancellation_manager)\u001b[0m\n\u001b[1;32m    601\u001b[0m               \u001b[0minputs\u001b[0m\u001b[0;34m=\u001b[0m\u001b[0margs\u001b[0m\u001b[0;34m,\u001b[0m\u001b[0;34m\u001b[0m\u001b[0;34m\u001b[0m\u001b[0m\n\u001b[1;32m    602\u001b[0m               \u001b[0mattrs\u001b[0m\u001b[0;34m=\u001b[0m\u001b[0mattrs\u001b[0m\u001b[0;34m,\u001b[0m\u001b[0;34m\u001b[0m\u001b[0;34m\u001b[0m\u001b[0m\n\u001b[0;32m--> 603\u001b[0;31m               ctx=ctx)\n\u001b[0m\u001b[1;32m    604\u001b[0m         \u001b[0;32melse\u001b[0m\u001b[0;34m:\u001b[0m\u001b[0;34m\u001b[0m\u001b[0;34m\u001b[0m\u001b[0m\n\u001b[1;32m    605\u001b[0m           outputs = execute.execute_with_cancellation(\n",
            "\u001b[0;32m/usr/local/lib/python3.7/dist-packages/tensorflow/python/eager/execute.py\u001b[0m in \u001b[0;36mquick_execute\u001b[0;34m(op_name, num_outputs, inputs, attrs, ctx, name)\u001b[0m\n\u001b[1;32m     57\u001b[0m     \u001b[0mctx\u001b[0m\u001b[0;34m.\u001b[0m\u001b[0mensure_initialized\u001b[0m\u001b[0;34m(\u001b[0m\u001b[0;34m)\u001b[0m\u001b[0;34m\u001b[0m\u001b[0;34m\u001b[0m\u001b[0m\n\u001b[1;32m     58\u001b[0m     tensors = pywrap_tfe.TFE_Py_Execute(ctx._handle, device_name, op_name,\n\u001b[0;32m---> 59\u001b[0;31m                                         inputs, attrs, num_outputs)\n\u001b[0m\u001b[1;32m     60\u001b[0m   \u001b[0;32mexcept\u001b[0m \u001b[0mcore\u001b[0m\u001b[0;34m.\u001b[0m\u001b[0m_NotOkStatusException\u001b[0m \u001b[0;32mas\u001b[0m \u001b[0me\u001b[0m\u001b[0;34m:\u001b[0m\u001b[0;34m\u001b[0m\u001b[0;34m\u001b[0m\u001b[0m\n\u001b[1;32m     61\u001b[0m     \u001b[0;32mif\u001b[0m \u001b[0mname\u001b[0m \u001b[0;32mis\u001b[0m \u001b[0;32mnot\u001b[0m \u001b[0;32mNone\u001b[0m\u001b[0;34m:\u001b[0m\u001b[0;34m\u001b[0m\u001b[0;34m\u001b[0m\u001b[0m\n",
            "\u001b[0;31mKeyboardInterrupt\u001b[0m: "
          ]
        }
      ]
    },
    {
      "cell_type": "markdown",
      "metadata": {
        "id": "URtG1ZI0L99C"
      },
      "source": [
        "\n",
        "#####4.2a-1 entrenando desde un checkpoint\n",
        "\n",
        "---\n",
        "Desde la carpeta que optamos guardar los checkpoints\n",
        "\n",
        "*   el archivo .data es el archivo que contiene nuestras variables de entrenamiento y vamos a ir tras él.\n",
        "*   el archivo checkpoint, simplemente mantiene un registro de los últimos archivos de punto de control guardados\n",
        "\n",
        "\n"
      ]
    },
    {
      "cell_type": "code",
      "metadata": {
        "colab": {
          "base_uri": "https://localhost:8080/"
        },
        "id": "8o4h9cq8ac68",
        "outputId": "8b90ad68-4a07-4423-95f7-f99d9dd667bf"
      },
      "source": [
        "#creamos un modelo con iguales caracteristicas al 1° modelo\n",
        "model2=create_model(vocab_size   =vocab_size,\n",
        "                  embedding_dim =embedding_dim,\n",
        "                  rnn_units     =rnn_units,\n",
        "                  batch_size    =BATCH_SIZE)\n",
        "\n",
        "#buscamos el ultimo checkpoint de entrenamiento\n",
        "latest = tf.train.latest_checkpoint(checkpoint_dir)\n",
        "print(latest)"
      ],
      "execution_count": 15,
      "outputs": [
        {
          "output_type": "stream",
          "name": "stdout",
          "text": [
            "/content/gdrive/MyDrive/CheckPoints/cp_0010.ckpt\n"
          ]
        }
      ]
    },
    {
      "cell_type": "code",
      "metadata": {
        "colab": {
          "base_uri": "https://localhost:8080/",
          "height": 363
        },
        "id": "CGZCz4W3lkWa",
        "outputId": "62267057-b5e6-412a-dcab-ab5c7cfb68c4"
      },
      "source": [
        "# cargamos los pesos al nuevo modelo (estos valores tienes una variación de un 10%)\n",
        "model2.load_weights(latest)\n",
        "# continuamos el entrenamiento desde el checkpoint en que quedamos\n",
        "history_V2=model2.fit(dataset, \n",
        "                    epochs=100, \n",
        "                    verbose=1,\n",
        "                    callbacks=[cp_callback])"
      ],
      "execution_count": null,
      "outputs": [
        {
          "output_type": "error",
          "ename": "AttributeError",
          "evalue": "ignored",
          "traceback": [
            "\u001b[0;31m---------------------------------------------------------------------------\u001b[0m",
            "\u001b[0;31mAttributeError\u001b[0m                            Traceback (most recent call last)",
            "\u001b[0;32m<ipython-input-94-6b10fe90786a>\u001b[0m in \u001b[0;36m<module>\u001b[0;34m()\u001b[0m\n\u001b[1;32m      1\u001b[0m \u001b[0;31m# cargamos los pesos al nuevo modelo (estos valores tienes una variación de un 10%)\u001b[0m\u001b[0;34m\u001b[0m\u001b[0;34m\u001b[0m\u001b[0;34m\u001b[0m\u001b[0m\n\u001b[0;32m----> 2\u001b[0;31m \u001b[0mmodel2\u001b[0m\u001b[0;34m.\u001b[0m\u001b[0mload_weights\u001b[0m\u001b[0;34m(\u001b[0m\u001b[0mlatest\u001b[0m\u001b[0;34m)\u001b[0m\u001b[0;34m\u001b[0m\u001b[0;34m\u001b[0m\u001b[0m\n\u001b[0m\u001b[1;32m      3\u001b[0m \u001b[0;31m# continuamos el entrenamiento desde el checkpoint en que quedamos\u001b[0m\u001b[0;34m\u001b[0m\u001b[0;34m\u001b[0m\u001b[0;34m\u001b[0m\u001b[0m\n\u001b[1;32m      4\u001b[0m history_V2=model2.fit(dataset, \n\u001b[1;32m      5\u001b[0m                     \u001b[0mepochs\u001b[0m\u001b[0;34m=\u001b[0m\u001b[0;36m100\u001b[0m\u001b[0;34m,\u001b[0m\u001b[0;34m\u001b[0m\u001b[0;34m\u001b[0m\u001b[0m\n",
            "\u001b[0;32m/usr/local/lib/python3.7/dist-packages/keras/utils/traceback_utils.py\u001b[0m in \u001b[0;36merror_handler\u001b[0;34m(*args, **kwargs)\u001b[0m\n\u001b[1;32m     65\u001b[0m     \u001b[0;32mexcept\u001b[0m \u001b[0mException\u001b[0m \u001b[0;32mas\u001b[0m \u001b[0me\u001b[0m\u001b[0;34m:\u001b[0m  \u001b[0;31m# pylint: disable=broad-except\u001b[0m\u001b[0;34m\u001b[0m\u001b[0;34m\u001b[0m\u001b[0m\n\u001b[1;32m     66\u001b[0m       \u001b[0mfiltered_tb\u001b[0m \u001b[0;34m=\u001b[0m \u001b[0m_process_traceback_frames\u001b[0m\u001b[0;34m(\u001b[0m\u001b[0me\u001b[0m\u001b[0;34m.\u001b[0m\u001b[0m__traceback__\u001b[0m\u001b[0;34m)\u001b[0m\u001b[0;34m\u001b[0m\u001b[0;34m\u001b[0m\u001b[0m\n\u001b[0;32m---> 67\u001b[0;31m       \u001b[0;32mraise\u001b[0m \u001b[0me\u001b[0m\u001b[0;34m.\u001b[0m\u001b[0mwith_traceback\u001b[0m\u001b[0;34m(\u001b[0m\u001b[0mfiltered_tb\u001b[0m\u001b[0;34m)\u001b[0m \u001b[0;32mfrom\u001b[0m \u001b[0;32mNone\u001b[0m\u001b[0;34m\u001b[0m\u001b[0;34m\u001b[0m\u001b[0m\n\u001b[0m\u001b[1;32m     68\u001b[0m     \u001b[0;32mfinally\u001b[0m\u001b[0;34m:\u001b[0m\u001b[0;34m\u001b[0m\u001b[0;34m\u001b[0m\u001b[0m\n\u001b[1;32m     69\u001b[0m       \u001b[0;32mdel\u001b[0m \u001b[0mfiltered_tb\u001b[0m\u001b[0;34m\u001b[0m\u001b[0;34m\u001b[0m\u001b[0m\n",
            "\u001b[0;32m/usr/local/lib/python3.7/dist-packages/keras/saving/saving_utils.py\u001b[0m in \u001b[0;36mis_hdf5_filepath\u001b[0;34m(filepath)\u001b[0m\n\u001b[1;32m    320\u001b[0m \u001b[0;34m\u001b[0m\u001b[0m\n\u001b[1;32m    321\u001b[0m \u001b[0;32mdef\u001b[0m \u001b[0mis_hdf5_filepath\u001b[0m\u001b[0;34m(\u001b[0m\u001b[0mfilepath\u001b[0m\u001b[0;34m)\u001b[0m\u001b[0;34m:\u001b[0m\u001b[0;34m\u001b[0m\u001b[0;34m\u001b[0m\u001b[0m\n\u001b[0;32m--> 322\u001b[0;31m   return (filepath.endswith('.h5') or filepath.endswith('.keras') or\n\u001b[0m\u001b[1;32m    323\u001b[0m           filepath.endswith('.hdf5'))\n",
            "\u001b[0;31mAttributeError\u001b[0m: 'NoneType' object has no attribute 'endswith'"
          ]
        }
      ]
    },
    {
      "cell_type": "markdown",
      "metadata": {
        "id": "uIkOBKGAP0y-"
      },
      "source": [
        "####P4.2b entrenando con tensorboard (opcional)"
      ]
    },
    {
      "cell_type": "markdown",
      "metadata": {
        "id": "hFDzT0NtUpua"
      },
      "source": [
        "#####Activando TENSORBOARD \n",
        "\n",
        "---\n",
        "(DASHBOARD para ver el proceso de entrenamiento)"
      ]
    },
    {
      "cell_type": "code",
      "metadata": {
        "id": "2x20xRy-UwzZ"
      },
      "source": [
        "# You can change the directory name\n",
        "LOG_DIR = '/content/gdrive/MyDrive/Colab Notebooks/P2_Deep_Learning/PLN/Redes neuronales recurrentes (RNN)/checkpoints'\n",
        "\n",
        "!wget https://bin.equinox.io/c/4VmDzA7iaHb/ngrok-stable-linux-amd64.zip\n",
        "!unzip ngrok-stable-linux-amd64.zip\n",
        "\n",
        "import os\n",
        "if not os.path.exists(LOG_DIR):\n",
        "  os.makedirs(LOG_DIR)\n",
        "  \n",
        "get_ipython().system_raw(\n",
        "    'tensorboard --logdir {} --host 0.0.0.0 --port 6006 &'\n",
        "    .format(LOG_DIR))\n",
        "\n",
        "get_ipython().system_raw('./ngrok http 6006 &')\n",
        "\n",
        "!curl -s http://localhost:4040/api/tunnels | python3 -c \\\n",
        "    \"import sys, json; print(json.load(sys.stdin)['tunnels'][0]['public_url'])\""
      ],
      "execution_count": null,
      "outputs": []
    },
    {
      "cell_type": "code",
      "metadata": {
        "id": "uJ1L-Vm1ZrTU"
      },
      "source": [
        "tbCallBack = tf.keras.callbacks.TensorBoard(log_dir=LOG_DIR, \n",
        "                         histogram_freq=1,\n",
        "                         write_graph=True,\n",
        "                         write_grads=True,\n",
        "                         batch_size=BATCH_SIZE,\n",
        "                         write_images=True)"
      ],
      "execution_count": null,
      "outputs": []
    },
    {
      "cell_type": "markdown",
      "metadata": {
        "id": "SmC4IO8rg5TV"
      },
      "source": [
        "#####Fit"
      ]
    },
    {
      "cell_type": "code",
      "metadata": {
        "id": "jcLIbeJjGmDF"
      },
      "source": [
        "\n",
        "#model.fit(X, y, epochs=50, batch_size=64, callbacks=callbacks_list)"
      ],
      "execution_count": null,
      "outputs": []
    },
    {
      "cell_type": "markdown",
      "metadata": {
        "id": "FnIbqMyqzrWU"
      },
      "source": [
        "##P5. Generando texto nuevo usando la RNN"
      ]
    },
    {
      "cell_type": "code",
      "metadata": {
        "id": "1vGr7GvUzwxg"
      },
      "source": [
        "#creamos un modelo tomando como base el ultimo checkpoint\n",
        "model = create_model(vocab_size, embedding_dim, rnn_units, batch_size=1)\n",
        "model.load_weights(tf.train.latest_checkpoint(checkpoint_dir))\n",
        "model.build(tf.TensorShape([1,None]))"
      ],
      "execution_count": 16,
      "outputs": []
    },
    {
      "cell_type": "code",
      "metadata": {
        "id": "CvoSiWWp2_H-"
      },
      "source": [
        "#funcion para generar texto\n",
        "def generate_text(model, start_string):\n",
        "  #definimos cuantos tensores/cantidad de texto generaremos\n",
        "  num_generate=500\n",
        "  #convertimos el texto en números\n",
        "  input_eval=[char2idx[s] for s in start_string]\n",
        "  input_eval= tf.expand_dims (input_eval,0)\n",
        "  text_generated = []\n",
        "\n",
        "  temperature = 0.3  #(0.0 a  1) entre más alta la temperatura más creatividad al modelo, pero tambien más errores ortograficos.\n",
        "  model.reset_states() #bucle para generar caracteres, mediante predicciones\n",
        "  for i in range(num_generate):\n",
        "    predictions = model(input_eval)\n",
        "    predictions = tf.squeeze(predictions, 0)\n",
        "    predictions = predictions / temperature\n",
        "    predicted_id = tf.random.categorical(predictions, num_samples=1)[-1,0].numpy()\n",
        "    input_eval= tf.expand_dims([predicted_id],0)\n",
        "    text_generated.append (idx2char[predicted_id])\n",
        "  \n",
        "  return (start_string+ ''.join(text_generated))\n"
      ],
      "execution_count": 17,
      "outputs": []
    },
    {
      "cell_type": "markdown",
      "metadata": {
        "id": "ZFfQ5EiP4ghF"
      },
      "source": [
        "###P5.1 generando texto "
      ]
    },
    {
      "cell_type": "code",
      "metadata": {
        "id": "BkLdbX724kBy",
        "colab": {
          "base_uri": "https://localhost:8080/"
        },
        "outputId": "0d960edf-2e16-4d42-ee5b-419a9ede35e8"
      },
      "source": [
        "print(generate_text(model, start_string=u\"dominio \"))"
      ],
      "execution_count": 19,
      "outputs": [
        {
          "output_type": "stream",
          "name": "stdout",
          "text": [
            "dominio puer entera de lo piento se comino el entrera de el conto se la cuen se es ente es conter el con es monto anter ecion de la su un entrero en cono conta se ver los conido es ento es entrara lo ser entar entra en puendes de el conde cion ento es la contera si prera el estracion a la es parera con es entra des estera as puerar an an conta lo as ertar con le pue es pue de el concionta es entera conta en la prera de la la conter lo de se parar conto as cuendo es an contar en es conde lo se contara la\n"
          ]
        }
      ]
    },
    {
      "cell_type": "markdown",
      "metadata": {
        "id": "T-3PF45LpJBS"
      },
      "source": [
        "##P6.exportando modelo\n",
        "\n",
        "---\n",
        "Guardamos y Serializamos el Modelo (con esto ya podemos vender nuestro modelo de predicción de texto según lo aprendido por nuestra RNN).\n"
      ]
    },
    {
      "cell_type": "code",
      "metadata": {
        "id": "5_BJSb-7pL7B",
        "colab": {
          "base_uri": "https://localhost:8080/",
          "height": 235
        },
        "outputId": "8d8dc9cc-6b8c-4edf-9510-79addba7c893"
      },
      "source": [
        "from keras.models import model_from_json\n",
        "import os\n",
        "dir_export= '/content/gdrive/MyDrive/Colab Notebooks/P2_Deep_Learning/PLN/Redes neuronales recurrentes (RNN)/Modelos'\n",
        "#dir_export= os.path.join(dir_drive)\n",
        "# Serializamos el modelo en forma JSON\n",
        "model_json = model.to_json()\n",
        "with open(os.path.join(dir_export,'RNN_arte.json'), 'w') as json_file:\n",
        "    json_file.write(model_json)\n",
        "# serialize weights to HDF5\n",
        "model.save_weights(os.path.join(dir_export,'RNN_arte_pesos.hdf5'))\n",
        "model.save(os.path.join(dir_export,'RNN_arte_model.h5'))\n",
        "print(\"modelo salvado en Drive de google\")"
      ],
      "execution_count": 21,
      "outputs": [
        {
          "output_type": "error",
          "ename": "FileNotFoundError",
          "evalue": "ignored",
          "traceback": [
            "\u001b[0;31m---------------------------------------------------------------------------\u001b[0m",
            "\u001b[0;31mFileNotFoundError\u001b[0m                         Traceback (most recent call last)",
            "\u001b[0;32m<ipython-input-21-6fc0db843815>\u001b[0m in \u001b[0;36m<module>\u001b[0;34m()\u001b[0m\n\u001b[1;32m      5\u001b[0m \u001b[0;31m# Serializamos el modelo en forma JSON\u001b[0m\u001b[0;34m\u001b[0m\u001b[0;34m\u001b[0m\u001b[0;34m\u001b[0m\u001b[0m\n\u001b[1;32m      6\u001b[0m \u001b[0mmodel_json\u001b[0m \u001b[0;34m=\u001b[0m \u001b[0mmodel\u001b[0m\u001b[0;34m.\u001b[0m\u001b[0mto_json\u001b[0m\u001b[0;34m(\u001b[0m\u001b[0;34m)\u001b[0m\u001b[0;34m\u001b[0m\u001b[0;34m\u001b[0m\u001b[0m\n\u001b[0;32m----> 7\u001b[0;31m \u001b[0;32mwith\u001b[0m \u001b[0mopen\u001b[0m\u001b[0;34m(\u001b[0m\u001b[0mos\u001b[0m\u001b[0;34m.\u001b[0m\u001b[0mpath\u001b[0m\u001b[0;34m.\u001b[0m\u001b[0mjoin\u001b[0m\u001b[0;34m(\u001b[0m\u001b[0mdir_export\u001b[0m\u001b[0;34m,\u001b[0m\u001b[0;34m'RNN_arte.json'\u001b[0m\u001b[0;34m)\u001b[0m\u001b[0;34m,\u001b[0m \u001b[0;34m'w'\u001b[0m\u001b[0;34m)\u001b[0m \u001b[0;32mas\u001b[0m \u001b[0mjson_file\u001b[0m\u001b[0;34m:\u001b[0m\u001b[0;34m\u001b[0m\u001b[0;34m\u001b[0m\u001b[0m\n\u001b[0m\u001b[1;32m      8\u001b[0m     \u001b[0mjson_file\u001b[0m\u001b[0;34m.\u001b[0m\u001b[0mwrite\u001b[0m\u001b[0;34m(\u001b[0m\u001b[0mmodel_json\u001b[0m\u001b[0;34m)\u001b[0m\u001b[0;34m\u001b[0m\u001b[0;34m\u001b[0m\u001b[0m\n\u001b[1;32m      9\u001b[0m \u001b[0;31m# serialize weights to HDF5\u001b[0m\u001b[0;34m\u001b[0m\u001b[0;34m\u001b[0m\u001b[0;34m\u001b[0m\u001b[0m\n",
            "\u001b[0;31mFileNotFoundError\u001b[0m: [Errno 2] No such file or directory: '/content/gdrive/MyDrive/Colab Notebooks/P2_Deep_Learning/PLN/Redes neuronales recurrentes (RNN)/Modelos/RNN_arte.json'"
          ]
        }
      ]
    },
    {
      "cell_type": "markdown",
      "metadata": {
        "id": "JfogT546zoDp"
      },
      "source": [
        "##P7.Cargando un modelo serializado"
      ]
    },
    {
      "cell_type": "markdown",
      "metadata": {
        "id": "2d_bhKoHCE7m"
      },
      "source": [
        "###P7.1 descargamos el modelo usando wget"
      ]
    },
    {
      "cell_type": "markdown",
      "metadata": {
        "id": "SKuJocQwCLg1"
      },
      "source": [
        "####P7.1a descargamos el modelo usando PYRIND & URLLIB (OPCIONAL)"
      ]
    },
    {
      "cell_type": "code",
      "metadata": {
        "id": "2w_jNNbCAul4"
      },
      "source": [
        "!pip install pyprind"
      ],
      "execution_count": null,
      "outputs": []
    },
    {
      "cell_type": "markdown",
      "metadata": {
        "id": "7lxBCpidCk7b"
      },
      "source": [
        "###P7.2 instanciamos el modelo descargado"
      ]
    },
    {
      "cell_type": "code",
      "metadata": {
        "id": "Z-rwH5vd0oGc"
      },
      "source": [
        "\n",
        "print(generate_text(new_model, start_string=u\"colombia es un pais \"))"
      ],
      "execution_count": null,
      "outputs": []
    }
  ]
}