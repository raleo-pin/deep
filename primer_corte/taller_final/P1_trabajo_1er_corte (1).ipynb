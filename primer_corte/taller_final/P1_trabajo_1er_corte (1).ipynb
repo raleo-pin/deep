{
  "nbformat": 4,
  "nbformat_minor": 0,
  "metadata": {
    "colab": {
      "name": "P1_trabajo_1er_corte",
      "provenance": []
    },
    "kernelspec": {
      "name": "python3",
      "display_name": "Python 3"
    },
    "language_info": {
      "name": "python"
    }
  },
  "cells": [
    {
      "cell_type": "markdown",
      "metadata": {
        "id": "9lR4AbU4zd5K"
      },
      "source": [
        "## Taller final 1er Corte "
      ]
    },
    {
      "cell_type": "markdown",
      "metadata": {
        "id": "5V8FNW1Xzs5i"
      },
      "source": [
        "Mercado de divisas 24/sep/2011 -- 24/sep/2021\n",
        "\n"
      ]
    },
    {
      "cell_type": "code",
      "metadata": {
        "id": "lBmma8_mY-td",
        "colab": {
          "base_uri": "https://localhost:8080/"
        },
        "outputId": "7fc5fa74-6f3f-4e35-fea3-ac4f13b98f3b"
      },
      "source": [
        "!pip install fsspec\n",
        "!pip install beautifulsoup4"
      ],
      "execution_count": null,
      "outputs": [
        {
          "output_type": "stream",
          "name": "stdout",
          "text": [
            "Collecting fsspec\n",
            "  Downloading fsspec-2021.9.0-py3-none-any.whl (123 kB)\n",
            "\u001b[?25l\r\u001b[K     |██▋                             | 10 kB 24.2 MB/s eta 0:00:01\r\u001b[K     |█████▎                          | 20 kB 29.4 MB/s eta 0:00:01\r\u001b[K     |████████                        | 30 kB 34.2 MB/s eta 0:00:01\r\u001b[K     |██████████▋                     | 40 kB 35.5 MB/s eta 0:00:01\r\u001b[K     |█████████████▎                  | 51 kB 34.5 MB/s eta 0:00:01\r\u001b[K     |████████████████                | 61 kB 26.6 MB/s eta 0:00:01\r\u001b[K     |██████████████████▌             | 71 kB 27.1 MB/s eta 0:00:01\r\u001b[K     |█████████████████████▏          | 81 kB 28.9 MB/s eta 0:00:01\r\u001b[K     |███████████████████████▉        | 92 kB 30.0 MB/s eta 0:00:01\r\u001b[K     |██████████████████████████▌     | 102 kB 30.9 MB/s eta 0:00:01\r\u001b[K     |█████████████████████████████▏  | 112 kB 30.9 MB/s eta 0:00:01\r\u001b[K     |███████████████████████████████▉| 122 kB 30.9 MB/s eta 0:00:01\r\u001b[K     |████████████████████████████████| 123 kB 30.9 MB/s \n",
            "\u001b[?25hInstalling collected packages: fsspec\n",
            "Successfully installed fsspec-2021.9.0\n",
            "Requirement already satisfied: beautifulsoup4 in /usr/local/lib/python3.7/dist-packages (4.6.3)\n"
          ]
        }
      ]
    },
    {
      "cell_type": "code",
      "metadata": {
        "id": "pu0C5XYI1zfs"
      },
      "source": [
        "import numpy as np\n",
        "import pandas as pd\n",
        "from sklearn.cluster import KMeans\n",
        "from sklearn import preprocessing  \n",
        "from sklearn.metrics import pairwise_distances_argmin_min\n",
        "\n",
        "import matplotlib.pyplot as plt\n",
        "import seaborn as sb\n",
        "from mpl_toolkits.mplot3d import Axes3D  \n",
        "\n",
        "import requests                         \n",
        "from bs4 import BeautifulSoup            \n",
        "from sklearn.decomposition import PCA   \n",
        "\n",
        "%matplotlib inline\n",
        "plt.rcParams['figure.figsize'] = (16, 9)\n",
        "plt.style.use('ggplot')"
      ],
      "execution_count": null,
      "outputs": []
    },
    {
      "cell_type": "code",
      "metadata": {
        "colab": {
          "base_uri": "https://localhost:8080/",
          "height": 204
        },
        "id": "8TLEBzAs2PRw",
        "outputId": "8b39ee54-f239-49ec-b321-1aeaa7a6102f"
      },
      "source": [
        "df = pd.read_csv(\"https://raw.githubusercontent.com/raleo-pin/deep/main/primer_corte/taller_final/JPY%3DX.csv\")\n",
        "df.head()"
      ],
      "execution_count": null,
      "outputs": [
        {
          "output_type": "execute_result",
          "data": {
            "text/html": [
              "<div>\n",
              "<style scoped>\n",
              "    .dataframe tbody tr th:only-of-type {\n",
              "        vertical-align: middle;\n",
              "    }\n",
              "\n",
              "    .dataframe tbody tr th {\n",
              "        vertical-align: top;\n",
              "    }\n",
              "\n",
              "    .dataframe thead th {\n",
              "        text-align: right;\n",
              "    }\n",
              "</style>\n",
              "<table border=\"1\" class=\"dataframe\">\n",
              "  <thead>\n",
              "    <tr style=\"text-align: right;\">\n",
              "      <th></th>\n",
              "      <th>Date</th>\n",
              "      <th>Open</th>\n",
              "      <th>High</th>\n",
              "      <th>Low</th>\n",
              "      <th>Close</th>\n",
              "      <th>Adj Close</th>\n",
              "      <th>Volume</th>\n",
              "    </tr>\n",
              "  </thead>\n",
              "  <tbody>\n",
              "    <tr>\n",
              "      <th>0</th>\n",
              "      <td>2011-09-26</td>\n",
              "      <td>76.510002</td>\n",
              "      <td>76.751999</td>\n",
              "      <td>76.230003</td>\n",
              "      <td>76.540001</td>\n",
              "      <td>76.540001</td>\n",
              "      <td>0.0</td>\n",
              "    </tr>\n",
              "    <tr>\n",
              "      <th>1</th>\n",
              "      <td>2011-09-27</td>\n",
              "      <td>76.320000</td>\n",
              "      <td>76.690002</td>\n",
              "      <td>76.260002</td>\n",
              "      <td>76.335999</td>\n",
              "      <td>76.335999</td>\n",
              "      <td>0.0</td>\n",
              "    </tr>\n",
              "    <tr>\n",
              "      <th>2</th>\n",
              "      <td>2011-09-28</td>\n",
              "      <td>76.820999</td>\n",
              "      <td>76.853996</td>\n",
              "      <td>76.309998</td>\n",
              "      <td>76.807999</td>\n",
              "      <td>76.807999</td>\n",
              "      <td>0.0</td>\n",
              "    </tr>\n",
              "    <tr>\n",
              "      <th>3</th>\n",
              "      <td>2011-09-29</td>\n",
              "      <td>76.549004</td>\n",
              "      <td>76.947998</td>\n",
              "      <td>76.411003</td>\n",
              "      <td>76.540001</td>\n",
              "      <td>76.540001</td>\n",
              "      <td>0.0</td>\n",
              "    </tr>\n",
              "    <tr>\n",
              "      <th>4</th>\n",
              "      <td>2011-09-30</td>\n",
              "      <td>76.750000</td>\n",
              "      <td>77.129997</td>\n",
              "      <td>76.501999</td>\n",
              "      <td>76.764999</td>\n",
              "      <td>76.764999</td>\n",
              "      <td>0.0</td>\n",
              "    </tr>\n",
              "  </tbody>\n",
              "</table>\n",
              "</div>"
            ],
            "text/plain": [
              "         Date       Open       High        Low      Close  Adj Close  Volume\n",
              "0  2011-09-26  76.510002  76.751999  76.230003  76.540001  76.540001     0.0\n",
              "1  2011-09-27  76.320000  76.690002  76.260002  76.335999  76.335999     0.0\n",
              "2  2011-09-28  76.820999  76.853996  76.309998  76.807999  76.807999     0.0\n",
              "3  2011-09-29  76.549004  76.947998  76.411003  76.540001  76.540001     0.0\n",
              "4  2011-09-30  76.750000  77.129997  76.501999  76.764999  76.764999     0.0"
            ]
          },
          "metadata": {},
          "execution_count": 146
        }
      ]
    },
    {
      "cell_type": "code",
      "metadata": {
        "colab": {
          "base_uri": "https://localhost:8080/"
        },
        "id": "OG7FOqkf2mXC",
        "outputId": "b8f8ead0-b321-4115-fadd-bc600f05ce3e"
      },
      "source": [
        "df.shape"
      ],
      "execution_count": null,
      "outputs": [
        {
          "output_type": "execute_result",
          "data": {
            "text/plain": [
              "(2610, 7)"
            ]
          },
          "metadata": {},
          "execution_count": 147
        }
      ]
    },
    {
      "cell_type": "code",
      "metadata": {
        "colab": {
          "base_uri": "https://localhost:8080/",
          "height": 535
        },
        "id": "F8OSg9cU2qrz",
        "outputId": "f36ca8ab-d980-4fe2-d885-4c3aa09abe09"
      },
      "source": [
        "df.info()\n",
        "df.describe()"
      ],
      "execution_count": null,
      "outputs": [
        {
          "output_type": "stream",
          "name": "stdout",
          "text": [
            "<class 'pandas.core.frame.DataFrame'>\n",
            "RangeIndex: 2610 entries, 0 to 2609\n",
            "Data columns (total 7 columns):\n",
            " #   Column     Non-Null Count  Dtype  \n",
            "---  ------     --------------  -----  \n",
            " 0   Date       2610 non-null   object \n",
            " 1   Open       2586 non-null   float64\n",
            " 2   High       2586 non-null   float64\n",
            " 3   Low        2586 non-null   float64\n",
            " 4   Close      2586 non-null   float64\n",
            " 5   Adj Close  2586 non-null   float64\n",
            " 6   Volume     2586 non-null   float64\n",
            "dtypes: float64(6), object(1)\n",
            "memory usage: 142.9+ KB\n"
          ]
        },
        {
          "output_type": "execute_result",
          "data": {
            "text/html": [
              "<div>\n",
              "<style scoped>\n",
              "    .dataframe tbody tr th:only-of-type {\n",
              "        vertical-align: middle;\n",
              "    }\n",
              "\n",
              "    .dataframe tbody tr th {\n",
              "        vertical-align: top;\n",
              "    }\n",
              "\n",
              "    .dataframe thead th {\n",
              "        text-align: right;\n",
              "    }\n",
              "</style>\n",
              "<table border=\"1\" class=\"dataframe\">\n",
              "  <thead>\n",
              "    <tr style=\"text-align: right;\">\n",
              "      <th></th>\n",
              "      <th>Open</th>\n",
              "      <th>High</th>\n",
              "      <th>Low</th>\n",
              "      <th>Close</th>\n",
              "      <th>Adj Close</th>\n",
              "      <th>Volume</th>\n",
              "    </tr>\n",
              "  </thead>\n",
              "  <tbody>\n",
              "    <tr>\n",
              "      <th>count</th>\n",
              "      <td>2586.000000</td>\n",
              "      <td>2586.000000</td>\n",
              "      <td>2586.000000</td>\n",
              "      <td>2586.000000</td>\n",
              "      <td>2586.000000</td>\n",
              "      <td>2586.0</td>\n",
              "    </tr>\n",
              "    <tr>\n",
              "      <th>mean</th>\n",
              "      <td>105.128692</td>\n",
              "      <td>105.451332</td>\n",
              "      <td>104.783034</td>\n",
              "      <td>105.127369</td>\n",
              "      <td>105.127369</td>\n",
              "      <td>0.0</td>\n",
              "    </tr>\n",
              "    <tr>\n",
              "      <th>std</th>\n",
              "      <td>11.821630</td>\n",
              "      <td>11.852569</td>\n",
              "      <td>11.789856</td>\n",
              "      <td>11.820824</td>\n",
              "      <td>11.820824</td>\n",
              "      <td>0.0</td>\n",
              "    </tr>\n",
              "    <tr>\n",
              "      <th>min</th>\n",
              "      <td>75.750000</td>\n",
              "      <td>75.973999</td>\n",
              "      <td>75.570000</td>\n",
              "      <td>75.739998</td>\n",
              "      <td>75.739998</td>\n",
              "      <td>0.0</td>\n",
              "    </tr>\n",
              "    <tr>\n",
              "      <th>25%</th>\n",
              "      <td>101.906750</td>\n",
              "      <td>102.184500</td>\n",
              "      <td>101.582000</td>\n",
              "      <td>101.900752</td>\n",
              "      <td>101.900752</td>\n",
              "      <td>0.0</td>\n",
              "    </tr>\n",
              "    <tr>\n",
              "      <th>50%</th>\n",
              "      <td>108.369503</td>\n",
              "      <td>108.620998</td>\n",
              "      <td>108.021004</td>\n",
              "      <td>108.362999</td>\n",
              "      <td>108.362999</td>\n",
              "      <td>0.0</td>\n",
              "    </tr>\n",
              "    <tr>\n",
              "      <th>75%</th>\n",
              "      <td>111.757751</td>\n",
              "      <td>112.041499</td>\n",
              "      <td>111.404000</td>\n",
              "      <td>111.772251</td>\n",
              "      <td>111.772251</td>\n",
              "      <td>0.0</td>\n",
              "    </tr>\n",
              "    <tr>\n",
              "      <th>max</th>\n",
              "      <td>125.601997</td>\n",
              "      <td>125.821999</td>\n",
              "      <td>124.970001</td>\n",
              "      <td>125.628998</td>\n",
              "      <td>125.628998</td>\n",
              "      <td>0.0</td>\n",
              "    </tr>\n",
              "  </tbody>\n",
              "</table>\n",
              "</div>"
            ],
            "text/plain": [
              "              Open         High          Low        Close    Adj Close  Volume\n",
              "count  2586.000000  2586.000000  2586.000000  2586.000000  2586.000000  2586.0\n",
              "mean    105.128692   105.451332   104.783034   105.127369   105.127369     0.0\n",
              "std      11.821630    11.852569    11.789856    11.820824    11.820824     0.0\n",
              "min      75.750000    75.973999    75.570000    75.739998    75.739998     0.0\n",
              "25%     101.906750   102.184500   101.582000   101.900752   101.900752     0.0\n",
              "50%     108.369503   108.620998   108.021004   108.362999   108.362999     0.0\n",
              "75%     111.757751   112.041499   111.404000   111.772251   111.772251     0.0\n",
              "max     125.601997   125.821999   124.970001   125.628998   125.628998     0.0"
            ]
          },
          "metadata": {},
          "execution_count": 148
        }
      ]
    },
    {
      "cell_type": "code",
      "metadata": {
        "colab": {
          "base_uri": "https://localhost:8080/"
        },
        "id": "eOE_NLWX3ft2",
        "outputId": "22ef40d9-71ad-4a7a-cbd3-1bc5b2fa6e7e"
      },
      "source": [
        "df.isnull().sum()\n"
      ],
      "execution_count": null,
      "outputs": [
        {
          "output_type": "execute_result",
          "data": {
            "text/plain": [
              "Date          0\n",
              "Open         24\n",
              "High         24\n",
              "Low          24\n",
              "Close        24\n",
              "Adj Close    24\n",
              "Volume       24\n",
              "dtype: int64"
            ]
          },
          "metadata": {},
          "execution_count": 149
        }
      ]
    },
    {
      "cell_type": "code",
      "metadata": {
        "id": "RenEuCxk4YiO"
      },
      "source": [
        "df = df.dropna()   # Se eliminan filas que tengan valor NaN.\n",
        "df = df.reset_index(drop=True) #Se reacomoda las filas en los espacios vacios para optimizacion de la memoria\n"
      ],
      "execution_count": null,
      "outputs": []
    },
    {
      "cell_type": "code",
      "metadata": {
        "colab": {
          "base_uri": "https://localhost:8080/",
          "height": 204
        },
        "id": "sLC4jgym371i",
        "outputId": "4415ae7d-2385-4dfb-cddd-dcd933700495"
      },
      "source": [
        "df['Date']=pd.to_datetime(df['Date'])       # Convertimos el campo DATE en tipo fecha\n",
        "df.head()\n",
        "\n"
      ],
      "execution_count": null,
      "outputs": [
        {
          "output_type": "execute_result",
          "data": {
            "text/html": [
              "<div>\n",
              "<style scoped>\n",
              "    .dataframe tbody tr th:only-of-type {\n",
              "        vertical-align: middle;\n",
              "    }\n",
              "\n",
              "    .dataframe tbody tr th {\n",
              "        vertical-align: top;\n",
              "    }\n",
              "\n",
              "    .dataframe thead th {\n",
              "        text-align: right;\n",
              "    }\n",
              "</style>\n",
              "<table border=\"1\" class=\"dataframe\">\n",
              "  <thead>\n",
              "    <tr style=\"text-align: right;\">\n",
              "      <th></th>\n",
              "      <th>Date</th>\n",
              "      <th>Open</th>\n",
              "      <th>High</th>\n",
              "      <th>Low</th>\n",
              "      <th>Close</th>\n",
              "      <th>Adj Close</th>\n",
              "      <th>Volume</th>\n",
              "    </tr>\n",
              "  </thead>\n",
              "  <tbody>\n",
              "    <tr>\n",
              "      <th>0</th>\n",
              "      <td>2011-09-26</td>\n",
              "      <td>76.510002</td>\n",
              "      <td>76.751999</td>\n",
              "      <td>76.230003</td>\n",
              "      <td>76.540001</td>\n",
              "      <td>76.540001</td>\n",
              "      <td>0.0</td>\n",
              "    </tr>\n",
              "    <tr>\n",
              "      <th>1</th>\n",
              "      <td>2011-09-27</td>\n",
              "      <td>76.320000</td>\n",
              "      <td>76.690002</td>\n",
              "      <td>76.260002</td>\n",
              "      <td>76.335999</td>\n",
              "      <td>76.335999</td>\n",
              "      <td>0.0</td>\n",
              "    </tr>\n",
              "    <tr>\n",
              "      <th>2</th>\n",
              "      <td>2011-09-28</td>\n",
              "      <td>76.820999</td>\n",
              "      <td>76.853996</td>\n",
              "      <td>76.309998</td>\n",
              "      <td>76.807999</td>\n",
              "      <td>76.807999</td>\n",
              "      <td>0.0</td>\n",
              "    </tr>\n",
              "    <tr>\n",
              "      <th>3</th>\n",
              "      <td>2011-09-29</td>\n",
              "      <td>76.549004</td>\n",
              "      <td>76.947998</td>\n",
              "      <td>76.411003</td>\n",
              "      <td>76.540001</td>\n",
              "      <td>76.540001</td>\n",
              "      <td>0.0</td>\n",
              "    </tr>\n",
              "    <tr>\n",
              "      <th>4</th>\n",
              "      <td>2011-09-30</td>\n",
              "      <td>76.750000</td>\n",
              "      <td>77.129997</td>\n",
              "      <td>76.501999</td>\n",
              "      <td>76.764999</td>\n",
              "      <td>76.764999</td>\n",
              "      <td>0.0</td>\n",
              "    </tr>\n",
              "  </tbody>\n",
              "</table>\n",
              "</div>"
            ],
            "text/plain": [
              "        Date       Open       High        Low      Close  Adj Close  Volume\n",
              "0 2011-09-26  76.510002  76.751999  76.230003  76.540001  76.540001     0.0\n",
              "1 2011-09-27  76.320000  76.690002  76.260002  76.335999  76.335999     0.0\n",
              "2 2011-09-28  76.820999  76.853996  76.309998  76.807999  76.807999     0.0\n",
              "3 2011-09-29  76.549004  76.947998  76.411003  76.540001  76.540001     0.0\n",
              "4 2011-09-30  76.750000  77.129997  76.501999  76.764999  76.764999     0.0"
            ]
          },
          "metadata": {},
          "execution_count": 151
        }
      ]
    },
    {
      "cell_type": "code",
      "metadata": {
        "colab": {
          "base_uri": "https://localhost:8080/",
          "height": 535
        },
        "id": "rqJSA0BY5GYs",
        "outputId": "43b7231f-9675-4dd3-8e70-bb037e56de4d"
      },
      "source": [
        "df.info()\n",
        "df.describe()"
      ],
      "execution_count": null,
      "outputs": [
        {
          "output_type": "stream",
          "name": "stdout",
          "text": [
            "<class 'pandas.core.frame.DataFrame'>\n",
            "RangeIndex: 2586 entries, 0 to 2585\n",
            "Data columns (total 7 columns):\n",
            " #   Column     Non-Null Count  Dtype         \n",
            "---  ------     --------------  -----         \n",
            " 0   Date       2586 non-null   datetime64[ns]\n",
            " 1   Open       2586 non-null   float64       \n",
            " 2   High       2586 non-null   float64       \n",
            " 3   Low        2586 non-null   float64       \n",
            " 4   Close      2586 non-null   float64       \n",
            " 5   Adj Close  2586 non-null   float64       \n",
            " 6   Volume     2586 non-null   float64       \n",
            "dtypes: datetime64[ns](1), float64(6)\n",
            "memory usage: 141.5 KB\n"
          ]
        },
        {
          "output_type": "execute_result",
          "data": {
            "text/html": [
              "<div>\n",
              "<style scoped>\n",
              "    .dataframe tbody tr th:only-of-type {\n",
              "        vertical-align: middle;\n",
              "    }\n",
              "\n",
              "    .dataframe tbody tr th {\n",
              "        vertical-align: top;\n",
              "    }\n",
              "\n",
              "    .dataframe thead th {\n",
              "        text-align: right;\n",
              "    }\n",
              "</style>\n",
              "<table border=\"1\" class=\"dataframe\">\n",
              "  <thead>\n",
              "    <tr style=\"text-align: right;\">\n",
              "      <th></th>\n",
              "      <th>Open</th>\n",
              "      <th>High</th>\n",
              "      <th>Low</th>\n",
              "      <th>Close</th>\n",
              "      <th>Adj Close</th>\n",
              "      <th>Volume</th>\n",
              "    </tr>\n",
              "  </thead>\n",
              "  <tbody>\n",
              "    <tr>\n",
              "      <th>count</th>\n",
              "      <td>2586.000000</td>\n",
              "      <td>2586.000000</td>\n",
              "      <td>2586.000000</td>\n",
              "      <td>2586.000000</td>\n",
              "      <td>2586.000000</td>\n",
              "      <td>2586.0</td>\n",
              "    </tr>\n",
              "    <tr>\n",
              "      <th>mean</th>\n",
              "      <td>105.128692</td>\n",
              "      <td>105.451332</td>\n",
              "      <td>104.783034</td>\n",
              "      <td>105.127369</td>\n",
              "      <td>105.127369</td>\n",
              "      <td>0.0</td>\n",
              "    </tr>\n",
              "    <tr>\n",
              "      <th>std</th>\n",
              "      <td>11.821630</td>\n",
              "      <td>11.852569</td>\n",
              "      <td>11.789856</td>\n",
              "      <td>11.820824</td>\n",
              "      <td>11.820824</td>\n",
              "      <td>0.0</td>\n",
              "    </tr>\n",
              "    <tr>\n",
              "      <th>min</th>\n",
              "      <td>75.750000</td>\n",
              "      <td>75.973999</td>\n",
              "      <td>75.570000</td>\n",
              "      <td>75.739998</td>\n",
              "      <td>75.739998</td>\n",
              "      <td>0.0</td>\n",
              "    </tr>\n",
              "    <tr>\n",
              "      <th>25%</th>\n",
              "      <td>101.906750</td>\n",
              "      <td>102.184500</td>\n",
              "      <td>101.582000</td>\n",
              "      <td>101.900752</td>\n",
              "      <td>101.900752</td>\n",
              "      <td>0.0</td>\n",
              "    </tr>\n",
              "    <tr>\n",
              "      <th>50%</th>\n",
              "      <td>108.369503</td>\n",
              "      <td>108.620998</td>\n",
              "      <td>108.021004</td>\n",
              "      <td>108.362999</td>\n",
              "      <td>108.362999</td>\n",
              "      <td>0.0</td>\n",
              "    </tr>\n",
              "    <tr>\n",
              "      <th>75%</th>\n",
              "      <td>111.757751</td>\n",
              "      <td>112.041499</td>\n",
              "      <td>111.404000</td>\n",
              "      <td>111.772251</td>\n",
              "      <td>111.772251</td>\n",
              "      <td>0.0</td>\n",
              "    </tr>\n",
              "    <tr>\n",
              "      <th>max</th>\n",
              "      <td>125.601997</td>\n",
              "      <td>125.821999</td>\n",
              "      <td>124.970001</td>\n",
              "      <td>125.628998</td>\n",
              "      <td>125.628998</td>\n",
              "      <td>0.0</td>\n",
              "    </tr>\n",
              "  </tbody>\n",
              "</table>\n",
              "</div>"
            ],
            "text/plain": [
              "              Open         High          Low        Close    Adj Close  Volume\n",
              "count  2586.000000  2586.000000  2586.000000  2586.000000  2586.000000  2586.0\n",
              "mean    105.128692   105.451332   104.783034   105.127369   105.127369     0.0\n",
              "std      11.821630    11.852569    11.789856    11.820824    11.820824     0.0\n",
              "min      75.750000    75.973999    75.570000    75.739998    75.739998     0.0\n",
              "25%     101.906750   102.184500   101.582000   101.900752   101.900752     0.0\n",
              "50%     108.369503   108.620998   108.021004   108.362999   108.362999     0.0\n",
              "75%     111.757751   112.041499   111.404000   111.772251   111.772251     0.0\n",
              "max     125.601997   125.821999   124.970001   125.628998   125.628998     0.0"
            ]
          },
          "metadata": {},
          "execution_count": 152
        }
      ]
    },
    {
      "cell_type": "code",
      "metadata": {
        "colab": {
          "base_uri": "https://localhost:8080/",
          "height": 359
        },
        "id": "olaIbBQb6lu1",
        "outputId": "48c75184-289c-4d52-ec6e-2fa3acc29ea4"
      },
      "source": [
        "df = df[['Date','Low', 'Close']]\n",
        "df.head(10)"
      ],
      "execution_count": null,
      "outputs": [
        {
          "output_type": "execute_result",
          "data": {
            "text/html": [
              "<div>\n",
              "<style scoped>\n",
              "    .dataframe tbody tr th:only-of-type {\n",
              "        vertical-align: middle;\n",
              "    }\n",
              "\n",
              "    .dataframe tbody tr th {\n",
              "        vertical-align: top;\n",
              "    }\n",
              "\n",
              "    .dataframe thead th {\n",
              "        text-align: right;\n",
              "    }\n",
              "</style>\n",
              "<table border=\"1\" class=\"dataframe\">\n",
              "  <thead>\n",
              "    <tr style=\"text-align: right;\">\n",
              "      <th></th>\n",
              "      <th>Date</th>\n",
              "      <th>Low</th>\n",
              "      <th>Close</th>\n",
              "    </tr>\n",
              "  </thead>\n",
              "  <tbody>\n",
              "    <tr>\n",
              "      <th>0</th>\n",
              "      <td>2011-09-26</td>\n",
              "      <td>76.230003</td>\n",
              "      <td>76.540001</td>\n",
              "    </tr>\n",
              "    <tr>\n",
              "      <th>1</th>\n",
              "      <td>2011-09-27</td>\n",
              "      <td>76.260002</td>\n",
              "      <td>76.335999</td>\n",
              "    </tr>\n",
              "    <tr>\n",
              "      <th>2</th>\n",
              "      <td>2011-09-28</td>\n",
              "      <td>76.309998</td>\n",
              "      <td>76.807999</td>\n",
              "    </tr>\n",
              "    <tr>\n",
              "      <th>3</th>\n",
              "      <td>2011-09-29</td>\n",
              "      <td>76.411003</td>\n",
              "      <td>76.540001</td>\n",
              "    </tr>\n",
              "    <tr>\n",
              "      <th>4</th>\n",
              "      <td>2011-09-30</td>\n",
              "      <td>76.501999</td>\n",
              "      <td>76.764999</td>\n",
              "    </tr>\n",
              "    <tr>\n",
              "      <th>5</th>\n",
              "      <td>2011-10-03</td>\n",
              "      <td>76.519997</td>\n",
              "      <td>77.190002</td>\n",
              "    </tr>\n",
              "    <tr>\n",
              "      <th>6</th>\n",
              "      <td>2011-10-04</td>\n",
              "      <td>76.510002</td>\n",
              "      <td>76.592003</td>\n",
              "    </tr>\n",
              "    <tr>\n",
              "      <th>7</th>\n",
              "      <td>2011-10-05</td>\n",
              "      <td>76.610001</td>\n",
              "      <td>76.760002</td>\n",
              "    </tr>\n",
              "    <tr>\n",
              "      <th>8</th>\n",
              "      <td>2011-10-06</td>\n",
              "      <td>76.570000</td>\n",
              "      <td>76.781998</td>\n",
              "    </tr>\n",
              "    <tr>\n",
              "      <th>9</th>\n",
              "      <td>2011-10-07</td>\n",
              "      <td>76.580002</td>\n",
              "      <td>76.657997</td>\n",
              "    </tr>\n",
              "  </tbody>\n",
              "</table>\n",
              "</div>"
            ],
            "text/plain": [
              "        Date        Low      Close\n",
              "0 2011-09-26  76.230003  76.540001\n",
              "1 2011-09-27  76.260002  76.335999\n",
              "2 2011-09-28  76.309998  76.807999\n",
              "3 2011-09-29  76.411003  76.540001\n",
              "4 2011-09-30  76.501999  76.764999\n",
              "5 2011-10-03  76.519997  77.190002\n",
              "6 2011-10-04  76.510002  76.592003\n",
              "7 2011-10-05  76.610001  76.760002\n",
              "8 2011-10-06  76.570000  76.781998\n",
              "9 2011-10-07  76.580002  76.657997"
            ]
          },
          "metadata": {},
          "execution_count": 153
        }
      ]
    },
    {
      "cell_type": "code",
      "metadata": {
        "id": "AjnXF1MuIMha"
      },
      "source": [
        "df['Date'] = pd.to_datetime(df['Date'])\n"
      ],
      "execution_count": null,
      "outputs": []
    },
    {
      "cell_type": "code",
      "metadata": {
        "colab": {
          "base_uri": "https://localhost:8080/",
          "height": 235
        },
        "id": "c2n-NErT7d8o",
        "outputId": "b8423ec4-96e8-4fab-f483-73370c778fe0"
      },
      "source": [
        "df_week = df.resample('W', on='Date').sum()\n",
        "df_week.head()"
      ],
      "execution_count": null,
      "outputs": [
        {
          "output_type": "execute_result",
          "data": {
            "text/html": [
              "<div>\n",
              "<style scoped>\n",
              "    .dataframe tbody tr th:only-of-type {\n",
              "        vertical-align: middle;\n",
              "    }\n",
              "\n",
              "    .dataframe tbody tr th {\n",
              "        vertical-align: top;\n",
              "    }\n",
              "\n",
              "    .dataframe thead th {\n",
              "        text-align: right;\n",
              "    }\n",
              "</style>\n",
              "<table border=\"1\" class=\"dataframe\">\n",
              "  <thead>\n",
              "    <tr style=\"text-align: right;\">\n",
              "      <th></th>\n",
              "      <th>Low</th>\n",
              "      <th>Close</th>\n",
              "    </tr>\n",
              "    <tr>\n",
              "      <th>Date</th>\n",
              "      <th></th>\n",
              "      <th></th>\n",
              "    </tr>\n",
              "  </thead>\n",
              "  <tbody>\n",
              "    <tr>\n",
              "      <th>2011-10-02</th>\n",
              "      <td>381.713005</td>\n",
              "      <td>382.988999</td>\n",
              "    </tr>\n",
              "    <tr>\n",
              "      <th>2011-10-09</th>\n",
              "      <td>382.790002</td>\n",
              "      <td>383.982002</td>\n",
              "    </tr>\n",
              "    <tr>\n",
              "      <th>2011-10-16</th>\n",
              "      <td>383.022004</td>\n",
              "      <td>384.156998</td>\n",
              "    </tr>\n",
              "    <tr>\n",
              "      <th>2011-10-23</th>\n",
              "      <td>382.510002</td>\n",
              "      <td>384.488006</td>\n",
              "    </tr>\n",
              "    <tr>\n",
              "      <th>2011-10-30</th>\n",
              "      <td>378.821007</td>\n",
              "      <td>380.565002</td>\n",
              "    </tr>\n",
              "  </tbody>\n",
              "</table>\n",
              "</div>"
            ],
            "text/plain": [
              "                   Low       Close\n",
              "Date                              \n",
              "2011-10-02  381.713005  382.988999\n",
              "2011-10-09  382.790002  383.982002\n",
              "2011-10-16  383.022004  384.156998\n",
              "2011-10-23  382.510002  384.488006\n",
              "2011-10-30  378.821007  380.565002"
            ]
          },
          "metadata": {},
          "execution_count": 155
        }
      ]
    },
    {
      "cell_type": "code",
      "metadata": {
        "id": "cvDYsmeG-vub"
      },
      "source": [
        "def plot_stock(symbol, df_acciones=df):\n",
        "    df_acciones[symbol].plot(alpha=0.9);"
      ],
      "execution_count": null,
      "outputs": []
    },
    {
      "cell_type": "code",
      "metadata": {
        "colab": {
          "base_uri": "https://localhost:8080/",
          "height": 554
        },
        "id": "Coy91byZDGYU",
        "outputId": "ae0e0abe-4b6f-44a2-fc35-823e9b305a26"
      },
      "source": [
        "plot_stock('Low')\n",
        "plot_stock('Close')\n",
        "plt.title('Market low and closing values')\n",
        "plt.legend();"
      ],
      "execution_count": null,
      "outputs": [
        {
          "output_type": "display_data",
          "data": {
            "image/png": "[encoded data removed]",
            "text/plain": [
              "<Figure size 1152x648 with 1 Axes>"
            ]
          },
          "metadata": {}
        }
      ]
    },
    {
      "cell_type": "code",
      "metadata": {
        "id": "QEaA2nSFD55F"
      },
      "source": [
        "df = df.dropna()\n",
        "df = df.reset_index(drop=True)"
      ],
      "execution_count": null,
      "outputs": []
    },
    {
      "cell_type": "code",
      "metadata": {
        "id": "5Ds7KwK-Gpx0"
      },
      "source": [
        "# Eliminamos columna de fecha que no usaremos en el algoritmo.\n",
        "dates = df['Date'] # Guardamos la columna Date.\n",
        "df = df.drop('Date', 1) "
      ],
      "execution_count": null,
      "outputs": []
    },
    {
      "cell_type": "code",
      "metadata": {
        "id": "VfwJcuqLEZUE"
      },
      "source": [
        "#%% Se normalizan los datos con MinMax()\n",
        "min_max_scaler = preprocessing.MinMaxScaler() \n",
        "df_escalado = min_max_scaler.fit_transform(df)\n",
        "df_escalado = pd.DataFrame(df_escalado) # Hay que convertir a DF el resultado.\n",
        "df_escalado = df_escalado.rename(columns = {0:  'Close', 2: 'Volum'})"
      ],
      "execution_count": null,
      "outputs": []
    },
    {
      "cell_type": "code",
      "metadata": {
        "colab": {
          "base_uri": "https://localhost:8080/"
        },
        "id": "sygT8UdAEdnb",
        "outputId": "afd8432f-7a6b-4e10-b891-58381feb9d57"
      },
      "source": [
        "df_escalado.head()\n",
        "df_escalado.isnull().sum()"
      ],
      "execution_count": null,
      "outputs": [
        {
          "output_type": "execute_result",
          "data": {
            "text/plain": [
              "Close    0\n",
              "1        0\n",
              "dtype: int64"
            ]
          },
          "metadata": {},
          "execution_count": 164
        }
      ]
    },
    {
      "cell_type": "code",
      "metadata": {
        "colab": {
          "base_uri": "https://localhost:8080/",
          "height": 588
        },
        "id": "-otAmgG5Ehuw",
        "outputId": "00b21fed-e7cc-4c54-a123-95dcfc57642e"
      },
      "source": [
        "x = df['Low'].values\n",
        "y = df['Close'].values\n",
        "plt.xlabel('Low')\n",
        "plt.ylabel('Close')\n",
        "plt.title('Low vs. Close')\n",
        "plt.plot(x,y,'o',markersize=1)"
      ],
      "execution_count": null,
      "outputs": [
        {
          "output_type": "execute_result",
          "data": {
            "text/plain": [
              "[<matplotlib.lines.Line2D at 0x7fcec398f350>]"
            ]
          },
          "metadata": {},
          "execution_count": 165
        },
        {
          "output_type": "display_data",
          "data": {
            "image/png": "[encoded data removed]",
            "text/plain": [
              "<Figure size 1152x648 with 1 Axes>"
            ]
          },
          "metadata": {}
        }
      ]
    },
    {
      "cell_type": "code",
      "metadata": {
        "colab": {
          "base_uri": "https://localhost:8080/",
          "height": 571
        },
        "id": "pWS3miwaGBdn",
        "outputId": "9411ddbb-9637-433a-bef8-dd30cdb05fce"
      },
      "source": [
        "nc = range(1, 30) # El número de iteraciones que queremos hacer.\n",
        "kmeans = [KMeans(n_clusters=i) for i in nc]\n",
        "score = [kmeans[i].fit(df_escalado).score(df_escalado) for i in range(len(kmeans))]\n",
        "score\n",
        "plt.xlabel('Número de clústeres (k)')\n",
        "plt.ylabel('Suma de los errores cuadráticos')\n",
        "plt.plot(nc,score)"
      ],
      "execution_count": null,
      "outputs": [
        {
          "output_type": "execute_result",
          "data": {
            "text/plain": [
              "[<matplotlib.lines.Line2D at 0x7fcec492ea50>]"
            ]
          },
          "metadata": {},
          "execution_count": 166
        },
        {
          "output_type": "display_data",
          "data": {
            "image/png": "[encoded data removed]",
            "text/plain": [
              "<Figure size 1152x648 with 1 Axes>"
            ]
          },
          "metadata": {}
        }
      ]
    },
    {
      "cell_type": "code",
      "metadata": {
        "colab": {
          "base_uri": "https://localhost:8080/"
        },
        "id": "lrr9GVbEGS-k",
        "outputId": "2fbcdbd2-f9a0-4f97-9bde-df8d5e027004"
      },
      "source": [
        "kmeans = KMeans(n_clusters=6).fit(df_escalado)\n",
        "centroids = kmeans.cluster_centers_\n",
        "print(centroids)"
      ],
      "execution_count": null,
      "outputs": [
        {
          "output_type": "stream",
          "name": "stdout",
          "text": [
            "[[0.73711884 0.73338928]\n",
            " [0.07277328 0.07369069]\n",
            " [0.54994058 0.54809403]\n",
            " [0.90011777 0.89655416]\n",
            " [0.41192677 0.41362054]\n",
            " [0.65999979 0.65646442]]\n"
          ]
        }
      ]
    },
    {
      "cell_type": "code",
      "metadata": {
        "id": "tKOj4uwgGYss"
      },
      "source": [
        "labels = kmeans.predict(df_escalado)  \n",
        "df['label'] = labels                   \n",
        "\n",
        "df.insert(0, 'Date', dates)"
      ],
      "execution_count": null,
      "outputs": []
    },
    {
      "cell_type": "code",
      "metadata": {
        "colab": {
          "base_uri": "https://localhost:8080/",
          "height": 204
        },
        "id": "WNIZ2mPaI50j",
        "outputId": "9d84a280-4262-4d53-fbc2-f106e568468b"
      },
      "source": [
        "df.head()"
      ],
      "execution_count": null,
      "outputs": [
        {
          "output_type": "execute_result",
          "data": {
            "text/html": [
              "<div>\n",
              "<style scoped>\n",
              "    .dataframe tbody tr th:only-of-type {\n",
              "        vertical-align: middle;\n",
              "    }\n",
              "\n",
              "    .dataframe tbody tr th {\n",
              "        vertical-align: top;\n",
              "    }\n",
              "\n",
              "    .dataframe thead th {\n",
              "        text-align: right;\n",
              "    }\n",
              "</style>\n",
              "<table border=\"1\" class=\"dataframe\">\n",
              "  <thead>\n",
              "    <tr style=\"text-align: right;\">\n",
              "      <th></th>\n",
              "      <th>Date</th>\n",
              "      <th>Low</th>\n",
              "      <th>Close</th>\n",
              "      <th>label</th>\n",
              "    </tr>\n",
              "  </thead>\n",
              "  <tbody>\n",
              "    <tr>\n",
              "      <th>0</th>\n",
              "      <td>2011-09-26</td>\n",
              "      <td>76.230003</td>\n",
              "      <td>76.540001</td>\n",
              "      <td>1</td>\n",
              "    </tr>\n",
              "    <tr>\n",
              "      <th>1</th>\n",
              "      <td>2011-09-27</td>\n",
              "      <td>76.260002</td>\n",
              "      <td>76.335999</td>\n",
              "      <td>1</td>\n",
              "    </tr>\n",
              "    <tr>\n",
              "      <th>2</th>\n",
              "      <td>2011-09-28</td>\n",
              "      <td>76.309998</td>\n",
              "      <td>76.807999</td>\n",
              "      <td>1</td>\n",
              "    </tr>\n",
              "    <tr>\n",
              "      <th>3</th>\n",
              "      <td>2011-09-29</td>\n",
              "      <td>76.411003</td>\n",
              "      <td>76.540001</td>\n",
              "      <td>1</td>\n",
              "    </tr>\n",
              "    <tr>\n",
              "      <th>4</th>\n",
              "      <td>2011-09-30</td>\n",
              "      <td>76.501999</td>\n",
              "      <td>76.764999</td>\n",
              "      <td>1</td>\n",
              "    </tr>\n",
              "  </tbody>\n",
              "</table>\n",
              "</div>"
            ],
            "text/plain": [
              "        Date        Low      Close  label\n",
              "0 2011-09-26  76.230003  76.540001      1\n",
              "1 2011-09-27  76.260002  76.335999      1\n",
              "2 2011-09-28  76.309998  76.807999      1\n",
              "3 2011-09-29  76.411003  76.540001      1\n",
              "4 2011-09-30  76.501999  76.764999      1"
            ]
          },
          "metadata": {},
          "execution_count": 170
        }
      ]
    },
    {
      "cell_type": "code",
      "metadata": {
        "colab": {
          "base_uri": "https://localhost:8080/",
          "height": 571
        },
        "id": "FsHvZv_-JIVe",
        "outputId": "bbf84dc7-2e39-4cd8-c13f-207c0bebc776"
      },
      "source": [
        "colores=['red','green','blue','yellow','fuchsia','black']\n",
        "asignar=[]\n",
        "for row in labels:\n",
        "     asignar.append(colores[row])\n",
        "plt.scatter(x, y, c=asignar, s=1)\n",
        "plt.scatter(centroids[:, 0], centroids[:, 1], marker='*', c='black', s=20) # Marco centroides.\n",
        "plt.xlabel('close')\n",
        "plt.ylabel('Low')\n",
        "plt.title('USD/JPY stocks k-means ')\n",
        "plt.show()"
      ],
      "execution_count": null,
      "outputs": [
        {
          "output_type": "display_data",
          "data": {
            "image/png": "[encoded data removed]",
            "text/plain": [
              "<Figure size 1152x648 with 1 Axes>"
            ]
          },
          "metadata": {}
        }
      ]
    },
    {
      "cell_type": "code",
      "metadata": {
        "id": "Q4DduRXmKTOU"
      },
      "source": [
        "C = kmeans.cluster_centers_\n",
        "colores=['blue','red','green','yellow','cyan','black']\n",
        "asignar=[]\n",
        "for row in labels:\n",
        "    asignar.append(colores[row])"
      ],
      "execution_count": null,
      "outputs": []
    },
    {
      "cell_type": "code",
      "metadata": {
        "id": "sFG172H1KelC"
      },
      "source": [
        "f1 = df['Low'].values\n",
        "f2 = df['Close'].values"
      ],
      "execution_count": null,
      "outputs": []
    },
    {
      "cell_type": "code",
      "metadata": {
        "colab": {
          "base_uri": "https://localhost:8080/",
          "height": 537
        },
        "id": "YjKimw-_KjRR",
        "outputId": "f06f3b98-8415-4d9d-d1d2-b3350387bf56"
      },
      "source": [
        "plt.scatter(f1, f2, c=asignar, s=70)\n",
        "plt.scatter(C[:, 0], C[:, 1], marker='*', c=colores, s=1000)\n",
        "plt.show()"
      ],
      "execution_count": null,
      "outputs": [
        {
          "output_type": "display_data",
          "data": {
            "image/png": "[encoded data removed]",
            "text/plain": [
              "<Figure size 1152x648 with 1 Axes>"
            ]
          },
          "metadata": {}
        }
      ]
    },
    {
      "cell_type": "code",
      "metadata": {
        "colab": {
          "base_uri": "https://localhost:8080/",
          "height": 537
        },
        "id": "fg_u9dsrKqN9",
        "outputId": "ba89fe5e-159f-4573-9b63-62c337c61478"
      },
      "source": [
        "plt.scatter(f2, f1, c=asignar, s=70)\n",
        "plt.scatter(C[:, 0], C[:, 1], marker='*', c=colores, s=1000)\n",
        "plt.show()"
      ],
      "execution_count": null,
      "outputs": [
        {
          "output_type": "display_data",
          "data": {
            "image/png": "[encoded data removed]",
            "text/plain": [
              "<Figure size 1152x648 with 1 Axes>"
            ]
          },
          "metadata": {}
        }
      ]
    },
    {
      "cell_type": "code",
      "metadata": {
        "colab": {
          "base_uri": "https://localhost:8080/",
          "height": 235
        },
        "id": "jTnYI-f3KtfH",
        "outputId": "7c501ec6-0d7c-4d73-eefa-d6d23b469a5c"
      },
      "source": [
        "copy =  pd.DataFrame()\n",
        "copy['Low']=df['Low'].values\n",
        "copy['Close']=df['Close'].values\n",
        "copy['label'] = labels;\n",
        "cantidadGrupo =  pd.DataFrame()\n",
        "cantidadGrupo['color']=colores\n",
        "cantidadGrupo['cantidad']=copy.groupby('label').size()\n",
        "cantidadGrupo"
      ],
      "execution_count": null,
      "outputs": [
        {
          "output_type": "execute_result",
          "data": {
            "text/html": [
              "<div>\n",
              "<style scoped>\n",
              "    .dataframe tbody tr th:only-of-type {\n",
              "        vertical-align: middle;\n",
              "    }\n",
              "\n",
              "    .dataframe tbody tr th {\n",
              "        vertical-align: top;\n",
              "    }\n",
              "\n",
              "    .dataframe thead th {\n",
              "        text-align: right;\n",
              "    }\n",
              "</style>\n",
              "<table border=\"1\" class=\"dataframe\">\n",
              "  <thead>\n",
              "    <tr style=\"text-align: right;\">\n",
              "      <th></th>\n",
              "      <th>color</th>\n",
              "      <th>cantidad</th>\n",
              "    </tr>\n",
              "  </thead>\n",
              "  <tbody>\n",
              "    <tr>\n",
              "      <th>0</th>\n",
              "      <td>blue</td>\n",
              "      <td>525</td>\n",
              "    </tr>\n",
              "    <tr>\n",
              "      <th>1</th>\n",
              "      <td>red</td>\n",
              "      <td>337</td>\n",
              "    </tr>\n",
              "    <tr>\n",
              "      <th>2</th>\n",
              "      <td>green</td>\n",
              "      <td>489</td>\n",
              "    </tr>\n",
              "    <tr>\n",
              "      <th>3</th>\n",
              "      <td>yellow</td>\n",
              "      <td>334</td>\n",
              "    </tr>\n",
              "    <tr>\n",
              "      <th>4</th>\n",
              "      <td>cyan</td>\n",
              "      <td>186</td>\n",
              "    </tr>\n",
              "    <tr>\n",
              "      <th>5</th>\n",
              "      <td>black</td>\n",
              "      <td>715</td>\n",
              "    </tr>\n",
              "  </tbody>\n",
              "</table>\n",
              "</div>"
            ],
            "text/plain": [
              "    color  cantidad\n",
              "0    blue       525\n",
              "1     red       337\n",
              "2   green       489\n",
              "3  yellow       334\n",
              "4    cyan       186\n",
              "5   black       715"
            ]
          },
          "metadata": {},
          "execution_count": 180
        }
      ]
    }
  ]
}