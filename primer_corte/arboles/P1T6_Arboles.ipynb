{
  "nbformat": 4,
  "nbformat_minor": 0,
  "metadata": {
    "colab": {
      "name": "P1T6_Arboles.ipynb",
      "provenance": []
    },
    "kernelspec": {
      "name": "python3",
      "display_name": "Python 3"
    },
    "language_info": {
      "name": "python"
    }
  },
  "cells": [
    {
      "cell_type": "code",
      "metadata": {
        "id": "HdGMJpiBRLPs"
      },
      "source": [
        "import numpy as np\n",
        "import pandas as pd\n",
        "\n",
        "from sklearn.datasets import load_iris                  #dataset sobre la flor iris (uso libre)\n",
        "from sklearn.model_selection import train_test_split    #clase para dividir dataset (train y test)\n",
        "from sklearn.tree import DecisionTreeClassifier         #clase que permite implementar un arbol de desición\n",
        "import matplotlib.pyplot as plt   "
      ],
      "execution_count": 40,
      "outputs": []
    },
    {
      "cell_type": "code",
      "metadata": {
        "id": "I21OLpOfRPPu"
      },
      "source": [
        "db_iris = load_iris() # este datasets ya es propio de SKlearn, por eso no lo traemos de Github o de Google Chrom"
      ],
      "execution_count": 41,
      "outputs": []
    },
    {
      "cell_type": "code",
      "metadata": {
        "colab": {
          "base_uri": "https://localhost:8080/"
        },
        "id": "GnGiRXESRZHY",
        "outputId": "c4a24013-85fa-42d7-f686-ee6a2c2ac9ea"
      },
      "source": [
        "print(db_iris.DESCR)\n"
      ],
      "execution_count": 42,
      "outputs": [
        {
          "output_type": "stream",
          "name": "stdout",
          "text": [
            ".. _iris_dataset:\n",
            "\n",
            "Iris plants dataset\n",
            "--------------------\n",
            "\n",
            "**Data Set Characteristics:**\n",
            "\n",
            "    :Number of Instances: 150 (50 in each of three classes)\n",
            "    :Number of Attributes: 4 numeric, predictive attributes and the class\n",
            "    :Attribute Information:\n",
            "        - sepal length in cm\n",
            "        - sepal width in cm\n",
            "        - petal length in cm\n",
            "        - petal width in cm\n",
            "        - class:\n",
            "                - Iris-Setosa\n",
            "                - Iris-Versicolour\n",
            "                - Iris-Virginica\n",
            "                \n",
            "    :Summary Statistics:\n",
            "\n",
            "    ============== ==== ==== ======= ===== ====================\n",
            "                    Min  Max   Mean    SD   Class Correlation\n",
            "    ============== ==== ==== ======= ===== ====================\n",
            "    sepal length:   4.3  7.9   5.84   0.83    0.7826\n",
            "    sepal width:    2.0  4.4   3.05   0.43   -0.4194\n",
            "    petal length:   1.0  6.9   3.76   1.76    0.9490  (high!)\n",
            "    petal width:    0.1  2.5   1.20   0.76    0.9565  (high!)\n",
            "    ============== ==== ==== ======= ===== ====================\n",
            "\n",
            "    :Missing Attribute Values: None\n",
            "    :Class Distribution: 33.3% for each of 3 classes.\n",
            "    :Creator: R.A. Fisher\n",
            "    :Donor: Michael Marshall (MARSHALL%PLU@io.arc.nasa.gov)\n",
            "    :Date: July, 1988\n",
            "\n",
            "The famous Iris database, first used by Sir R.A. Fisher. The dataset is taken\n",
            "from Fisher's paper. Note that it's the same as in R, but not as in the UCI\n",
            "Machine Learning Repository, which has two wrong data points.\n",
            "\n",
            "This is perhaps the best known database to be found in the\n",
            "pattern recognition literature.  Fisher's paper is a classic in the field and\n",
            "is referenced frequently to this day.  (See Duda & Hart, for example.)  The\n",
            "data set contains 3 classes of 50 instances each, where each class refers to a\n",
            "type of iris plant.  One class is linearly separable from the other 2; the\n",
            "latter are NOT linearly separable from each other.\n",
            "\n",
            ".. topic:: References\n",
            "\n",
            "   - Fisher, R.A. \"The use of multiple measurements in taxonomic problems\"\n",
            "     Annual Eugenics, 7, Part II, 179-188 (1936); also in \"Contributions to\n",
            "     Mathematical Statistics\" (John Wiley, NY, 1950).\n",
            "   - Duda, R.O., & Hart, P.E. (1973) Pattern Classification and Scene Analysis.\n",
            "     (Q327.D83) John Wiley & Sons.  ISBN 0-471-22361-1.  See page 218.\n",
            "   - Dasarathy, B.V. (1980) \"Nosing Around the Neighborhood: A New System\n",
            "     Structure and Classification Rule for Recognition in Partially Exposed\n",
            "     Environments\".  IEEE Transactions on Pattern Analysis and Machine\n",
            "     Intelligence, Vol. PAMI-2, No. 1, 67-71.\n",
            "   - Gates, G.W. (1972) \"The Reduced Nearest Neighbor Rule\".  IEEE Transactions\n",
            "     on Information Theory, May 1972, 431-433.\n",
            "   - See also: 1988 MLC Proceedings, 54-64.  Cheeseman et al\"s AUTOCLASS II\n",
            "     conceptual clustering system finds 3 classes in the data.\n",
            "   - Many, many more ...\n"
          ]
        }
      ]
    },
    {
      "cell_type": "code",
      "metadata": {
        "colab": {
          "base_uri": "https://localhost:8080/"
        },
        "id": "XWx9tD_-RdiO",
        "outputId": "779663a4-4bf3-4dc7-a8b4-6749d7d27e3e"
      },
      "source": [
        "print(db_iris.target)"
      ],
      "execution_count": 43,
      "outputs": [
        {
          "output_type": "stream",
          "name": "stdout",
          "text": [
            "[0 0 0 0 0 0 0 0 0 0 0 0 0 0 0 0 0 0 0 0 0 0 0 0 0 0 0 0 0 0 0 0 0 0 0 0 0\n",
            " 0 0 0 0 0 0 0 0 0 0 0 0 0 1 1 1 1 1 1 1 1 1 1 1 1 1 1 1 1 1 1 1 1 1 1 1 1\n",
            " 1 1 1 1 1 1 1 1 1 1 1 1 1 1 1 1 1 1 1 1 1 1 1 1 1 1 2 2 2 2 2 2 2 2 2 2 2\n",
            " 2 2 2 2 2 2 2 2 2 2 2 2 2 2 2 2 2 2 2 2 2 2 2 2 2 2 2 2 2 2 2 2 2 2 2 2 2\n",
            " 2 2]\n"
          ]
        }
      ]
    },
    {
      "cell_type": "code",
      "metadata": {
        "colab": {
          "base_uri": "https://localhost:8080/",
          "height": 204
        },
        "id": "pBPUbdONRiZt",
        "outputId": "d69d46b3-a4a8-4f3f-ec91-e3f74140e69a"
      },
      "source": [
        "df_iris = pd.DataFrame(db_iris.data, columns=db_iris.feature_names) \n",
        "df_iris['target'] = db_iris.target \n",
        "df_iris.head(5)\n"
      ],
      "execution_count": 44,
      "outputs": [
        {
          "output_type": "execute_result",
          "data": {
            "text/html": [
              "<div>\n",
              "<style scoped>\n",
              "    .dataframe tbody tr th:only-of-type {\n",
              "        vertical-align: middle;\n",
              "    }\n",
              "\n",
              "    .dataframe tbody tr th {\n",
              "        vertical-align: top;\n",
              "    }\n",
              "\n",
              "    .dataframe thead th {\n",
              "        text-align: right;\n",
              "    }\n",
              "</style>\n",
              "<table border=\"1\" class=\"dataframe\">\n",
              "  <thead>\n",
              "    <tr style=\"text-align: right;\">\n",
              "      <th></th>\n",
              "      <th>sepal length (cm)</th>\n",
              "      <th>sepal width (cm)</th>\n",
              "      <th>petal length (cm)</th>\n",
              "      <th>petal width (cm)</th>\n",
              "      <th>target</th>\n",
              "    </tr>\n",
              "  </thead>\n",
              "  <tbody>\n",
              "    <tr>\n",
              "      <th>0</th>\n",
              "      <td>5.1</td>\n",
              "      <td>3.5</td>\n",
              "      <td>1.4</td>\n",
              "      <td>0.2</td>\n",
              "      <td>0</td>\n",
              "    </tr>\n",
              "    <tr>\n",
              "      <th>1</th>\n",
              "      <td>4.9</td>\n",
              "      <td>3.0</td>\n",
              "      <td>1.4</td>\n",
              "      <td>0.2</td>\n",
              "      <td>0</td>\n",
              "    </tr>\n",
              "    <tr>\n",
              "      <th>2</th>\n",
              "      <td>4.7</td>\n",
              "      <td>3.2</td>\n",
              "      <td>1.3</td>\n",
              "      <td>0.2</td>\n",
              "      <td>0</td>\n",
              "    </tr>\n",
              "    <tr>\n",
              "      <th>3</th>\n",
              "      <td>4.6</td>\n",
              "      <td>3.1</td>\n",
              "      <td>1.5</td>\n",
              "      <td>0.2</td>\n",
              "      <td>0</td>\n",
              "    </tr>\n",
              "    <tr>\n",
              "      <th>4</th>\n",
              "      <td>5.0</td>\n",
              "      <td>3.6</td>\n",
              "      <td>1.4</td>\n",
              "      <td>0.2</td>\n",
              "      <td>0</td>\n",
              "    </tr>\n",
              "  </tbody>\n",
              "</table>\n",
              "</div>"
            ],
            "text/plain": [
              "   sepal length (cm)  sepal width (cm)  ...  petal width (cm)  target\n",
              "0                5.1               3.5  ...               0.2       0\n",
              "1                4.9               3.0  ...               0.2       0\n",
              "2                4.7               3.2  ...               0.2       0\n",
              "3                4.6               3.1  ...               0.2       0\n",
              "4                5.0               3.6  ...               0.2       0\n",
              "\n",
              "[5 rows x 5 columns]"
            ]
          },
          "metadata": {},
          "execution_count": 44
        }
      ]
    },
    {
      "cell_type": "code",
      "metadata": {
        "id": "NCQQnCQGRsMd"
      },
      "source": [
        "X_train, X_test, Y_train, Y_test = train_test_split( df_iris[db_iris.feature_names], df_iris['target'], random_state=0 )"
      ],
      "execution_count": 45,
      "outputs": []
    },
    {
      "cell_type": "code",
      "metadata": {
        "id": "W_IZB1MDRvi5"
      },
      "source": [
        "arbol_clasi = DecisionTreeClassifier(max_depth = 2, random_state = 0)\n"
      ],
      "execution_count": 46,
      "outputs": []
    },
    {
      "cell_type": "code",
      "metadata": {
        "colab": {
          "base_uri": "https://localhost:8080/"
        },
        "id": "qSpWOx0dRwjQ",
        "outputId": "4ac071a0-5b7f-4b3e-d4ae-be1a62d0a996"
      },
      "source": [
        "arbol_clasi.fit(X_train, Y_train)\n"
      ],
      "execution_count": 47,
      "outputs": [
        {
          "output_type": "execute_result",
          "data": {
            "text/plain": [
              "DecisionTreeClassifier(ccp_alpha=0.0, class_weight=None, criterion='gini',\n",
              "                       max_depth=2, max_features=None, max_leaf_nodes=None,\n",
              "                       min_impurity_decrease=0.0, min_impurity_split=None,\n",
              "                       min_samples_leaf=1, min_samples_split=2,\n",
              "                       min_weight_fraction_leaf=0.0, presort='deprecated',\n",
              "                       random_state=0, splitter='best')"
            ]
          },
          "metadata": {},
          "execution_count": 47
        }
      ]
    },
    {
      "cell_type": "code",
      "metadata": {
        "colab": {
          "base_uri": "https://localhost:8080/"
        },
        "id": "1NHkr48SR0VJ",
        "outputId": "db6b2332-813b-40ce-eeaf-ddc4bf843ed1"
      },
      "source": [
        "print(X_test.iloc[0])\n",
        "print(Y_test.iloc[0])\n",
        "arbol_clasi.predict(X_test.iloc[0].values.reshape(1, -1))\n",
        "arbol_clasi.predict(X_test[0:10])"
      ],
      "execution_count": 48,
      "outputs": [
        {
          "output_type": "stream",
          "name": "stdout",
          "text": [
            "sepal length (cm)    5.8\n",
            "sepal width (cm)     2.8\n",
            "petal length (cm)    5.1\n",
            "petal width (cm)     2.4\n",
            "Name: 114, dtype: float64\n",
            "2\n"
          ]
        },
        {
          "output_type": "execute_result",
          "data": {
            "text/plain": [
              "array([2, 1, 0, 2, 0, 2, 0, 1, 1, 1])"
            ]
          },
          "metadata": {},
          "execution_count": 48
        }
      ]
    },
    {
      "cell_type": "code",
      "metadata": {
        "colab": {
          "base_uri": "https://localhost:8080/"
        },
        "id": "hv3GcSlmR58V",
        "outputId": "24023a6c-5a17-49c4-c23d-f70133049dc8"
      },
      "source": [
        "accuary = arbol_clasi.score(X_test, Y_test)\n",
        "print(\"Precision: \"+str(accuary*100)+\" %\")"
      ],
      "execution_count": 49,
      "outputs": [
        {
          "output_type": "stream",
          "name": "stdout",
          "text": [
            "Precision: 89.47368421052632 %\n"
          ]
        }
      ]
    },
    {
      "cell_type": "code",
      "metadata": {
        "colab": {
          "base_uri": "https://localhost:8080/"
        },
        "id": "6bkBSrgMR9w1",
        "outputId": "605c92bf-8f93-4995-a495-8c6f9a3d1305"
      },
      "source": [
        "class_names_list=list(['setosa','versicolor','virginica'])\n",
        "\n",
        "from sklearn.tree import export_graphviz\n",
        "from pydotplus import graph_from_dot_data\n",
        "\n",
        "dot_data = export_graphviz(arbol_clasi,feature_names=db_iris.feature_names, class_names=class_names_list)\n",
        "graph = graph_from_dot_data(dot_data)\n",
        "graph.write_png('tree_iris.png')"
      ],
      "execution_count": 50,
      "outputs": [
        {
          "output_type": "execute_result",
          "data": {
            "text/plain": [
              "True"
            ]
          },
          "metadata": {},
          "execution_count": 50
        }
      ]
    },
    {
      "cell_type": "code",
      "metadata": {
        "colab": {
          "base_uri": "https://localhost:8080/",
          "height": 35
        },
        "id": "03fQJmrWSGwe",
        "outputId": "559918e7-f258-478c-827c-2e526ca6d554"
      },
      "source": [
        "\"\"\"\n",
        "import cv2\n",
        "import cv2 as cv\n",
        "\n",
        "img = cv2.imread('tree_iris.png')\n",
        "#Colab no permite mostrar en ventana emergente de cv2\n",
        "cv2.imshow('Arbol de decisiones',img)\n",
        "\"\"\""
      ],
      "execution_count": 51,
      "outputs": [
        {
          "output_type": "execute_result",
          "data": {
            "application/vnd.google.colaboratory.intrinsic+json": {
              "type": "string"
            },
            "text/plain": [
              "\"\\nimport cv2\\nimport cv2 as cv\\n\\nimg = cv2.imread('tree_iris.png')\\n#Colab no permite mostrar en ventana emergente de cv2\\ncv2.imshow('Arbol de decisiones',img)\\n\""
            ]
          },
          "metadata": {},
          "execution_count": 51
        }
      ]
    },
    {
      "cell_type": "code",
      "metadata": {
        "colab": {
          "base_uri": "https://localhost:8080/",
          "height": 173
        },
        "id": "M0AnuYk4SKbW",
        "outputId": "006bc7cb-d77a-49d7-8470-779db23b9d47"
      },
      "source": [
        "importances = pd.DataFrame({'feature':X_train.columns,'importance':np.round(arbol_clasi.feature_importances_,3)})\n",
        "importances = importances.sort_values('importance',ascending=False)\n",
        "importances.head(10)"
      ],
      "execution_count": 52,
      "outputs": [
        {
          "output_type": "execute_result",
          "data": {
            "text/html": [
              "<div>\n",
              "<style scoped>\n",
              "    .dataframe tbody tr th:only-of-type {\n",
              "        vertical-align: middle;\n",
              "    }\n",
              "\n",
              "    .dataframe tbody tr th {\n",
              "        vertical-align: top;\n",
              "    }\n",
              "\n",
              "    .dataframe thead th {\n",
              "        text-align: right;\n",
              "    }\n",
              "</style>\n",
              "<table border=\"1\" class=\"dataframe\">\n",
              "  <thead>\n",
              "    <tr style=\"text-align: right;\">\n",
              "      <th></th>\n",
              "      <th>feature</th>\n",
              "      <th>importance</th>\n",
              "    </tr>\n",
              "  </thead>\n",
              "  <tbody>\n",
              "    <tr>\n",
              "      <th>3</th>\n",
              "      <td>petal width (cm)</td>\n",
              "      <td>0.556</td>\n",
              "    </tr>\n",
              "    <tr>\n",
              "      <th>2</th>\n",
              "      <td>petal length (cm)</td>\n",
              "      <td>0.444</td>\n",
              "    </tr>\n",
              "    <tr>\n",
              "      <th>0</th>\n",
              "      <td>sepal length (cm)</td>\n",
              "      <td>0.000</td>\n",
              "    </tr>\n",
              "    <tr>\n",
              "      <th>1</th>\n",
              "      <td>sepal width (cm)</td>\n",
              "      <td>0.000</td>\n",
              "    </tr>\n",
              "  </tbody>\n",
              "</table>\n",
              "</div>"
            ],
            "text/plain": [
              "             feature  importance\n",
              "3   petal width (cm)       0.556\n",
              "2  petal length (cm)       0.444\n",
              "0  sepal length (cm)       0.000\n",
              "1   sepal width (cm)       0.000"
            ]
          },
          "metadata": {},
          "execution_count": 52
        }
      ]
    },
    {
      "cell_type": "markdown",
      "metadata": {
        "id": "Bp9ZEMlfX0Ov"
      },
      "source": [
        "# Nueva sección"
      ]
    },
    {
      "cell_type": "code",
      "metadata": {
        "colab": {
          "base_uri": "https://localhost:8080/",
          "height": 279
        },
        "id": "yPeCx_9pSM_o",
        "outputId": "6b01db9c-0042-4966-9f5f-3a76141db9a8"
      },
      "source": [
        "max_depth_lista = list(range(1, 6))\n",
        "accuracy = []\n",
        "for depth in max_depth_lista:\n",
        "    arbol_clasi = DecisionTreeClassifier(max_depth = depth, random_state = 0)\n",
        "    arbol_clasi.fit(X_train, Y_train)\n",
        "    score = arbol_clasi.score(X_test, Y_test)\n",
        "    accuracy.append(score)\n",
        "plt.plot(max_depth_lista,accuracy)\n",
        "plt.ylabel('accuracy')\n",
        "plt.xlabel('depth')\n",
        "plt.grid(True)\n",
        "plt.show()"
      ],
      "execution_count": 53,
      "outputs": [
        {
          "output_type": "display_data",
          "data": {
            "image/png": "[encoded data removed]",
            "text/plain": [
              "<Figure size 432x288 with 1 Axes>"
            ]
          },
          "metadata": {
            "needs_background": "light"
          }
        }
      ]
    },
    {
      "cell_type": "code",
      "metadata": {
        "colab": {
          "base_uri": "https://localhost:8080/"
        },
        "id": "xTtznRQHSVjV",
        "outputId": "8871767c-7ec9-4e1c-d658-359f6a626195"
      },
      "source": [
        "db_iris = load_iris()\n",
        "\n",
        "df_iris = pd.DataFrame(db_iris.data, columns=db_iris.feature_names) \n",
        "df_iris['target'] = db_iris.target\n",
        "\n",
        "X_train, X_test, Y_train, Y_test = train_test_split( df_iris[db_iris.feature_names], df_iris['target'], random_state=0 ) \n",
        "\n",
        "arbol_clasi = DecisionTreeClassifier(max_depth = 3, random_state = 0)\n",
        "\n",
        "arbol_clasi.fit(X_train, Y_train)\n",
        "\n",
        "accuary = arbol_clasi.score(X_test, Y_test)\n",
        "print(\"Precision: \"+str(accuary*100)+\" %\")"
      ],
      "execution_count": 54,
      "outputs": [
        {
          "output_type": "stream",
          "name": "stdout",
          "text": [
            "Precision: 97.36842105263158 %\n"
          ]
        }
      ]
    },
    {
      "cell_type": "code",
      "metadata": {
        "colab": {
          "base_uri": "https://localhost:8080/"
        },
        "id": "crZ5Pcq1SYhC",
        "outputId": "2fccb9ab-3246-4f03-d4d6-36f579553ae5"
      },
      "source": [
        "class_names_list=list(['setosa','versicolor','virginica'])\n",
        "\n",
        "from sklearn.tree import export_graphviz\n",
        "from pydotplus import graph_from_dot_data\n",
        "\n",
        "dot_data = export_graphviz(arbol_clasi,feature_names=db_iris.feature_names, class_names=class_names_list)\n",
        "graph = graph_from_dot_data(dot_data)\n",
        "graph.write_png('tree_iris.png')"
      ],
      "execution_count": 55,
      "outputs": [
        {
          "output_type": "execute_result",
          "data": {
            "text/plain": [
              "True"
            ]
          },
          "metadata": {},
          "execution_count": 55
        }
      ]
    },
    {
      "cell_type": "code",
      "metadata": {
        "id": "t3q-NqhfSvp9"
      },
      "source": [
        "import numpy as np\n",
        "import pandas as pd\n",
        "import seaborn as sns\n",
        "import matplotlib.pyplot as plt                         \n",
        "\n",
        "from sklearn.tree import DecisionTreeClassifier        \n",
        "from sklearn import metrics\n",
        "from sklearn.model_selection import train_test_split\n",
        "from sklearn.metrics import accuracy_score\n",
        "from sklearn import preprocessing\n",
        "from sklearn.feature_selection import RFE"
      ],
      "execution_count": 56,
      "outputs": []
    },
    {
      "cell_type": "code",
      "metadata": {
        "id": "pA3AJLyPS1i5"
      },
      "source": [
        "data = pd.DataFrame()\n",
        "data = pd.read_csv(\"https://raw.githubusercontent.com/luisFernandoCastellanosG/Machine_learning/master/Machine_Learning_Classic/Databasets/mercadeo_bancario.csv\", encoding='utf-8')"
      ],
      "execution_count": 59,
      "outputs": []
    },
    {
      "cell_type": "code",
      "metadata": {
        "colab": {
          "base_uri": "https://localhost:8080/"
        },
        "id": "GqkvvComS4tF",
        "outputId": "8d9a2456-4f41-48b5-a4fe-f9e1b748c7b5"
      },
      "source": [
        "data.info()"
      ],
      "execution_count": 60,
      "outputs": [
        {
          "output_type": "stream",
          "name": "stdout",
          "text": [
            "<class 'pandas.core.frame.DataFrame'>\n",
            "RangeIndex: 41188 entries, 0 to 41187\n",
            "Data columns (total 19 columns):\n",
            " #   Column                    Non-Null Count  Dtype \n",
            "---  ------                    --------------  ----- \n",
            " 0   edad                      41188 non-null  int64 \n",
            " 1   trabajo                   41188 non-null  object\n",
            " 2   estado_civil              41188 non-null  object\n",
            " 3   educacion                 41188 non-null  object\n",
            " 4   total_hijos               41188 non-null  int64 \n",
            " 5   credito_sin_pago          41188 non-null  object\n",
            " 6   prestamo_vivienda         41188 non-null  object\n",
            " 7   prestamo_personal         41188 non-null  object\n",
            " 8   valor_prestamo            41188 non-null  int64 \n",
            " 9   dias_ultimo_pago          41188 non-null  int64 \n",
            " 10  tarjetas_credito          41188 non-null  int64 \n",
            " 11  contacto                  41188 non-null  object\n",
            " 12  mes                       41188 non-null  object\n",
            " 13  dia_semana                41188 non-null  object\n",
            " 14  duracion_ultimo_contacto  41188 non-null  int64 \n",
            " 15  dias_ultimo_contacto      41188 non-null  int64 \n",
            " 16  anterior_contacto         41188 non-null  int64 \n",
            " 17  numero_empleados          41188 non-null  int64 \n",
            " 18  si_no                     41188 non-null  int64 \n",
            "dtypes: int64(10), object(9)\n",
            "memory usage: 6.0+ MB\n"
          ]
        }
      ]
    },
    {
      "cell_type": "code",
      "metadata": {
        "id": "rtIBRqarS-8d"
      },
      "source": [
        "le =preprocessing.LabelEncoder()\n"
      ],
      "execution_count": 61,
      "outputs": []
    },
    {
      "cell_type": "code",
      "metadata": {
        "id": "rEpWPzCyTEce"
      },
      "source": [
        "mes = {\n",
        "    'mar': 3,\n",
        "    'apr': 4,\n",
        "    'may': 5,\n",
        "    'jun': 6,\n",
        "    'jul': 7,\n",
        "    'aug': 8,\n",
        "    'sep': 9,\n",
        "    'oct': 10,\n",
        "    'nov': 11,\n",
        "    'dec': 12\n",
        "}\n",
        "data['mes'] = data['mes'].map(mes)\n",
        "dia_semana = {\n",
        "    'sun': 1,\n",
        "    'mon': 2,\n",
        "    'tue': 3,\n",
        "    'wed': 4,\n",
        "    'thu': 5,\n",
        "    'fri': 6,\n",
        "    'sat': 7\n",
        "}\n",
        "data['dia_semana'] = data['dia_semana'].map(dia_semana)\n",
        "data['trabajo'] = le.fit_transform(data['trabajo'])\n",
        "data['estado_civil '] = le.fit_transform(data['estado_civil '])\n",
        "data['educacion'] = le.fit_transform(data['educacion'])\n",
        "data['credito_sin_pago'] = le.fit_transform(data['credito_sin_pago'])\n",
        "data['prestamo_vivienda'] = le.fit_transform(data['prestamo_vivienda'])\n",
        "data['prestamo_personal'] = le.fit_transform(data['prestamo_personal'])\n",
        "data['contacto'] = le.fit_transform(data['contacto'])"
      ],
      "execution_count": 62,
      "outputs": []
    },
    {
      "cell_type": "code",
      "metadata": {
        "colab": {
          "base_uri": "https://localhost:8080/"
        },
        "id": "GRpE8HMFTHsx",
        "outputId": "3da1ee12-132b-44aa-bb23-1888b60f465f"
      },
      "source": [
        "data.info()"
      ],
      "execution_count": 63,
      "outputs": [
        {
          "output_type": "stream",
          "name": "stdout",
          "text": [
            "<class 'pandas.core.frame.DataFrame'>\n",
            "RangeIndex: 41188 entries, 0 to 41187\n",
            "Data columns (total 19 columns):\n",
            " #   Column                    Non-Null Count  Dtype\n",
            "---  ------                    --------------  -----\n",
            " 0   edad                      41188 non-null  int64\n",
            " 1   trabajo                   41188 non-null  int64\n",
            " 2   estado_civil              41188 non-null  int64\n",
            " 3   educacion                 41188 non-null  int64\n",
            " 4   total_hijos               41188 non-null  int64\n",
            " 5   credito_sin_pago          41188 non-null  int64\n",
            " 6   prestamo_vivienda         41188 non-null  int64\n",
            " 7   prestamo_personal         41188 non-null  int64\n",
            " 8   valor_prestamo            41188 non-null  int64\n",
            " 9   dias_ultimo_pago          41188 non-null  int64\n",
            " 10  tarjetas_credito          41188 non-null  int64\n",
            " 11  contacto                  41188 non-null  int64\n",
            " 12  mes                       41188 non-null  int64\n",
            " 13  dia_semana                41188 non-null  int64\n",
            " 14  duracion_ultimo_contacto  41188 non-null  int64\n",
            " 15  dias_ultimo_contacto      41188 non-null  int64\n",
            " 16  anterior_contacto         41188 non-null  int64\n",
            " 17  numero_empleados          41188 non-null  int64\n",
            " 18  si_no                     41188 non-null  int64\n",
            "dtypes: int64(19)\n",
            "memory usage: 6.0 MB\n"
          ]
        }
      ]
    },
    {
      "cell_type": "code",
      "metadata": {
        "id": "HDpdoSLOTK8l"
      },
      "source": [
        "X = data.drop('si_no', axis=1)\n",
        "y = data.si_no\n",
        "\n",
        "X_train, X_test, y_train, y_test = train_test_split( X, y, random_state=0 )"
      ],
      "execution_count": 64,
      "outputs": []
    },
    {
      "cell_type": "code",
      "metadata": {
        "colab": {
          "base_uri": "https://localhost:8080/",
          "height": 279
        },
        "id": "JDVuUJM8TPVi",
        "outputId": "2b4e7737-27f7-49a5-f2f5-831c53710e4e"
      },
      "source": [
        "max_depth_lista = list(range(1, 10))\n",
        "accuracy = []\n",
        "for depth in max_depth_lista:\n",
        "    arbol_clasi = DecisionTreeClassifier(max_depth = depth, random_state = 0)\n",
        "    arbol_clasi.fit(X_train, y_train)\n",
        "    score = arbol_clasi.score(X_test, y_test)\n",
        "    accuracy.append(score)\n",
        "plt.plot(max_depth_lista,accuracy)\n",
        "plt.ylabel('accuracy')\n",
        "plt.xlabel('depth')\n",
        "plt.grid(True)\n",
        "plt.show()"
      ],
      "execution_count": 65,
      "outputs": [
        {
          "output_type": "display_data",
          "data": {
            "image/png": "[encoded data removed]",
            "text/plain": [
              "<Figure size 432x288 with 1 Axes>"
            ]
          },
          "metadata": {
            "needs_background": "light"
          }
        }
      ]
    },
    {
      "cell_type": "code",
      "metadata": {
        "colab": {
          "base_uri": "https://localhost:8080/"
        },
        "id": "m8c5rybUTW6j",
        "outputId": "e55c2d7d-b79a-4fa6-cb6e-3e2362b0161b"
      },
      "source": [
        "arbol_clasi = DecisionTreeClassifier(max_depth = 7, random_state = 0)\n",
        "arbol_clasi.fit(X_train, y_train)\n",
        "accuary = arbol_clasi.score(X_test, y_test)\n",
        "print(\"Precision: \"+str(accuary*100)+\" %\")"
      ],
      "execution_count": 66,
      "outputs": [
        {
          "output_type": "stream",
          "name": "stdout",
          "text": [
            "Precision: 90.57978051859766 %\n"
          ]
        }
      ]
    },
    {
      "cell_type": "code",
      "metadata": {
        "colab": {
          "base_uri": "https://localhost:8080/"
        },
        "id": "q-kb-OTMTiWT",
        "outputId": "92f29fb7-164a-4402-9355-a3c3ce480813"
      },
      "source": [
        "X.keys()"
      ],
      "execution_count": 67,
      "outputs": [
        {
          "output_type": "execute_result",
          "data": {
            "text/plain": [
              "Index(['edad', 'trabajo', 'estado_civil ', 'educacion', 'total_hijos',\n",
              "       'credito_sin_pago', 'prestamo_vivienda', 'prestamo_personal',\n",
              "       'valor_prestamo', 'dias_ultimo_pago', 'tarjetas_credito', 'contacto',\n",
              "       'mes', 'dia_semana', 'duracion_ultimo_contacto', 'dias_ultimo_contacto',\n",
              "       'anterior_contacto', 'numero_empleados'],\n",
              "      dtype='object')"
            ]
          },
          "metadata": {},
          "execution_count": 67
        }
      ]
    },
    {
      "cell_type": "code",
      "metadata": {
        "colab": {
          "base_uri": "https://localhost:8080/"
        },
        "id": "gdL5p9wiTl7G",
        "outputId": "1876b063-a772-4273-88be-b237f630d9d0"
      },
      "source": [
        "class_names_list=list(['edad','trabajo','estado_civil ','educacion','total_hijos',\n",
        "                       'credito_sin_pago', 'prestamo_vivienda', 'prestamo_personal',\n",
        "                       'valor_prestamo', 'dias_ultimo_pago', 'tarjetas_credito', 'contacto',\n",
        "                       'mes', 'dia_semana', 'duracion_ultimo_contacto', 'dias_ultimo_contacto',\n",
        "                       'anterior_contacto', 'numero_empleados'])\n",
        "\n",
        "from sklearn.tree import export_graphviz\n",
        "from pydotplus import graph_from_dot_data\n",
        "\n",
        "names = []\n",
        "for i in range(len(X.keys())):\n",
        "  print(X.keys()[i])\n",
        "  names.append(X.keys()[i])\n",
        "\n",
        "print(names)\n",
        "\n",
        "dot_data = export_graphviz(arbol_clasi,feature_names=names, class_names=class_names_list)\n",
        "graph = graph_from_dot_data(dot_data)\n",
        "graph.write_png('mercado_bancario.png')"
      ],
      "execution_count": 69,
      "outputs": [
        {
          "output_type": "stream",
          "name": "stdout",
          "text": [
            "edad\n",
            "trabajo\n",
            "estado_civil \n",
            "educacion\n",
            "total_hijos\n",
            "credito_sin_pago\n",
            "prestamo_vivienda\n",
            "prestamo_personal\n",
            "valor_prestamo\n",
            "dias_ultimo_pago\n",
            "tarjetas_credito\n",
            "contacto\n",
            "mes\n",
            "dia_semana\n",
            "duracion_ultimo_contacto\n",
            "dias_ultimo_contacto\n",
            "anterior_contacto\n",
            "numero_empleados\n",
            "['edad', 'trabajo', 'estado_civil ', 'educacion', 'total_hijos', 'credito_sin_pago', 'prestamo_vivienda', 'prestamo_personal', 'valor_prestamo', 'dias_ultimo_pago', 'tarjetas_credito', 'contacto', 'mes', 'dia_semana', 'duracion_ultimo_contacto', 'dias_ultimo_contacto', 'anterior_contacto', 'numero_empleados']\n"
          ]
        },
        {
          "output_type": "execute_result",
          "data": {
            "text/plain": [
              "True"
            ]
          },
          "metadata": {},
          "execution_count": 69
        }
      ]
    }
  ]
}